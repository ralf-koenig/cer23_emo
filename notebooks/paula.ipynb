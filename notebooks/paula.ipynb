{
 "cells": [
  {
   "cell_type": "code",
   "execution_count": 1,
   "metadata": {
    "ExecuteTime": {
     "end_time": "2023-08-09T19:17:01.899763800Z",
     "start_time": "2023-08-09T19:17:01.075286300Z"
    }
   },
   "outputs": [],
   "source": [
    "import pandas as pd\n",
    "\n",
    "# We need the sys package to load modules from another directory:\n",
    "import sys\n",
    "sys.path.append('../')\n",
    "from preprocessing.preprocessors import *"
   ]
  },
  {
   "cell_type": "code",
   "execution_count": 2,
   "metadata": {
    "ExecuteTime": {
     "end_time": "2023-08-09T19:17:03.389772600Z",
     "start_time": "2023-08-09T19:17:01.903764200Z"
    }
   },
   "outputs": [
    {
     "data": {
      "text/plain": "                                                     text       id  \\\n0                                         That game hurt.  eew5j0j   \n1        >sexuality shouldn’t be a grouping category I...  eemcysk   \n2          You do right, if you don't care then fuck 'em!  ed2mah1   \n3                                      Man I love reddit.  eeibobj   \n4       [NAME] was nowhere near them, he was by the Fa...  eda6yn6   \n...                                                   ...      ...   \n211220                             Everyone likes [NAME].  ee6pagw   \n211221  Well when you’ve imported about a gazillion of...  ef28nod   \n211222                                 That looks amazing  ee8hse1   \n211223  The FDA has plenty to criticize. But like here...  edrhoxh   \n211224  Desktop link: ^^/r/HelperBot_ ^^Downvote ^^to ...  edze9g4   \n\n                     author            subreddit    link_id   parent_id  \\\n0                     Brdd9                  nrl  t3_ajis4z  t1_eew18eq   \n1               TheGreen888     unpopularopinion  t3_ai4q37   t3_ai4q37   \n2                  Labalool          confessions  t3_abru74  t1_ed2m7g7   \n3             MrsRobertshaw             facepalm  t3_ahulml   t3_ahulml   \n4       American_Fascist713  starwarsspeculation  t3_ackt2f  t1_eda65q2   \n...                     ...                  ...        ...         ...   \n211220             Senshado     heroesofthestorm  t3_agjf24   t3_agjf24   \n211221           5inchloser          nottheonion  t3_ak26t3   t3_ak26t3   \n211222           springt1me       shittyfoodporn  t3_agrnqb   t3_agrnqb   \n211223            enamedata             medicine  t3_aejqzd  t1_edrgdtx   \n211224           HelperBot_        MorbidReality  t3_afhw30  t1_edze91s   \n\n         created_utc  rater_id  example_very_unclear  admiration  ...  love  \\\n0       1.548381e+09         1                 False           0  ...     0   \n1       1.548084e+09        37                  True           0  ...     0   \n2       1.546428e+09        37                 False           0  ...     0   \n3       1.547965e+09        18                 False           0  ...     1   \n4       1.546669e+09         2                 False           0  ...     0   \n...              ...       ...                   ...         ...  ...   ...   \n211220  1.547634e+09        16                 False           0  ...     1   \n211221  1.548553e+09        15                 False           0  ...     0   \n211222  1.547684e+09        70                 False           1  ...     0   \n211223  1.547169e+09         4                 False           0  ...     0   \n211224  1.547397e+09        61                  True           0  ...     0   \n\n        nervousness  optimism  pride  realization  relief  remorse  sadness  \\\n0                 0         0      0            0       0        0        1   \n1                 0         0      0            0       0        0        0   \n2                 0         0      0            0       0        0        0   \n3                 0         0      0            0       0        0        0   \n4                 0         0      0            0       0        0        0   \n...             ...       ...    ...          ...     ...      ...      ...   \n211220            0         0      0            0       0        0        0   \n211221            0         0      0            0       0        0        0   \n211222            0         0      0            0       0        0        0   \n211223            0         0      0            0       0        0        0   \n211224            0         0      0            0       0        0        0   \n\n        surprise  neutral  \n0              0        0  \n1              0        0  \n2              0        1  \n3              0        0  \n4              0        1  \n...          ...      ...  \n211220         0        0  \n211221         0        0  \n211222         0        0  \n211223         0        0  \n211224         0        0  \n\n[211225 rows x 37 columns]",
      "text/html": "<div>\n<style scoped>\n    .dataframe tbody tr th:only-of-type {\n        vertical-align: middle;\n    }\n\n    .dataframe tbody tr th {\n        vertical-align: top;\n    }\n\n    .dataframe thead th {\n        text-align: right;\n    }\n</style>\n<table border=\"1\" class=\"dataframe\">\n  <thead>\n    <tr style=\"text-align: right;\">\n      <th></th>\n      <th>text</th>\n      <th>id</th>\n      <th>author</th>\n      <th>subreddit</th>\n      <th>link_id</th>\n      <th>parent_id</th>\n      <th>created_utc</th>\n      <th>rater_id</th>\n      <th>example_very_unclear</th>\n      <th>admiration</th>\n      <th>...</th>\n      <th>love</th>\n      <th>nervousness</th>\n      <th>optimism</th>\n      <th>pride</th>\n      <th>realization</th>\n      <th>relief</th>\n      <th>remorse</th>\n      <th>sadness</th>\n      <th>surprise</th>\n      <th>neutral</th>\n    </tr>\n  </thead>\n  <tbody>\n    <tr>\n      <th>0</th>\n      <td>That game hurt.</td>\n      <td>eew5j0j</td>\n      <td>Brdd9</td>\n      <td>nrl</td>\n      <td>t3_ajis4z</td>\n      <td>t1_eew18eq</td>\n      <td>1.548381e+09</td>\n      <td>1</td>\n      <td>False</td>\n      <td>0</td>\n      <td>...</td>\n      <td>0</td>\n      <td>0</td>\n      <td>0</td>\n      <td>0</td>\n      <td>0</td>\n      <td>0</td>\n      <td>0</td>\n      <td>1</td>\n      <td>0</td>\n      <td>0</td>\n    </tr>\n    <tr>\n      <th>1</th>\n      <td>&gt;sexuality shouldn’t be a grouping category I...</td>\n      <td>eemcysk</td>\n      <td>TheGreen888</td>\n      <td>unpopularopinion</td>\n      <td>t3_ai4q37</td>\n      <td>t3_ai4q37</td>\n      <td>1.548084e+09</td>\n      <td>37</td>\n      <td>True</td>\n      <td>0</td>\n      <td>...</td>\n      <td>0</td>\n      <td>0</td>\n      <td>0</td>\n      <td>0</td>\n      <td>0</td>\n      <td>0</td>\n      <td>0</td>\n      <td>0</td>\n      <td>0</td>\n      <td>0</td>\n    </tr>\n    <tr>\n      <th>2</th>\n      <td>You do right, if you don't care then fuck 'em!</td>\n      <td>ed2mah1</td>\n      <td>Labalool</td>\n      <td>confessions</td>\n      <td>t3_abru74</td>\n      <td>t1_ed2m7g7</td>\n      <td>1.546428e+09</td>\n      <td>37</td>\n      <td>False</td>\n      <td>0</td>\n      <td>...</td>\n      <td>0</td>\n      <td>0</td>\n      <td>0</td>\n      <td>0</td>\n      <td>0</td>\n      <td>0</td>\n      <td>0</td>\n      <td>0</td>\n      <td>0</td>\n      <td>1</td>\n    </tr>\n    <tr>\n      <th>3</th>\n      <td>Man I love reddit.</td>\n      <td>eeibobj</td>\n      <td>MrsRobertshaw</td>\n      <td>facepalm</td>\n      <td>t3_ahulml</td>\n      <td>t3_ahulml</td>\n      <td>1.547965e+09</td>\n      <td>18</td>\n      <td>False</td>\n      <td>0</td>\n      <td>...</td>\n      <td>1</td>\n      <td>0</td>\n      <td>0</td>\n      <td>0</td>\n      <td>0</td>\n      <td>0</td>\n      <td>0</td>\n      <td>0</td>\n      <td>0</td>\n      <td>0</td>\n    </tr>\n    <tr>\n      <th>4</th>\n      <td>[NAME] was nowhere near them, he was by the Fa...</td>\n      <td>eda6yn6</td>\n      <td>American_Fascist713</td>\n      <td>starwarsspeculation</td>\n      <td>t3_ackt2f</td>\n      <td>t1_eda65q2</td>\n      <td>1.546669e+09</td>\n      <td>2</td>\n      <td>False</td>\n      <td>0</td>\n      <td>...</td>\n      <td>0</td>\n      <td>0</td>\n      <td>0</td>\n      <td>0</td>\n      <td>0</td>\n      <td>0</td>\n      <td>0</td>\n      <td>0</td>\n      <td>0</td>\n      <td>1</td>\n    </tr>\n    <tr>\n      <th>...</th>\n      <td>...</td>\n      <td>...</td>\n      <td>...</td>\n      <td>...</td>\n      <td>...</td>\n      <td>...</td>\n      <td>...</td>\n      <td>...</td>\n      <td>...</td>\n      <td>...</td>\n      <td>...</td>\n      <td>...</td>\n      <td>...</td>\n      <td>...</td>\n      <td>...</td>\n      <td>...</td>\n      <td>...</td>\n      <td>...</td>\n      <td>...</td>\n      <td>...</td>\n      <td>...</td>\n    </tr>\n    <tr>\n      <th>211220</th>\n      <td>Everyone likes [NAME].</td>\n      <td>ee6pagw</td>\n      <td>Senshado</td>\n      <td>heroesofthestorm</td>\n      <td>t3_agjf24</td>\n      <td>t3_agjf24</td>\n      <td>1.547634e+09</td>\n      <td>16</td>\n      <td>False</td>\n      <td>0</td>\n      <td>...</td>\n      <td>1</td>\n      <td>0</td>\n      <td>0</td>\n      <td>0</td>\n      <td>0</td>\n      <td>0</td>\n      <td>0</td>\n      <td>0</td>\n      <td>0</td>\n      <td>0</td>\n    </tr>\n    <tr>\n      <th>211221</th>\n      <td>Well when you’ve imported about a gazillion of...</td>\n      <td>ef28nod</td>\n      <td>5inchloser</td>\n      <td>nottheonion</td>\n      <td>t3_ak26t3</td>\n      <td>t3_ak26t3</td>\n      <td>1.548553e+09</td>\n      <td>15</td>\n      <td>False</td>\n      <td>0</td>\n      <td>...</td>\n      <td>0</td>\n      <td>0</td>\n      <td>0</td>\n      <td>0</td>\n      <td>0</td>\n      <td>0</td>\n      <td>0</td>\n      <td>0</td>\n      <td>0</td>\n      <td>0</td>\n    </tr>\n    <tr>\n      <th>211222</th>\n      <td>That looks amazing</td>\n      <td>ee8hse1</td>\n      <td>springt1me</td>\n      <td>shittyfoodporn</td>\n      <td>t3_agrnqb</td>\n      <td>t3_agrnqb</td>\n      <td>1.547684e+09</td>\n      <td>70</td>\n      <td>False</td>\n      <td>1</td>\n      <td>...</td>\n      <td>0</td>\n      <td>0</td>\n      <td>0</td>\n      <td>0</td>\n      <td>0</td>\n      <td>0</td>\n      <td>0</td>\n      <td>0</td>\n      <td>0</td>\n      <td>0</td>\n    </tr>\n    <tr>\n      <th>211223</th>\n      <td>The FDA has plenty to criticize. But like here...</td>\n      <td>edrhoxh</td>\n      <td>enamedata</td>\n      <td>medicine</td>\n      <td>t3_aejqzd</td>\n      <td>t1_edrgdtx</td>\n      <td>1.547169e+09</td>\n      <td>4</td>\n      <td>False</td>\n      <td>0</td>\n      <td>...</td>\n      <td>0</td>\n      <td>0</td>\n      <td>0</td>\n      <td>0</td>\n      <td>0</td>\n      <td>0</td>\n      <td>0</td>\n      <td>0</td>\n      <td>0</td>\n      <td>0</td>\n    </tr>\n    <tr>\n      <th>211224</th>\n      <td>Desktop link: ^^/r/HelperBot_ ^^Downvote ^^to ...</td>\n      <td>edze9g4</td>\n      <td>HelperBot_</td>\n      <td>MorbidReality</td>\n      <td>t3_afhw30</td>\n      <td>t1_edze91s</td>\n      <td>1.547397e+09</td>\n      <td>61</td>\n      <td>True</td>\n      <td>0</td>\n      <td>...</td>\n      <td>0</td>\n      <td>0</td>\n      <td>0</td>\n      <td>0</td>\n      <td>0</td>\n      <td>0</td>\n      <td>0</td>\n      <td>0</td>\n      <td>0</td>\n      <td>0</td>\n    </tr>\n  </tbody>\n</table>\n<p>211225 rows × 37 columns</p>\n</div>"
     },
     "execution_count": 2,
     "metadata": {},
     "output_type": "execute_result"
    }
   ],
   "source": [
    "df = pd.read_csv(\"../data/GoEmotions.csv\")\n",
    "df"
   ]
  },
  {
   "cell_type": "code",
   "execution_count": 3,
   "metadata": {
    "ExecuteTime": {
     "end_time": "2023-08-09T19:17:03.445763700Z",
     "start_time": "2023-08-09T19:17:03.393764600Z"
    }
   },
   "outputs": [
    {
     "data": {
      "text/plain": "Index(['admiration', 'amusement', 'anger', 'annoyance', 'approval', 'caring',\n       'confusion', 'curiosity', 'desire', 'disappointment', 'disapproval',\n       'disgust', 'embarrassment', 'excitement', 'fear', 'gratitude', 'grief',\n       'joy', 'love', 'nervousness', 'optimism', 'pride', 'realization',\n       'relief', 'remorse', 'sadness', 'surprise', 'neutral'],\n      dtype='object')"
     },
     "execution_count": 3,
     "metadata": {},
     "output_type": "execute_result"
    }
   ],
   "source": [
    "emotions = df.columns[9:38]\n",
    "emotions"
   ]
  },
  {
   "cell_type": "code",
   "execution_count": 4,
   "metadata": {
    "ExecuteTime": {
     "end_time": "2023-08-09T19:17:03.551761800Z",
     "start_time": "2023-08-09T19:17:03.409763200Z"
    }
   },
   "outputs": [
    {
     "data": {
      "text/plain": "admiration        17131\namusement          9245\nanger              8084\nannoyance         13618\napproval          17620\ncaring             5999\nconfusion          7359\ncuriosity          9692\ndesire             3817\ndisappointment     8469\ndisapproval       11424\ndisgust            5301\nembarrassment      2476\nexcitement         5629\nfear               3197\ngratitude         11625\ngrief               673\njoy                7983\nlove               8191\nnervousness        1810\noptimism           8715\npride              1302\nrealization        8785\nrelief             1289\nremorse            2525\nsadness            6758\nsurprise           5514\nneutral           55298\ndtype: int64"
     },
     "execution_count": 4,
     "metadata": {},
     "output_type": "execute_result"
    }
   ],
   "source": [
    "# How many occurences per class?\n",
    "label_sum = df.loc[:, emotions].sum()\n",
    "label_sum"
   ]
  },
  {
   "cell_type": "code",
   "execution_count": 5,
   "metadata": {
    "ExecuteTime": {
     "end_time": "2023-08-09T19:17:03.912761Z",
     "start_time": "2023-08-09T19:17:03.470768100Z"
    }
   },
   "outputs": [
    {
     "data": {
      "text/plain": "                                                     text       id  \\\n0                                         That game hurt.  eew5j0j   \n2          You do right, if you don't care then fuck 'em!  ed2mah1   \n3                                      Man I love reddit.  eeibobj   \n4       [NAME] was nowhere near them, he was by the Fa...  eda6yn6   \n5       Right? Considering it’s such an important docu...  eespn2i   \n...                                                   ...      ...   \n211219  Well, I'm glad you're out of all that now. How...  ed89acy   \n211220                             Everyone likes [NAME].  ee6pagw   \n211221  Well when you’ve imported about a gazillion of...  ef28nod   \n211222                                 That looks amazing  ee8hse1   \n211223  The FDA has plenty to criticize. But like here...  edrhoxh   \n\n                     author            subreddit  rater_id  admiration  \\\n0                     Brdd9                  nrl         1           0   \n2                  Labalool          confessions        37           0   \n3             MrsRobertshaw             facepalm        18           0   \n4       American_Fascist713  starwarsspeculation         2           0   \n5              ImperialBoss           TrueReddit        61           0   \n...                     ...                  ...       ...         ...   \n211219          pompompompi  raisedbynarcissists         2           0   \n211220             Senshado     heroesofthestorm        16           0   \n211221           5inchloser          nottheonion        15           0   \n211222           springt1me       shittyfoodporn        70           1   \n211223            enamedata             medicine         4           0   \n\n        amusement  anger  annoyance  approval  ...  love  nervousness  \\\n0               0      0          0         0  ...     0            0   \n2               0      0          0         0  ...     0            0   \n3               0      0          0         0  ...     1            0   \n4               0      0          0         0  ...     0            0   \n5               0      0          0         0  ...     0            0   \n...           ...    ...        ...       ...  ...   ...          ...   \n211219          0      0          0         0  ...     0            0   \n211220          0      0          0         0  ...     1            0   \n211221          0      0          0         0  ...     0            0   \n211222          0      0          0         0  ...     0            0   \n211223          0      1          0         0  ...     0            0   \n\n        optimism  pride  realization  relief  remorse  sadness  surprise  \\\n0              0      0            0       0        0        1         0   \n2              0      0            0       0        0        0         0   \n3              0      0            0       0        0        0         0   \n4              0      0            0       0        0        0         0   \n5              0      0            0       0        0        0         0   \n...          ...    ...          ...     ...      ...      ...       ...   \n211219         0      0            0       0        0        0         0   \n211220         0      0            0       0        0        0         0   \n211221         0      0            0       0        0        0         0   \n211222         0      0            0       0        0        0         0   \n211223         0      0            0       0        0        0         0   \n\n        neutral  \n0             0  \n2             1  \n3             0  \n4             1  \n5             0  \n...         ...  \n211219        0  \n211220        0  \n211221        0  \n211222        0  \n211223        0  \n\n[171820 rows x 33 columns]",
      "text/html": "<div>\n<style scoped>\n    .dataframe tbody tr th:only-of-type {\n        vertical-align: middle;\n    }\n\n    .dataframe tbody tr th {\n        vertical-align: top;\n    }\n\n    .dataframe thead th {\n        text-align: right;\n    }\n</style>\n<table border=\"1\" class=\"dataframe\">\n  <thead>\n    <tr style=\"text-align: right;\">\n      <th></th>\n      <th>text</th>\n      <th>id</th>\n      <th>author</th>\n      <th>subreddit</th>\n      <th>rater_id</th>\n      <th>admiration</th>\n      <th>amusement</th>\n      <th>anger</th>\n      <th>annoyance</th>\n      <th>approval</th>\n      <th>...</th>\n      <th>love</th>\n      <th>nervousness</th>\n      <th>optimism</th>\n      <th>pride</th>\n      <th>realization</th>\n      <th>relief</th>\n      <th>remorse</th>\n      <th>sadness</th>\n      <th>surprise</th>\n      <th>neutral</th>\n    </tr>\n  </thead>\n  <tbody>\n    <tr>\n      <th>0</th>\n      <td>That game hurt.</td>\n      <td>eew5j0j</td>\n      <td>Brdd9</td>\n      <td>nrl</td>\n      <td>1</td>\n      <td>0</td>\n      <td>0</td>\n      <td>0</td>\n      <td>0</td>\n      <td>0</td>\n      <td>...</td>\n      <td>0</td>\n      <td>0</td>\n      <td>0</td>\n      <td>0</td>\n      <td>0</td>\n      <td>0</td>\n      <td>0</td>\n      <td>1</td>\n      <td>0</td>\n      <td>0</td>\n    </tr>\n    <tr>\n      <th>2</th>\n      <td>You do right, if you don't care then fuck 'em!</td>\n      <td>ed2mah1</td>\n      <td>Labalool</td>\n      <td>confessions</td>\n      <td>37</td>\n      <td>0</td>\n      <td>0</td>\n      <td>0</td>\n      <td>0</td>\n      <td>0</td>\n      <td>...</td>\n      <td>0</td>\n      <td>0</td>\n      <td>0</td>\n      <td>0</td>\n      <td>0</td>\n      <td>0</td>\n      <td>0</td>\n      <td>0</td>\n      <td>0</td>\n      <td>1</td>\n    </tr>\n    <tr>\n      <th>3</th>\n      <td>Man I love reddit.</td>\n      <td>eeibobj</td>\n      <td>MrsRobertshaw</td>\n      <td>facepalm</td>\n      <td>18</td>\n      <td>0</td>\n      <td>0</td>\n      <td>0</td>\n      <td>0</td>\n      <td>0</td>\n      <td>...</td>\n      <td>1</td>\n      <td>0</td>\n      <td>0</td>\n      <td>0</td>\n      <td>0</td>\n      <td>0</td>\n      <td>0</td>\n      <td>0</td>\n      <td>0</td>\n      <td>0</td>\n    </tr>\n    <tr>\n      <th>4</th>\n      <td>[NAME] was nowhere near them, he was by the Fa...</td>\n      <td>eda6yn6</td>\n      <td>American_Fascist713</td>\n      <td>starwarsspeculation</td>\n      <td>2</td>\n      <td>0</td>\n      <td>0</td>\n      <td>0</td>\n      <td>0</td>\n      <td>0</td>\n      <td>...</td>\n      <td>0</td>\n      <td>0</td>\n      <td>0</td>\n      <td>0</td>\n      <td>0</td>\n      <td>0</td>\n      <td>0</td>\n      <td>0</td>\n      <td>0</td>\n      <td>1</td>\n    </tr>\n    <tr>\n      <th>5</th>\n      <td>Right? Considering it’s such an important docu...</td>\n      <td>eespn2i</td>\n      <td>ImperialBoss</td>\n      <td>TrueReddit</td>\n      <td>61</td>\n      <td>0</td>\n      <td>0</td>\n      <td>0</td>\n      <td>0</td>\n      <td>0</td>\n      <td>...</td>\n      <td>0</td>\n      <td>0</td>\n      <td>0</td>\n      <td>0</td>\n      <td>0</td>\n      <td>0</td>\n      <td>0</td>\n      <td>0</td>\n      <td>0</td>\n      <td>0</td>\n    </tr>\n    <tr>\n      <th>...</th>\n      <td>...</td>\n      <td>...</td>\n      <td>...</td>\n      <td>...</td>\n      <td>...</td>\n      <td>...</td>\n      <td>...</td>\n      <td>...</td>\n      <td>...</td>\n      <td>...</td>\n      <td>...</td>\n      <td>...</td>\n      <td>...</td>\n      <td>...</td>\n      <td>...</td>\n      <td>...</td>\n      <td>...</td>\n      <td>...</td>\n      <td>...</td>\n      <td>...</td>\n      <td>...</td>\n    </tr>\n    <tr>\n      <th>211219</th>\n      <td>Well, I'm glad you're out of all that now. How...</td>\n      <td>ed89acy</td>\n      <td>pompompompi</td>\n      <td>raisedbynarcissists</td>\n      <td>2</td>\n      <td>0</td>\n      <td>0</td>\n      <td>0</td>\n      <td>0</td>\n      <td>0</td>\n      <td>...</td>\n      <td>0</td>\n      <td>0</td>\n      <td>0</td>\n      <td>0</td>\n      <td>0</td>\n      <td>0</td>\n      <td>0</td>\n      <td>0</td>\n      <td>0</td>\n      <td>0</td>\n    </tr>\n    <tr>\n      <th>211220</th>\n      <td>Everyone likes [NAME].</td>\n      <td>ee6pagw</td>\n      <td>Senshado</td>\n      <td>heroesofthestorm</td>\n      <td>16</td>\n      <td>0</td>\n      <td>0</td>\n      <td>0</td>\n      <td>0</td>\n      <td>0</td>\n      <td>...</td>\n      <td>1</td>\n      <td>0</td>\n      <td>0</td>\n      <td>0</td>\n      <td>0</td>\n      <td>0</td>\n      <td>0</td>\n      <td>0</td>\n      <td>0</td>\n      <td>0</td>\n    </tr>\n    <tr>\n      <th>211221</th>\n      <td>Well when you’ve imported about a gazillion of...</td>\n      <td>ef28nod</td>\n      <td>5inchloser</td>\n      <td>nottheonion</td>\n      <td>15</td>\n      <td>0</td>\n      <td>0</td>\n      <td>0</td>\n      <td>0</td>\n      <td>0</td>\n      <td>...</td>\n      <td>0</td>\n      <td>0</td>\n      <td>0</td>\n      <td>0</td>\n      <td>0</td>\n      <td>0</td>\n      <td>0</td>\n      <td>0</td>\n      <td>0</td>\n      <td>0</td>\n    </tr>\n    <tr>\n      <th>211222</th>\n      <td>That looks amazing</td>\n      <td>ee8hse1</td>\n      <td>springt1me</td>\n      <td>shittyfoodporn</td>\n      <td>70</td>\n      <td>1</td>\n      <td>0</td>\n      <td>0</td>\n      <td>0</td>\n      <td>0</td>\n      <td>...</td>\n      <td>0</td>\n      <td>0</td>\n      <td>0</td>\n      <td>0</td>\n      <td>0</td>\n      <td>0</td>\n      <td>0</td>\n      <td>0</td>\n      <td>0</td>\n      <td>0</td>\n    </tr>\n    <tr>\n      <th>211223</th>\n      <td>The FDA has plenty to criticize. But like here...</td>\n      <td>edrhoxh</td>\n      <td>enamedata</td>\n      <td>medicine</td>\n      <td>4</td>\n      <td>0</td>\n      <td>0</td>\n      <td>1</td>\n      <td>0</td>\n      <td>0</td>\n      <td>...</td>\n      <td>0</td>\n      <td>0</td>\n      <td>0</td>\n      <td>0</td>\n      <td>0</td>\n      <td>0</td>\n      <td>0</td>\n      <td>0</td>\n      <td>0</td>\n      <td>0</td>\n    </tr>\n  </tbody>\n</table>\n<p>171820 rows × 33 columns</p>\n</div>"
     },
     "execution_count": 5,
     "metadata": {},
     "output_type": "execute_result"
    }
   ],
   "source": [
    "df_clean = clean_df(df)\n",
    "df_clean\n"
   ]
  },
  {
   "cell_type": "code",
   "execution_count": 8,
   "metadata": {
    "ExecuteTime": {
     "end_time": "2023-08-09T20:16:04.443322400Z",
     "start_time": "2023-08-09T20:16:03.435170400Z"
    }
   },
   "outputs": [
    {
     "data": {
      "text/plain": "                                                     text       id  \\\n0                                         That game hurt.  eew5j0j   \n2          You do right, if you don't care then fuck 'em!  ed2mah1   \n3                                      Man I love reddit.  eeibobj   \n4       [NAME] was nowhere near them, he was by the Fa...  eda6yn6   \n5       Right? Considering it’s such an important docu...  eespn2i   \n...                                                   ...      ...   \n211219  Well, I'm glad you're out of all that now. How...  ed89acy   \n211220                             Everyone likes [NAME].  ee6pagw   \n211221  Well when you’ve imported about a gazillion of...  ef28nod   \n211222                                 That looks amazing  ee8hse1   \n211223  The FDA has plenty to criticize. But like here...  edrhoxh   \n\n                     author            subreddit  rater_id      level0  \\\n0                     Brdd9                  nrl         1     sadness   \n2                  Labalool          confessions        37     neutral   \n3             MrsRobertshaw             facepalm        18        love   \n4       American_Fascist713  starwarsspeculation         2     neutral   \n5              ImperialBoss           TrueReddit        61   gratitude   \n...                     ...                  ...       ...         ...   \n211219          pompompompi  raisedbynarcissists         2         joy   \n211220             Senshado     heroesofthestorm        16        love   \n211221           5inchloser          nottheonion        15      caring   \n211222           springt1me       shittyfoodporn        70  admiration   \n211223            enamedata             medicine         4       anger   \n\n         level1           level2                   level3    plutchik  \n0       dis_sad      dis_sad_gri      rem_emb_dis_sad_gri       grief  \n2       neutral          neutral                  neutral     neutral  \n3          love      exc_joy_lov          amu_exc_joy_lov        love  \n4       neutral          neutral                  neutral     neutral  \n5       gra_rel  pri_adm_gra_rel  pri_adm_gra_rel_app_rea         awe  \n...         ...              ...                      ...         ...  \n211219  exc_joy      exc_joy_lov          amu_exc_joy_lov     ecstasy  \n211220     love      exc_joy_lov          amu_exc_joy_lov        love  \n211221   caring      des_opt_car              des_opt_car  admiration  \n211222  pri_adm  pri_adm_gra_rel  pri_adm_gra_rel_app_rea  admiration  \n211223  ang_ann      dis_ang_ann          dis_ang_ann_dis        rage  \n\n[171820 rows x 10 columns]",
      "text/html": "<div>\n<style scoped>\n    .dataframe tbody tr th:only-of-type {\n        vertical-align: middle;\n    }\n\n    .dataframe tbody tr th {\n        vertical-align: top;\n    }\n\n    .dataframe thead th {\n        text-align: right;\n    }\n</style>\n<table border=\"1\" class=\"dataframe\">\n  <thead>\n    <tr style=\"text-align: right;\">\n      <th></th>\n      <th>text</th>\n      <th>id</th>\n      <th>author</th>\n      <th>subreddit</th>\n      <th>rater_id</th>\n      <th>level0</th>\n      <th>level1</th>\n      <th>level2</th>\n      <th>level3</th>\n      <th>plutchik</th>\n    </tr>\n  </thead>\n  <tbody>\n    <tr>\n      <th>0</th>\n      <td>That game hurt.</td>\n      <td>eew5j0j</td>\n      <td>Brdd9</td>\n      <td>nrl</td>\n      <td>1</td>\n      <td>sadness</td>\n      <td>dis_sad</td>\n      <td>dis_sad_gri</td>\n      <td>rem_emb_dis_sad_gri</td>\n      <td>grief</td>\n    </tr>\n    <tr>\n      <th>2</th>\n      <td>You do right, if you don't care then fuck 'em!</td>\n      <td>ed2mah1</td>\n      <td>Labalool</td>\n      <td>confessions</td>\n      <td>37</td>\n      <td>neutral</td>\n      <td>neutral</td>\n      <td>neutral</td>\n      <td>neutral</td>\n      <td>neutral</td>\n    </tr>\n    <tr>\n      <th>3</th>\n      <td>Man I love reddit.</td>\n      <td>eeibobj</td>\n      <td>MrsRobertshaw</td>\n      <td>facepalm</td>\n      <td>18</td>\n      <td>love</td>\n      <td>love</td>\n      <td>exc_joy_lov</td>\n      <td>amu_exc_joy_lov</td>\n      <td>love</td>\n    </tr>\n    <tr>\n      <th>4</th>\n      <td>[NAME] was nowhere near them, he was by the Fa...</td>\n      <td>eda6yn6</td>\n      <td>American_Fascist713</td>\n      <td>starwarsspeculation</td>\n      <td>2</td>\n      <td>neutral</td>\n      <td>neutral</td>\n      <td>neutral</td>\n      <td>neutral</td>\n      <td>neutral</td>\n    </tr>\n    <tr>\n      <th>5</th>\n      <td>Right? Considering it’s such an important docu...</td>\n      <td>eespn2i</td>\n      <td>ImperialBoss</td>\n      <td>TrueReddit</td>\n      <td>61</td>\n      <td>gratitude</td>\n      <td>gra_rel</td>\n      <td>pri_adm_gra_rel</td>\n      <td>pri_adm_gra_rel_app_rea</td>\n      <td>awe</td>\n    </tr>\n    <tr>\n      <th>...</th>\n      <td>...</td>\n      <td>...</td>\n      <td>...</td>\n      <td>...</td>\n      <td>...</td>\n      <td>...</td>\n      <td>...</td>\n      <td>...</td>\n      <td>...</td>\n      <td>...</td>\n    </tr>\n    <tr>\n      <th>211219</th>\n      <td>Well, I'm glad you're out of all that now. How...</td>\n      <td>ed89acy</td>\n      <td>pompompompi</td>\n      <td>raisedbynarcissists</td>\n      <td>2</td>\n      <td>joy</td>\n      <td>exc_joy</td>\n      <td>exc_joy_lov</td>\n      <td>amu_exc_joy_lov</td>\n      <td>ecstasy</td>\n    </tr>\n    <tr>\n      <th>211220</th>\n      <td>Everyone likes [NAME].</td>\n      <td>ee6pagw</td>\n      <td>Senshado</td>\n      <td>heroesofthestorm</td>\n      <td>16</td>\n      <td>love</td>\n      <td>love</td>\n      <td>exc_joy_lov</td>\n      <td>amu_exc_joy_lov</td>\n      <td>love</td>\n    </tr>\n    <tr>\n      <th>211221</th>\n      <td>Well when you’ve imported about a gazillion of...</td>\n      <td>ef28nod</td>\n      <td>5inchloser</td>\n      <td>nottheonion</td>\n      <td>15</td>\n      <td>caring</td>\n      <td>caring</td>\n      <td>des_opt_car</td>\n      <td>des_opt_car</td>\n      <td>admiration</td>\n    </tr>\n    <tr>\n      <th>211222</th>\n      <td>That looks amazing</td>\n      <td>ee8hse1</td>\n      <td>springt1me</td>\n      <td>shittyfoodporn</td>\n      <td>70</td>\n      <td>admiration</td>\n      <td>pri_adm</td>\n      <td>pri_adm_gra_rel</td>\n      <td>pri_adm_gra_rel_app_rea</td>\n      <td>admiration</td>\n    </tr>\n    <tr>\n      <th>211223</th>\n      <td>The FDA has plenty to criticize. But like here...</td>\n      <td>edrhoxh</td>\n      <td>enamedata</td>\n      <td>medicine</td>\n      <td>4</td>\n      <td>anger</td>\n      <td>ang_ann</td>\n      <td>dis_ang_ann</td>\n      <td>dis_ang_ann_dis</td>\n      <td>rage</td>\n    </tr>\n  </tbody>\n</table>\n<p>171820 rows × 10 columns</p>\n</div>"
     },
     "execution_count": 8,
     "metadata": {},
     "output_type": "execute_result"
    }
   ],
   "source": [
    "create_clustered_df(df_clean)"
   ]
  }
 ],
 "metadata": {
  "kernelspec": {
   "display_name": "emo",
   "language": "python",
   "name": "python3"
  },
  "language_info": {
   "codemirror_mode": {
    "name": "ipython",
    "version": 3
   },
   "file_extension": ".py",
   "mimetype": "text/x-python",
   "name": "python",
   "nbconvert_exporter": "python",
   "pygments_lexer": "ipython3",
   "version": "3.11.4"
  },
  "orig_nbformat": 4
 },
 "nbformat": 4,
 "nbformat_minor": 2
}
