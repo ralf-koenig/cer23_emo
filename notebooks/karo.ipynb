{
 "cells": [
  {
   "cell_type": "markdown",
   "metadata": {},
   "source": [
    "### Multi-Class Text Classification for Emotions using BERT"
   ]
  },
  {
   "cell_type": "code",
   "execution_count": 2,
   "metadata": {},
   "outputs": [],
   "source": [
    "# ! pip install datasets huggingface_hub ipywidgets evaluate 'transformers[torch]' torch xformers plotnine sentencepiece"
   ]
  },
  {
   "cell_type": "code",
   "execution_count": 1,
   "metadata": {},
   "outputs": [],
   "source": [
    "import numpy as np\n",
    "import pandas as pd\n",
    "\n",
    "# We need the sys package to load modules from another directory:\n",
    "import sys\n",
    "sys.path.append('../')\n",
    "from preprocessing.preprocessors import *\n",
    "\n",
    "import random\n",
    "import evaluate\n",
    "\n",
    "from datasets import Dataset\n",
    "from sklearn.metrics import classification_report\n",
    "from transformers import AutoTokenizer\n",
    "from transformers import DataCollatorWithPadding\n",
    "from transformers import AutoModelForSequenceClassification, TrainingArguments, Trainer\n",
    "from transformers import pipeline\n",
    "from tqdm import tqdm\n",
    "\n",
    "from plotnine import ggplot, aes, geom_tile, coord_flip,theme,geom_line,labs,element_text\n",
    "from plotnine import scale_x_discrete,geom_vline\n"
   ]
  },
  {
   "cell_type": "markdown",
   "metadata": {},
   "source": [
    "#### Get the data"
   ]
  },
  {
   "cell_type": "code",
   "execution_count": 2,
   "metadata": {},
   "outputs": [
    {
     "name": "stdout",
     "output_type": "stream",
     "text": [
      "The data has 171820 row and 33 columns\n"
     ]
    },
    {
     "data": {
      "text/html": [
       "<div>\n",
       "<style scoped>\n",
       "    .dataframe tbody tr th:only-of-type {\n",
       "        vertical-align: middle;\n",
       "    }\n",
       "\n",
       "    .dataframe tbody tr th {\n",
       "        vertical-align: top;\n",
       "    }\n",
       "\n",
       "    .dataframe thead th {\n",
       "        text-align: right;\n",
       "    }\n",
       "</style>\n",
       "<table border=\"1\" class=\"dataframe\">\n",
       "  <thead>\n",
       "    <tr style=\"text-align: right;\">\n",
       "      <th></th>\n",
       "      <th>text</th>\n",
       "      <th>id</th>\n",
       "      <th>author</th>\n",
       "      <th>subreddit</th>\n",
       "      <th>rater_id</th>\n",
       "      <th>admiration</th>\n",
       "      <th>amusement</th>\n",
       "      <th>anger</th>\n",
       "      <th>annoyance</th>\n",
       "      <th>approval</th>\n",
       "      <th>...</th>\n",
       "      <th>love</th>\n",
       "      <th>nervousness</th>\n",
       "      <th>optimism</th>\n",
       "      <th>pride</th>\n",
       "      <th>realization</th>\n",
       "      <th>relief</th>\n",
       "      <th>remorse</th>\n",
       "      <th>sadness</th>\n",
       "      <th>surprise</th>\n",
       "      <th>neutral</th>\n",
       "    </tr>\n",
       "  </thead>\n",
       "  <tbody>\n",
       "    <tr>\n",
       "      <th>0</th>\n",
       "      <td>That game hurt.</td>\n",
       "      <td>eew5j0j</td>\n",
       "      <td>Brdd9</td>\n",
       "      <td>nrl</td>\n",
       "      <td>1</td>\n",
       "      <td>0</td>\n",
       "      <td>0</td>\n",
       "      <td>0</td>\n",
       "      <td>0</td>\n",
       "      <td>0</td>\n",
       "      <td>...</td>\n",
       "      <td>0</td>\n",
       "      <td>0</td>\n",
       "      <td>0</td>\n",
       "      <td>0</td>\n",
       "      <td>0</td>\n",
       "      <td>0</td>\n",
       "      <td>0</td>\n",
       "      <td>1</td>\n",
       "      <td>0</td>\n",
       "      <td>0</td>\n",
       "    </tr>\n",
       "    <tr>\n",
       "      <th>2</th>\n",
       "      <td>You do right, if you don't care then fuck 'em!</td>\n",
       "      <td>ed2mah1</td>\n",
       "      <td>Labalool</td>\n",
       "      <td>confessions</td>\n",
       "      <td>37</td>\n",
       "      <td>0</td>\n",
       "      <td>0</td>\n",
       "      <td>0</td>\n",
       "      <td>0</td>\n",
       "      <td>0</td>\n",
       "      <td>...</td>\n",
       "      <td>0</td>\n",
       "      <td>0</td>\n",
       "      <td>0</td>\n",
       "      <td>0</td>\n",
       "      <td>0</td>\n",
       "      <td>0</td>\n",
       "      <td>0</td>\n",
       "      <td>0</td>\n",
       "      <td>0</td>\n",
       "      <td>1</td>\n",
       "    </tr>\n",
       "    <tr>\n",
       "      <th>3</th>\n",
       "      <td>Man I love reddit.</td>\n",
       "      <td>eeibobj</td>\n",
       "      <td>MrsRobertshaw</td>\n",
       "      <td>facepalm</td>\n",
       "      <td>18</td>\n",
       "      <td>0</td>\n",
       "      <td>0</td>\n",
       "      <td>0</td>\n",
       "      <td>0</td>\n",
       "      <td>0</td>\n",
       "      <td>...</td>\n",
       "      <td>1</td>\n",
       "      <td>0</td>\n",
       "      <td>0</td>\n",
       "      <td>0</td>\n",
       "      <td>0</td>\n",
       "      <td>0</td>\n",
       "      <td>0</td>\n",
       "      <td>0</td>\n",
       "      <td>0</td>\n",
       "      <td>0</td>\n",
       "    </tr>\n",
       "  </tbody>\n",
       "</table>\n",
       "<p>3 rows × 33 columns</p>\n",
       "</div>"
      ],
      "text/plain": [
       "                                             text       id         author  \\\n",
       "0                                 That game hurt.  eew5j0j          Brdd9   \n",
       "2  You do right, if you don't care then fuck 'em!  ed2mah1       Labalool   \n",
       "3                              Man I love reddit.  eeibobj  MrsRobertshaw   \n",
       "\n",
       "     subreddit  rater_id  admiration  amusement  anger  annoyance  approval  \\\n",
       "0          nrl         1           0          0      0          0         0   \n",
       "2  confessions        37           0          0      0          0         0   \n",
       "3     facepalm        18           0          0      0          0         0   \n",
       "\n",
       "   ...  love  nervousness  optimism  pride  realization  relief  remorse  \\\n",
       "0  ...     0            0         0      0            0       0        0   \n",
       "2  ...     0            0         0      0            0       0        0   \n",
       "3  ...     1            0         0      0            0       0        0   \n",
       "\n",
       "   sadness  surprise  neutral  \n",
       "0        1         0        0  \n",
       "2        0         0        1  \n",
       "3        0         0        0  \n",
       "\n",
       "[3 rows x 33 columns]"
      ]
     },
     "execution_count": 2,
     "metadata": {},
     "output_type": "execute_result"
    }
   ],
   "source": [
    "df = pd.read_csv(\"../data/GoEmotions.csv\")\n",
    "df_clean = clean_df(df)\n",
    "r, c = df_clean.shape\n",
    "print(f\"The data has {r} row and {c} columns\")\n",
    "df_clean.head(3)"
   ]
  },
  {
   "cell_type": "code",
   "execution_count": 6,
   "metadata": {},
   "outputs": [
    {
     "name": "stdout",
     "output_type": "stream",
     "text": [
      "The data has 171820 row and 10 columns\n"
     ]
    },
    {
     "data": {
      "text/html": [
       "<div>\n",
       "<style scoped>\n",
       "    .dataframe tbody tr th:only-of-type {\n",
       "        vertical-align: middle;\n",
       "    }\n",
       "\n",
       "    .dataframe tbody tr th {\n",
       "        vertical-align: top;\n",
       "    }\n",
       "\n",
       "    .dataframe thead th {\n",
       "        text-align: right;\n",
       "    }\n",
       "</style>\n",
       "<table border=\"1\" class=\"dataframe\">\n",
       "  <thead>\n",
       "    <tr style=\"text-align: right;\">\n",
       "      <th></th>\n",
       "      <th>text</th>\n",
       "      <th>id</th>\n",
       "      <th>author</th>\n",
       "      <th>subreddit</th>\n",
       "      <th>rater_id</th>\n",
       "      <th>level0</th>\n",
       "      <th>level1</th>\n",
       "      <th>level2</th>\n",
       "      <th>level3</th>\n",
       "      <th>plutchik</th>\n",
       "    </tr>\n",
       "  </thead>\n",
       "  <tbody>\n",
       "    <tr>\n",
       "      <th>0</th>\n",
       "      <td>That game hurt.</td>\n",
       "      <td>eew5j0j</td>\n",
       "      <td>Brdd9</td>\n",
       "      <td>nrl</td>\n",
       "      <td>1</td>\n",
       "      <td>sadness</td>\n",
       "      <td>dis_sad</td>\n",
       "      <td>dis_sad_gri</td>\n",
       "      <td>rem_emb_dis_sad_gri</td>\n",
       "      <td>grief</td>\n",
       "    </tr>\n",
       "    <tr>\n",
       "      <th>2</th>\n",
       "      <td>You do right, if you don't care then fuck 'em!</td>\n",
       "      <td>ed2mah1</td>\n",
       "      <td>Labalool</td>\n",
       "      <td>confessions</td>\n",
       "      <td>37</td>\n",
       "      <td>neutral</td>\n",
       "      <td>neutral</td>\n",
       "      <td>neutral</td>\n",
       "      <td>neutral</td>\n",
       "      <td>neutral</td>\n",
       "    </tr>\n",
       "    <tr>\n",
       "      <th>3</th>\n",
       "      <td>Man I love reddit.</td>\n",
       "      <td>eeibobj</td>\n",
       "      <td>MrsRobertshaw</td>\n",
       "      <td>facepalm</td>\n",
       "      <td>18</td>\n",
       "      <td>love</td>\n",
       "      <td>love</td>\n",
       "      <td>exc_joy_lov</td>\n",
       "      <td>amu_exc_joy_lov</td>\n",
       "      <td>love</td>\n",
       "    </tr>\n",
       "  </tbody>\n",
       "</table>\n",
       "</div>"
      ],
      "text/plain": [
       "                                             text       id         author  \\\n",
       "0                                 That game hurt.  eew5j0j          Brdd9   \n",
       "2  You do right, if you don't care then fuck 'em!  ed2mah1       Labalool   \n",
       "3                              Man I love reddit.  eeibobj  MrsRobertshaw   \n",
       "\n",
       "     subreddit  rater_id   level0   level1       level2               level3  \\\n",
       "0          nrl         1  sadness  dis_sad  dis_sad_gri  rem_emb_dis_sad_gri   \n",
       "2  confessions        37  neutral  neutral      neutral              neutral   \n",
       "3     facepalm        18     love     love  exc_joy_lov      amu_exc_joy_lov   \n",
       "\n",
       "  plutchik  \n",
       "0    grief  \n",
       "2  neutral  \n",
       "3     love  "
      ]
     },
     "execution_count": 6,
     "metadata": {},
     "output_type": "execute_result"
    }
   ],
   "source": [
    "pivoted_df = create_pivoted_df(df_clean)\n",
    "hierarchical_df = add_hierarchical_levels(pivoted_df)\n",
    "r, c = hierarchical_df.shape\n",
    "print(f\"The data has {r} row and {c} columns\")\n",
    "hierarchical_df.head(3)"
   ]
  },
  {
   "cell_type": "code",
   "execution_count": 7,
   "metadata": {},
   "outputs": [
    {
     "name": "stdout",
     "output_type": "stream",
     "text": [
      "The majority voted data has 43379 row and 2 columns\n"
     ]
    }
   ],
   "source": [
    "# use majority vote for texts with more than one label (from different raters) to only have one gold standard\n",
    "majority_vote_df = majority_voted_df(hierarchical_df)\n",
    "r, c = majority_vote_df.shape\n",
    "print(f\"The majority voted data has {r} row and {c} columns\")"
   ]
  },
  {
   "cell_type": "code",
   "execution_count": 8,
   "metadata": {},
   "outputs": [
    {
     "name": "stdout",
     "output_type": "stream",
     "text": [
      "The data has 93683 row and 10 columns\n"
     ]
    },
    {
     "data": {
      "text/html": [
       "<div>\n",
       "<style scoped>\n",
       "    .dataframe tbody tr th:only-of-type {\n",
       "        vertical-align: middle;\n",
       "    }\n",
       "\n",
       "    .dataframe tbody tr th {\n",
       "        vertical-align: top;\n",
       "    }\n",
       "\n",
       "    .dataframe thead th {\n",
       "        text-align: right;\n",
       "    }\n",
       "</style>\n",
       "<table border=\"1\" class=\"dataframe\">\n",
       "  <thead>\n",
       "    <tr style=\"text-align: right;\">\n",
       "      <th></th>\n",
       "      <th>text</th>\n",
       "      <th>id</th>\n",
       "      <th>author</th>\n",
       "      <th>subreddit</th>\n",
       "      <th>rater_id</th>\n",
       "      <th>level0</th>\n",
       "      <th>level1</th>\n",
       "      <th>level2</th>\n",
       "      <th>level3</th>\n",
       "      <th>plutchik</th>\n",
       "    </tr>\n",
       "  </thead>\n",
       "  <tbody>\n",
       "    <tr>\n",
       "      <th>0</th>\n",
       "      <td>That game hurt.</td>\n",
       "      <td>eew5j0j</td>\n",
       "      <td>Brdd9</td>\n",
       "      <td>nrl</td>\n",
       "      <td>1</td>\n",
       "      <td>sadness</td>\n",
       "      <td>dis_sad</td>\n",
       "      <td>dis_sad_gri</td>\n",
       "      <td>rem_emb_dis_sad_gri</td>\n",
       "      <td>grief</td>\n",
       "    </tr>\n",
       "    <tr>\n",
       "      <th>1</th>\n",
       "      <td>That game hurt.</td>\n",
       "      <td>eew5j0j</td>\n",
       "      <td>Brdd9</td>\n",
       "      <td>nrl</td>\n",
       "      <td>52</td>\n",
       "      <td>sadness</td>\n",
       "      <td>dis_sad</td>\n",
       "      <td>dis_sad_gri</td>\n",
       "      <td>rem_emb_dis_sad_gri</td>\n",
       "      <td>grief</td>\n",
       "    </tr>\n",
       "    <tr>\n",
       "      <th>2</th>\n",
       "      <td>You do right, if you don't care then fuck 'em!</td>\n",
       "      <td>ed2mah1</td>\n",
       "      <td>Labalool</td>\n",
       "      <td>confessions</td>\n",
       "      <td>37</td>\n",
       "      <td>neutral</td>\n",
       "      <td>neutral</td>\n",
       "      <td>neutral</td>\n",
       "      <td>neutral</td>\n",
       "      <td>neutral</td>\n",
       "    </tr>\n",
       "    <tr>\n",
       "      <th>3</th>\n",
       "      <td>You do right, if you don't care then fuck 'em!</td>\n",
       "      <td>ed2mah1</td>\n",
       "      <td>Labalool</td>\n",
       "      <td>confessions</td>\n",
       "      <td>50</td>\n",
       "      <td>neutral</td>\n",
       "      <td>neutral</td>\n",
       "      <td>neutral</td>\n",
       "      <td>neutral</td>\n",
       "      <td>neutral</td>\n",
       "    </tr>\n",
       "    <tr>\n",
       "      <th>4</th>\n",
       "      <td>Man I love reddit.</td>\n",
       "      <td>eeibobj</td>\n",
       "      <td>MrsRobertshaw</td>\n",
       "      <td>facepalm</td>\n",
       "      <td>18</td>\n",
       "      <td>love</td>\n",
       "      <td>love</td>\n",
       "      <td>exc_joy_lov</td>\n",
       "      <td>amu_exc_joy_lov</td>\n",
       "      <td>love</td>\n",
       "    </tr>\n",
       "    <tr>\n",
       "      <th>...</th>\n",
       "      <td>...</td>\n",
       "      <td>...</td>\n",
       "      <td>...</td>\n",
       "      <td>...</td>\n",
       "      <td>...</td>\n",
       "      <td>...</td>\n",
       "      <td>...</td>\n",
       "      <td>...</td>\n",
       "      <td>...</td>\n",
       "      <td>...</td>\n",
       "    </tr>\n",
       "    <tr>\n",
       "      <th>93678</th>\n",
       "      <td>i hate that it's over an interstate bridge so ...</td>\n",
       "      <td>eetqysc</td>\n",
       "      <td>second_ary</td>\n",
       "      <td>houston</td>\n",
       "      <td>76</td>\n",
       "      <td>anger</td>\n",
       "      <td>ang_ann</td>\n",
       "      <td>dis_ang_ann</td>\n",
       "      <td>dis_ang_ann_dis</td>\n",
       "      <td>rage</td>\n",
       "    </tr>\n",
       "    <tr>\n",
       "      <th>93679</th>\n",
       "      <td>He called [NAME] to the Steelers and was outsp...</td>\n",
       "      <td>eed7qdq</td>\n",
       "      <td>sw337</td>\n",
       "      <td>steelers</td>\n",
       "      <td>35</td>\n",
       "      <td>neutral</td>\n",
       "      <td>neutral</td>\n",
       "      <td>neutral</td>\n",
       "      <td>neutral</td>\n",
       "      <td>neutral</td>\n",
       "    </tr>\n",
       "    <tr>\n",
       "      <th>93680</th>\n",
       "      <td>He called [NAME] to the Steelers and was outsp...</td>\n",
       "      <td>eed7qdq</td>\n",
       "      <td>sw337</td>\n",
       "      <td>steelers</td>\n",
       "      <td>36</td>\n",
       "      <td>neutral</td>\n",
       "      <td>neutral</td>\n",
       "      <td>neutral</td>\n",
       "      <td>neutral</td>\n",
       "      <td>neutral</td>\n",
       "    </tr>\n",
       "    <tr>\n",
       "      <th>93681</th>\n",
       "      <td>That guy who said that it's a good idea to nev...</td>\n",
       "      <td>edwrnhz</td>\n",
       "      <td>Plays-0-Cost-Cards</td>\n",
       "      <td>seduction</td>\n",
       "      <td>27</td>\n",
       "      <td>admiration</td>\n",
       "      <td>pri_adm</td>\n",
       "      <td>pri_adm_gra_rel</td>\n",
       "      <td>pri_adm_gra_rel_app_rea</td>\n",
       "      <td>admiration</td>\n",
       "    </tr>\n",
       "    <tr>\n",
       "      <th>93682</th>\n",
       "      <td>The FDA has plenty to criticize. But like here...</td>\n",
       "      <td>edrhoxh</td>\n",
       "      <td>enamedata</td>\n",
       "      <td>medicine</td>\n",
       "      <td>4</td>\n",
       "      <td>anger</td>\n",
       "      <td>ang_ann</td>\n",
       "      <td>dis_ang_ann</td>\n",
       "      <td>dis_ang_ann_dis</td>\n",
       "      <td>rage</td>\n",
       "    </tr>\n",
       "  </tbody>\n",
       "</table>\n",
       "<p>93683 rows × 10 columns</p>\n",
       "</div>"
      ],
      "text/plain": [
       "                                                    text       id  \\\n",
       "0                                        That game hurt.  eew5j0j   \n",
       "1                                        That game hurt.  eew5j0j   \n",
       "2         You do right, if you don't care then fuck 'em!  ed2mah1   \n",
       "3         You do right, if you don't care then fuck 'em!  ed2mah1   \n",
       "4                                     Man I love reddit.  eeibobj   \n",
       "...                                                  ...      ...   \n",
       "93678  i hate that it's over an interstate bridge so ...  eetqysc   \n",
       "93679  He called [NAME] to the Steelers and was outsp...  eed7qdq   \n",
       "93680  He called [NAME] to the Steelers and was outsp...  eed7qdq   \n",
       "93681  That guy who said that it's a good idea to nev...  edwrnhz   \n",
       "93682  The FDA has plenty to criticize. But like here...  edrhoxh   \n",
       "\n",
       "                   author    subreddit  rater_id      level0   level1  \\\n",
       "0                   Brdd9          nrl         1     sadness  dis_sad   \n",
       "1                   Brdd9          nrl        52     sadness  dis_sad   \n",
       "2                Labalool  confessions        37     neutral  neutral   \n",
       "3                Labalool  confessions        50     neutral  neutral   \n",
       "4           MrsRobertshaw     facepalm        18        love     love   \n",
       "...                   ...          ...       ...         ...      ...   \n",
       "93678          second_ary      houston        76       anger  ang_ann   \n",
       "93679               sw337     steelers        35     neutral  neutral   \n",
       "93680               sw337     steelers        36     neutral  neutral   \n",
       "93681  Plays-0-Cost-Cards    seduction        27  admiration  pri_adm   \n",
       "93682           enamedata     medicine         4       anger  ang_ann   \n",
       "\n",
       "                level2                   level3    plutchik  \n",
       "0          dis_sad_gri      rem_emb_dis_sad_gri       grief  \n",
       "1          dis_sad_gri      rem_emb_dis_sad_gri       grief  \n",
       "2              neutral                  neutral     neutral  \n",
       "3              neutral                  neutral     neutral  \n",
       "4          exc_joy_lov          amu_exc_joy_lov        love  \n",
       "...                ...                      ...         ...  \n",
       "93678      dis_ang_ann          dis_ang_ann_dis        rage  \n",
       "93679          neutral                  neutral     neutral  \n",
       "93680          neutral                  neutral     neutral  \n",
       "93681  pri_adm_gra_rel  pri_adm_gra_rel_app_rea  admiration  \n",
       "93682      dis_ang_ann          dis_ang_ann_dis        rage  \n",
       "\n",
       "[93683 rows x 10 columns]"
      ]
     },
     "execution_count": 8,
     "metadata": {},
     "output_type": "execute_result"
    }
   ],
   "source": [
    "clustered_df = hierarchical_df.merge(majority_vote_df, on=['id', 'level0'], how='inner')\n",
    "majority_vote_df\n",
    "r, c = clustered_df.shape\n",
    "print(f\"The data has {r} row and {c} columns\")\n",
    "clustered_df"
   ]
  },
  {
   "cell_type": "code",
   "execution_count": 9,
   "metadata": {},
   "outputs": [
    {
     "name": "stdout",
     "output_type": "stream",
     "text": [
      "The data has 43379 row and 10 columns\n"
     ]
    },
    {
     "data": {
      "text/html": [
       "<div>\n",
       "<style scoped>\n",
       "    .dataframe tbody tr th:only-of-type {\n",
       "        vertical-align: middle;\n",
       "    }\n",
       "\n",
       "    .dataframe tbody tr th {\n",
       "        vertical-align: top;\n",
       "    }\n",
       "\n",
       "    .dataframe thead th {\n",
       "        text-align: right;\n",
       "    }\n",
       "</style>\n",
       "<table border=\"1\" class=\"dataframe\">\n",
       "  <thead>\n",
       "    <tr style=\"text-align: right;\">\n",
       "      <th></th>\n",
       "      <th>text</th>\n",
       "      <th>id</th>\n",
       "      <th>author</th>\n",
       "      <th>subreddit</th>\n",
       "      <th>rater_id</th>\n",
       "      <th>level0</th>\n",
       "      <th>level1</th>\n",
       "      <th>level2</th>\n",
       "      <th>level3</th>\n",
       "      <th>plutchik</th>\n",
       "    </tr>\n",
       "  </thead>\n",
       "  <tbody>\n",
       "    <tr>\n",
       "      <th>0</th>\n",
       "      <td>That game hurt.</td>\n",
       "      <td>eew5j0j</td>\n",
       "      <td>Brdd9</td>\n",
       "      <td>nrl</td>\n",
       "      <td>1</td>\n",
       "      <td>sadness</td>\n",
       "      <td>dis_sad</td>\n",
       "      <td>dis_sad_gri</td>\n",
       "      <td>rem_emb_dis_sad_gri</td>\n",
       "      <td>grief</td>\n",
       "    </tr>\n",
       "    <tr>\n",
       "      <th>2</th>\n",
       "      <td>You do right, if you don't care then fuck 'em!</td>\n",
       "      <td>ed2mah1</td>\n",
       "      <td>Labalool</td>\n",
       "      <td>confessions</td>\n",
       "      <td>37</td>\n",
       "      <td>neutral</td>\n",
       "      <td>neutral</td>\n",
       "      <td>neutral</td>\n",
       "      <td>neutral</td>\n",
       "      <td>neutral</td>\n",
       "    </tr>\n",
       "    <tr>\n",
       "      <th>4</th>\n",
       "      <td>Man I love reddit.</td>\n",
       "      <td>eeibobj</td>\n",
       "      <td>MrsRobertshaw</td>\n",
       "      <td>facepalm</td>\n",
       "      <td>18</td>\n",
       "      <td>love</td>\n",
       "      <td>love</td>\n",
       "      <td>exc_joy_lov</td>\n",
       "      <td>amu_exc_joy_lov</td>\n",
       "      <td>love</td>\n",
       "    </tr>\n",
       "    <tr>\n",
       "      <th>8</th>\n",
       "      <td>[NAME] was nowhere near them, he was by the Fa...</td>\n",
       "      <td>eda6yn6</td>\n",
       "      <td>American_Fascist713</td>\n",
       "      <td>starwarsspeculation</td>\n",
       "      <td>2</td>\n",
       "      <td>neutral</td>\n",
       "      <td>neutral</td>\n",
       "      <td>neutral</td>\n",
       "      <td>neutral</td>\n",
       "      <td>neutral</td>\n",
       "    </tr>\n",
       "    <tr>\n",
       "      <th>11</th>\n",
       "      <td>Right? Considering it’s such an important docu...</td>\n",
       "      <td>eespn2i</td>\n",
       "      <td>ImperialBoss</td>\n",
       "      <td>TrueReddit</td>\n",
       "      <td>61</td>\n",
       "      <td>gratitude</td>\n",
       "      <td>gra_rel</td>\n",
       "      <td>pri_adm_gra_rel</td>\n",
       "      <td>pri_adm_gra_rel_app_rea</td>\n",
       "      <td>awe</td>\n",
       "    </tr>\n",
       "    <tr>\n",
       "      <th>...</th>\n",
       "      <td>...</td>\n",
       "      <td>...</td>\n",
       "      <td>...</td>\n",
       "      <td>...</td>\n",
       "      <td>...</td>\n",
       "      <td>...</td>\n",
       "      <td>...</td>\n",
       "      <td>...</td>\n",
       "      <td>...</td>\n",
       "      <td>...</td>\n",
       "    </tr>\n",
       "    <tr>\n",
       "      <th>93675</th>\n",
       "      <td>Everyone likes [NAME].</td>\n",
       "      <td>ee6pagw</td>\n",
       "      <td>Senshado</td>\n",
       "      <td>heroesofthestorm</td>\n",
       "      <td>57</td>\n",
       "      <td>love</td>\n",
       "      <td>love</td>\n",
       "      <td>exc_joy_lov</td>\n",
       "      <td>amu_exc_joy_lov</td>\n",
       "      <td>love</td>\n",
       "    </tr>\n",
       "    <tr>\n",
       "      <th>93677</th>\n",
       "      <td>i hate that it's over an interstate bridge so ...</td>\n",
       "      <td>eetqysc</td>\n",
       "      <td>second_ary</td>\n",
       "      <td>houston</td>\n",
       "      <td>52</td>\n",
       "      <td>anger</td>\n",
       "      <td>ang_ann</td>\n",
       "      <td>dis_ang_ann</td>\n",
       "      <td>dis_ang_ann_dis</td>\n",
       "      <td>rage</td>\n",
       "    </tr>\n",
       "    <tr>\n",
       "      <th>93679</th>\n",
       "      <td>He called [NAME] to the Steelers and was outsp...</td>\n",
       "      <td>eed7qdq</td>\n",
       "      <td>sw337</td>\n",
       "      <td>steelers</td>\n",
       "      <td>35</td>\n",
       "      <td>neutral</td>\n",
       "      <td>neutral</td>\n",
       "      <td>neutral</td>\n",
       "      <td>neutral</td>\n",
       "      <td>neutral</td>\n",
       "    </tr>\n",
       "    <tr>\n",
       "      <th>93681</th>\n",
       "      <td>That guy who said that it's a good idea to nev...</td>\n",
       "      <td>edwrnhz</td>\n",
       "      <td>Plays-0-Cost-Cards</td>\n",
       "      <td>seduction</td>\n",
       "      <td>27</td>\n",
       "      <td>admiration</td>\n",
       "      <td>pri_adm</td>\n",
       "      <td>pri_adm_gra_rel</td>\n",
       "      <td>pri_adm_gra_rel_app_rea</td>\n",
       "      <td>admiration</td>\n",
       "    </tr>\n",
       "    <tr>\n",
       "      <th>93682</th>\n",
       "      <td>The FDA has plenty to criticize. But like here...</td>\n",
       "      <td>edrhoxh</td>\n",
       "      <td>enamedata</td>\n",
       "      <td>medicine</td>\n",
       "      <td>4</td>\n",
       "      <td>anger</td>\n",
       "      <td>ang_ann</td>\n",
       "      <td>dis_ang_ann</td>\n",
       "      <td>dis_ang_ann_dis</td>\n",
       "      <td>rage</td>\n",
       "    </tr>\n",
       "  </tbody>\n",
       "</table>\n",
       "<p>43379 rows × 10 columns</p>\n",
       "</div>"
      ],
      "text/plain": [
       "                                                    text       id  \\\n",
       "0                                        That game hurt.  eew5j0j   \n",
       "2         You do right, if you don't care then fuck 'em!  ed2mah1   \n",
       "4                                     Man I love reddit.  eeibobj   \n",
       "8      [NAME] was nowhere near them, he was by the Fa...  eda6yn6   \n",
       "11     Right? Considering it’s such an important docu...  eespn2i   \n",
       "...                                                  ...      ...   \n",
       "93675                             Everyone likes [NAME].  ee6pagw   \n",
       "93677  i hate that it's over an interstate bridge so ...  eetqysc   \n",
       "93679  He called [NAME] to the Steelers and was outsp...  eed7qdq   \n",
       "93681  That guy who said that it's a good idea to nev...  edwrnhz   \n",
       "93682  The FDA has plenty to criticize. But like here...  edrhoxh   \n",
       "\n",
       "                    author            subreddit  rater_id      level0  \\\n",
       "0                    Brdd9                  nrl         1     sadness   \n",
       "2                 Labalool          confessions        37     neutral   \n",
       "4            MrsRobertshaw             facepalm        18        love   \n",
       "8      American_Fascist713  starwarsspeculation         2     neutral   \n",
       "11            ImperialBoss           TrueReddit        61   gratitude   \n",
       "...                    ...                  ...       ...         ...   \n",
       "93675             Senshado     heroesofthestorm        57        love   \n",
       "93677           second_ary              houston        52       anger   \n",
       "93679                sw337             steelers        35     neutral   \n",
       "93681   Plays-0-Cost-Cards            seduction        27  admiration   \n",
       "93682            enamedata             medicine         4       anger   \n",
       "\n",
       "        level1           level2                   level3    plutchik  \n",
       "0      dis_sad      dis_sad_gri      rem_emb_dis_sad_gri       grief  \n",
       "2      neutral          neutral                  neutral     neutral  \n",
       "4         love      exc_joy_lov          amu_exc_joy_lov        love  \n",
       "8      neutral          neutral                  neutral     neutral  \n",
       "11     gra_rel  pri_adm_gra_rel  pri_adm_gra_rel_app_rea         awe  \n",
       "...        ...              ...                      ...         ...  \n",
       "93675     love      exc_joy_lov          amu_exc_joy_lov        love  \n",
       "93677  ang_ann      dis_ang_ann          dis_ang_ann_dis        rage  \n",
       "93679  neutral          neutral                  neutral     neutral  \n",
       "93681  pri_adm  pri_adm_gra_rel  pri_adm_gra_rel_app_rea  admiration  \n",
       "93682  ang_ann      dis_ang_ann          dis_ang_ann_dis        rage  \n",
       "\n",
       "[43379 rows x 10 columns]"
      ]
     },
     "execution_count": 9,
     "metadata": {},
     "output_type": "execute_result"
    }
   ],
   "source": [
    "# Keep only the rows with distinct values in the 'id' column\n",
    "distinct_df = clustered_df.drop_duplicates(subset='id', keep='first')\n",
    "r, c = distinct_df.shape\n",
    "print(f\"The data has {r} row and {c} columns\")\n",
    "distinct_df"
   ]
  },
  {
   "cell_type": "code",
   "execution_count": 10,
   "metadata": {},
   "outputs": [
    {
     "data": {
      "text/html": [
       "<div>\n",
       "<style scoped>\n",
       "    .dataframe tbody tr th:only-of-type {\n",
       "        vertical-align: middle;\n",
       "    }\n",
       "\n",
       "    .dataframe tbody tr th {\n",
       "        vertical-align: top;\n",
       "    }\n",
       "\n",
       "    .dataframe thead th {\n",
       "        text-align: right;\n",
       "    }\n",
       "</style>\n",
       "<table border=\"1\" class=\"dataframe\">\n",
       "  <thead>\n",
       "    <tr style=\"text-align: right;\">\n",
       "      <th></th>\n",
       "      <th>text</th>\n",
       "      <th>id</th>\n",
       "      <th>author</th>\n",
       "      <th>subreddit</th>\n",
       "      <th>rater_id</th>\n",
       "      <th>level0</th>\n",
       "      <th>level1</th>\n",
       "      <th>level2</th>\n",
       "      <th>level3</th>\n",
       "      <th>plutchik</th>\n",
       "    </tr>\n",
       "  </thead>\n",
       "  <tbody>\n",
       "    <tr>\n",
       "      <th>7925</th>\n",
       "      <td>Or woman who would look beautiful without her ...</td>\n",
       "      <td>ed6um9g</td>\n",
       "      <td>jackalooz</td>\n",
       "      <td>WhitePeopleTwitter</td>\n",
       "      <td>35</td>\n",
       "      <td>admiration</td>\n",
       "      <td>pri_adm</td>\n",
       "      <td>pri_adm_gra_rel</td>\n",
       "      <td>pri_adm_gra_rel_app_rea</td>\n",
       "      <td>admiration</td>\n",
       "    </tr>\n",
       "    <tr>\n",
       "      <th>61532</th>\n",
       "      <td>Looks like the nightingale armour from Sky rim...</td>\n",
       "      <td>ef5dv7t</td>\n",
       "      <td>LemonWedgeTheGuy</td>\n",
       "      <td>ExpectationVsReality</td>\n",
       "      <td>33</td>\n",
       "      <td>admiration</td>\n",
       "      <td>pri_adm</td>\n",
       "      <td>pri_adm_gra_rel</td>\n",
       "      <td>pri_adm_gra_rel_app_rea</td>\n",
       "      <td>admiration</td>\n",
       "    </tr>\n",
       "    <tr>\n",
       "      <th>93659</th>\n",
       "      <td>[NAME] at least has a pretty face and great sk...</td>\n",
       "      <td>eezzs4q</td>\n",
       "      <td>badbatch</td>\n",
       "      <td>loveafterlockup</td>\n",
       "      <td>23</td>\n",
       "      <td>admiration</td>\n",
       "      <td>pri_adm</td>\n",
       "      <td>pri_adm_gra_rel</td>\n",
       "      <td>pri_adm_gra_rel_app_rea</td>\n",
       "      <td>admiration</td>\n",
       "    </tr>\n",
       "    <tr>\n",
       "      <th>41278</th>\n",
       "      <td>Real nice, swearing up a storm right in front ...</td>\n",
       "      <td>edw9jvd</td>\n",
       "      <td>Mochipants</td>\n",
       "      <td>My600lbLife</td>\n",
       "      <td>5</td>\n",
       "      <td>admiration</td>\n",
       "      <td>pri_adm</td>\n",
       "      <td>pri_adm_gra_rel</td>\n",
       "      <td>pri_adm_gra_rel_app_rea</td>\n",
       "      <td>admiration</td>\n",
       "    </tr>\n",
       "    <tr>\n",
       "      <th>14092</th>\n",
       "      <td>omg [NAME] is so pretty</td>\n",
       "      <td>edcnd0l</td>\n",
       "      <td>tomfoolery_69</td>\n",
       "      <td>vanderpumprules</td>\n",
       "      <td>33</td>\n",
       "      <td>admiration</td>\n",
       "      <td>pri_adm</td>\n",
       "      <td>pri_adm_gra_rel</td>\n",
       "      <td>pri_adm_gra_rel_app_rea</td>\n",
       "      <td>admiration</td>\n",
       "    </tr>\n",
       "    <tr>\n",
       "      <th>...</th>\n",
       "      <td>...</td>\n",
       "      <td>...</td>\n",
       "      <td>...</td>\n",
       "      <td>...</td>\n",
       "      <td>...</td>\n",
       "      <td>...</td>\n",
       "      <td>...</td>\n",
       "      <td>...</td>\n",
       "      <td>...</td>\n",
       "      <td>...</td>\n",
       "    </tr>\n",
       "    <tr>\n",
       "      <th>26931</th>\n",
       "      <td>Can't believe people like this actually exist.</td>\n",
       "      <td>eed5id6</td>\n",
       "      <td>iamfromLisbon</td>\n",
       "      <td>ChoosingBeggars</td>\n",
       "      <td>27</td>\n",
       "      <td>surprise</td>\n",
       "      <td>surprise</td>\n",
       "      <td>sur_cur_con</td>\n",
       "      <td>sur_cur_con</td>\n",
       "      <td>amazement</td>\n",
       "    </tr>\n",
       "    <tr>\n",
       "      <th>85926</th>\n",
       "      <td>Wow calm down</td>\n",
       "      <td>efctll7</td>\n",
       "      <td>dsadaOG</td>\n",
       "      <td>sadcringe</td>\n",
       "      <td>55</td>\n",
       "      <td>surprise</td>\n",
       "      <td>surprise</td>\n",
       "      <td>sur_cur_con</td>\n",
       "      <td>sur_cur_con</td>\n",
       "      <td>amazement</td>\n",
       "    </tr>\n",
       "    <tr>\n",
       "      <th>28013</th>\n",
       "      <td>I'm so surprised they haven't done it yet tbh!</td>\n",
       "      <td>edpcz7e</td>\n",
       "      <td>kittylovesblog</td>\n",
       "      <td>BeautyGuruChatter</td>\n",
       "      <td>15</td>\n",
       "      <td>surprise</td>\n",
       "      <td>surprise</td>\n",
       "      <td>sur_cur_con</td>\n",
       "      <td>sur_cur_con</td>\n",
       "      <td>amazement</td>\n",
       "    </tr>\n",
       "    <tr>\n",
       "      <th>21519</th>\n",
       "      <td>Thats beyond shockingly bad. A new level of te...</td>\n",
       "      <td>eejn7ai</td>\n",
       "      <td>WatsTatorsPrecious</td>\n",
       "      <td>DetroitPistons</td>\n",
       "      <td>67</td>\n",
       "      <td>surprise</td>\n",
       "      <td>surprise</td>\n",
       "      <td>sur_cur_con</td>\n",
       "      <td>sur_cur_con</td>\n",
       "      <td>amazement</td>\n",
       "    </tr>\n",
       "    <tr>\n",
       "      <th>21464</th>\n",
       "      <td>mtv has agreed to take some of the load by hav...</td>\n",
       "      <td>eczmb8c</td>\n",
       "      <td>lizlemon222</td>\n",
       "      <td>TeenMomOGandTeenMom2</td>\n",
       "      <td>27</td>\n",
       "      <td>surprise</td>\n",
       "      <td>surprise</td>\n",
       "      <td>sur_cur_con</td>\n",
       "      <td>sur_cur_con</td>\n",
       "      <td>amazement</td>\n",
       "    </tr>\n",
       "  </tbody>\n",
       "</table>\n",
       "<p>2168 rows × 10 columns</p>\n",
       "</div>"
      ],
      "text/plain": [
       "                                                    text       id  \\\n",
       "7925   Or woman who would look beautiful without her ...  ed6um9g   \n",
       "61532  Looks like the nightingale armour from Sky rim...  ef5dv7t   \n",
       "93659  [NAME] at least has a pretty face and great sk...  eezzs4q   \n",
       "41278  Real nice, swearing up a storm right in front ...  edw9jvd   \n",
       "14092                            omg [NAME] is so pretty  edcnd0l   \n",
       "...                                                  ...      ...   \n",
       "26931     Can't believe people like this actually exist.  eed5id6   \n",
       "85926                                      Wow calm down  efctll7   \n",
       "28013     I'm so surprised they haven't done it yet tbh!  edpcz7e   \n",
       "21519  Thats beyond shockingly bad. A new level of te...  eejn7ai   \n",
       "21464  mtv has agreed to take some of the load by hav...  eczmb8c   \n",
       "\n",
       "                   author             subreddit  rater_id      level0  \\\n",
       "7925            jackalooz    WhitePeopleTwitter        35  admiration   \n",
       "61532    LemonWedgeTheGuy  ExpectationVsReality        33  admiration   \n",
       "93659            badbatch       loveafterlockup        23  admiration   \n",
       "41278          Mochipants           My600lbLife         5  admiration   \n",
       "14092       tomfoolery_69       vanderpumprules        33  admiration   \n",
       "...                   ...                   ...       ...         ...   \n",
       "26931       iamfromLisbon       ChoosingBeggars        27    surprise   \n",
       "85926             dsadaOG             sadcringe        55    surprise   \n",
       "28013      kittylovesblog     BeautyGuruChatter        15    surprise   \n",
       "21519  WatsTatorsPrecious        DetroitPistons        67    surprise   \n",
       "21464         lizlemon222  TeenMomOGandTeenMom2        27    surprise   \n",
       "\n",
       "         level1           level2                   level3    plutchik  \n",
       "7925    pri_adm  pri_adm_gra_rel  pri_adm_gra_rel_app_rea  admiration  \n",
       "61532   pri_adm  pri_adm_gra_rel  pri_adm_gra_rel_app_rea  admiration  \n",
       "93659   pri_adm  pri_adm_gra_rel  pri_adm_gra_rel_app_rea  admiration  \n",
       "41278   pri_adm  pri_adm_gra_rel  pri_adm_gra_rel_app_rea  admiration  \n",
       "14092   pri_adm  pri_adm_gra_rel  pri_adm_gra_rel_app_rea  admiration  \n",
       "...         ...              ...                      ...         ...  \n",
       "26931  surprise      sur_cur_con              sur_cur_con   amazement  \n",
       "85926  surprise      sur_cur_con              sur_cur_con   amazement  \n",
       "28013  surprise      sur_cur_con              sur_cur_con   amazement  \n",
       "21519  surprise      sur_cur_con              sur_cur_con   amazement  \n",
       "21464  surprise      sur_cur_con              sur_cur_con   amazement  \n",
       "\n",
       "[2168 rows x 10 columns]"
      ]
     },
     "execution_count": 10,
     "metadata": {},
     "output_type": "execute_result"
    }
   ],
   "source": [
    "# create a sample for tests\n",
    "sample_df = distinct_df.groupby(\"level0\").sample(frac=0.05, random_state=25) # stratified sampling\n",
    "sample_df"
   ]
  },
  {
   "cell_type": "code",
   "execution_count": 11,
   "metadata": {},
   "outputs": [
    {
     "name": "stdout",
     "output_type": "stream",
     "text": [
      "level0\n",
      "neutral           873\n",
      "admiration        155\n",
      "gratitude         130\n",
      "approval          103\n",
      "amusement          93\n",
      "love               81\n",
      "disapproval        78\n",
      "curiosity          71\n",
      "annoyance          70\n",
      "anger              56\n",
      "confusion          47\n",
      "optimism           47\n",
      "joy                45\n",
      "sadness            41\n",
      "surprise           39\n",
      "caring             35\n",
      "disappointment     34\n",
      "realization        30\n",
      "disgust            26\n",
      "excitement         25\n",
      "fear               22\n",
      "desire             21\n",
      "remorse            20\n",
      "embarrassment      11\n",
      "nervousness         5\n",
      "relief              5\n",
      "pride               3\n",
      "grief               2\n",
      "Name: count, dtype: int64\n"
     ]
    }
   ],
   "source": [
    "# check if data set is balanced\n",
    "classCounts_0 = sample_df.level0.value_counts() \n",
    "print(classCounts_0)"
   ]
  },
  {
   "cell_type": "code",
   "execution_count": 12,
   "metadata": {},
   "outputs": [
    {
     "name": "stderr",
     "output_type": "stream",
     "text": [
      "/home/sc.uni-leipzig.de/ky881mhie/.local/lib/python3.11/site-packages/transformers/models/marian/tokenization_marian.py:194: UserWarning: Recommended: pip install sacremoses.\n",
      "/home/sc.uni-leipzig.de/ky881mhie/.local/lib/python3.11/site-packages/transformers/generation/utils.py:1369: UserWarning: Using `max_length`'s default (512) to control the generation length. This behaviour is deprecated and will be removed from the config in v5 of Transformers -- we recommend using `max_new_tokens` to control the maximum length of the generation.\n",
      "/home/sc.uni-leipzig.de/ky881mhie/cer23_emo/notebooks/../preprocessing/preprocessors.py:272: SettingWithCopyWarning: \n",
      "A value is trying to be set on a copy of a slice from a DataFrame.\n",
      "Try using .loc[row_indexer,col_indexer] = value instead\n",
      "\n",
      "See the caveats in the documentation: https://pandas.pydata.org/pandas-docs/stable/user_guide/indexing.html#returning-a-view-versus-a-copy\n",
      "/home/sc.uni-leipzig.de/ky881mhie/cer23_emo/notebooks/../preprocessing/preprocessors.py:275: SettingWithCopyWarning: \n",
      "A value is trying to be set on a copy of a slice from a DataFrame.\n",
      "Try using .loc[row_indexer,col_indexer] = value instead\n",
      "\n",
      "See the caveats in the documentation: https://pandas.pydata.org/pandas-docs/stable/user_guide/indexing.html#returning-a-view-versus-a-copy\n",
      "/home/sc.uni-leipzig.de/ky881mhie/cer23_emo/notebooks/../preprocessing/preprocessors.py:278: SettingWithCopyWarning: \n",
      "A value is trying to be set on a copy of a slice from a DataFrame.\n",
      "Try using .loc[row_indexer,col_indexer] = value instead\n",
      "\n",
      "See the caveats in the documentation: https://pandas.pydata.org/pandas-docs/stable/user_guide/indexing.html#returning-a-view-versus-a-copy\n",
      "/home/sc.uni-leipzig.de/ky881mhie/.local/lib/python3.11/site-packages/transformers/models/marian/tokenization_marian.py:194: UserWarning: Recommended: pip install sacremoses.\n",
      "/home/sc.uni-leipzig.de/ky881mhie/.local/lib/python3.11/site-packages/transformers/generation/utils.py:1369: UserWarning: Using `max_length`'s default (512) to control the generation length. This behaviour is deprecated and will be removed from the config in v5 of Transformers -- we recommend using `max_new_tokens` to control the maximum length of the generation.\n",
      "/home/sc.uni-leipzig.de/ky881mhie/cer23_emo/notebooks/../preprocessing/preprocessors.py:272: SettingWithCopyWarning: \n",
      "A value is trying to be set on a copy of a slice from a DataFrame.\n",
      "Try using .loc[row_indexer,col_indexer] = value instead\n",
      "\n",
      "See the caveats in the documentation: https://pandas.pydata.org/pandas-docs/stable/user_guide/indexing.html#returning-a-view-versus-a-copy\n",
      "/home/sc.uni-leipzig.de/ky881mhie/cer23_emo/notebooks/../preprocessing/preprocessors.py:275: SettingWithCopyWarning: \n",
      "A value is trying to be set on a copy of a slice from a DataFrame.\n",
      "Try using .loc[row_indexer,col_indexer] = value instead\n",
      "\n",
      "See the caveats in the documentation: https://pandas.pydata.org/pandas-docs/stable/user_guide/indexing.html#returning-a-view-versus-a-copy\n",
      "/home/sc.uni-leipzig.de/ky881mhie/cer23_emo/notebooks/../preprocessing/preprocessors.py:278: SettingWithCopyWarning: \n",
      "A value is trying to be set on a copy of a slice from a DataFrame.\n",
      "Try using .loc[row_indexer,col_indexer] = value instead\n",
      "\n",
      "See the caveats in the documentation: https://pandas.pydata.org/pandas-docs/stable/user_guide/indexing.html#returning-a-view-versus-a-copy\n"
     ]
    },
    {
     "data": {
      "application/vnd.jupyter.widget-view+json": {
       "model_id": "92343962f03e4969894533761fdd7f54",
       "version_major": 2,
       "version_minor": 0
      },
      "text/plain": [
       "Downloading (…)okenizer_config.json:   0%|          | 0.00/42.0 [00:00<?, ?B/s]"
      ]
     },
     "metadata": {},
     "output_type": "display_data"
    },
    {
     "data": {
      "application/vnd.jupyter.widget-view+json": {
       "model_id": "66d283d4d258454487829b6aa7458b7a",
       "version_major": 2,
       "version_minor": 0
      },
      "text/plain": [
       "Downloading (…)lve/main/config.json:   0%|          | 0.00/1.33k [00:00<?, ?B/s]"
      ]
     },
     "metadata": {},
     "output_type": "display_data"
    },
    {
     "data": {
      "application/vnd.jupyter.widget-view+json": {
       "model_id": "a6e9d9257c424bdfaa5175ac8af1e79e",
       "version_major": 2,
       "version_minor": 0
      },
      "text/plain": [
       "Downloading (…)olve/main/source.spm:   0%|          | 0.00/768k [00:00<?, ?B/s]"
      ]
     },
     "metadata": {},
     "output_type": "display_data"
    },
    {
     "data": {
      "application/vnd.jupyter.widget-view+json": {
       "model_id": "0ba43219ee4c44858a9c98ae1a8996ed",
       "version_major": 2,
       "version_minor": 0
      },
      "text/plain": [
       "Downloading (…)olve/main/target.spm:   0%|          | 0.00/797k [00:00<?, ?B/s]"
      ]
     },
     "metadata": {},
     "output_type": "display_data"
    },
    {
     "data": {
      "application/vnd.jupyter.widget-view+json": {
       "model_id": "343857ef3daa4619a51aa719d40fd954",
       "version_major": 2,
       "version_minor": 0
      },
      "text/plain": [
       "Downloading (…)olve/main/vocab.json:   0%|          | 0.00/1.27M [00:00<?, ?B/s]"
      ]
     },
     "metadata": {},
     "output_type": "display_data"
    },
    {
     "name": "stderr",
     "output_type": "stream",
     "text": [
      "/home/sc.uni-leipzig.de/ky881mhie/.local/lib/python3.11/site-packages/transformers/models/marian/tokenization_marian.py:194: UserWarning: Recommended: pip install sacremoses.\n"
     ]
    },
    {
     "data": {
      "application/vnd.jupyter.widget-view+json": {
       "model_id": "b6ec1c57d54e468fa0e5dbb4555a43ff",
       "version_major": 2,
       "version_minor": 0
      },
      "text/plain": [
       "Downloading pytorch_model.bin:   0%|          | 0.00/298M [00:00<?, ?B/s]"
      ]
     },
     "metadata": {},
     "output_type": "display_data"
    },
    {
     "data": {
      "application/vnd.jupyter.widget-view+json": {
       "model_id": "b014a40401ee4744a5dde5e4ff6548e8",
       "version_major": 2,
       "version_minor": 0
      },
      "text/plain": [
       "Downloading (…)neration_config.json:   0%|          | 0.00/293 [00:00<?, ?B/s]"
      ]
     },
     "metadata": {},
     "output_type": "display_data"
    },
    {
     "data": {
      "application/vnd.jupyter.widget-view+json": {
       "model_id": "d2264e62bb384c9ca11b2cf022e812ca",
       "version_major": 2,
       "version_minor": 0
      },
      "text/plain": [
       "Downloading (…)okenizer_config.json:   0%|          | 0.00/42.0 [00:00<?, ?B/s]"
      ]
     },
     "metadata": {},
     "output_type": "display_data"
    },
    {
     "data": {
      "application/vnd.jupyter.widget-view+json": {
       "model_id": "9f4ca04f4a2e4785b8d975672e98884d",
       "version_major": 2,
       "version_minor": 0
      },
      "text/plain": [
       "Downloading (…)lve/main/config.json:   0%|          | 0.00/1.38k [00:00<?, ?B/s]"
      ]
     },
     "metadata": {},
     "output_type": "display_data"
    },
    {
     "data": {
      "application/vnd.jupyter.widget-view+json": {
       "model_id": "52733735924445abb62adace64a0cbe5",
       "version_major": 2,
       "version_minor": 0
      },
      "text/plain": [
       "Downloading (…)olve/main/source.spm:   0%|          | 0.00/797k [00:00<?, ?B/s]"
      ]
     },
     "metadata": {},
     "output_type": "display_data"
    },
    {
     "data": {
      "application/vnd.jupyter.widget-view+json": {
       "model_id": "1423a1d0bf7e4e60b6f8401a0e082fbe",
       "version_major": 2,
       "version_minor": 0
      },
      "text/plain": [
       "Downloading (…)olve/main/target.spm:   0%|          | 0.00/768k [00:00<?, ?B/s]"
      ]
     },
     "metadata": {},
     "output_type": "display_data"
    },
    {
     "data": {
      "application/vnd.jupyter.widget-view+json": {
       "model_id": "5538849064d5446b855d500733d3727a",
       "version_major": 2,
       "version_minor": 0
      },
      "text/plain": [
       "Downloading (…)olve/main/vocab.json:   0%|          | 0.00/1.27M [00:00<?, ?B/s]"
      ]
     },
     "metadata": {},
     "output_type": "display_data"
    },
    {
     "data": {
      "application/vnd.jupyter.widget-view+json": {
       "model_id": "4beaa63110834574893176b2cbd2ed21",
       "version_major": 2,
       "version_minor": 0
      },
      "text/plain": [
       "Downloading pytorch_model.bin:   0%|          | 0.00/298M [00:00<?, ?B/s]"
      ]
     },
     "metadata": {},
     "output_type": "display_data"
    },
    {
     "data": {
      "application/vnd.jupyter.widget-view+json": {
       "model_id": "986820df165d430eaf639308e5ed5362",
       "version_major": 2,
       "version_minor": 0
      },
      "text/plain": [
       "Downloading (…)neration_config.json:   0%|          | 0.00/293 [00:00<?, ?B/s]"
      ]
     },
     "metadata": {},
     "output_type": "display_data"
    },
    {
     "name": "stderr",
     "output_type": "stream",
     "text": [
      "/home/sc.uni-leipzig.de/ky881mhie/.local/lib/python3.11/site-packages/transformers/generation/utils.py:1369: UserWarning: Using `max_length`'s default (512) to control the generation length. This behaviour is deprecated and will be removed from the config in v5 of Transformers -- we recommend using `max_new_tokens` to control the maximum length of the generation.\n",
      "/home/sc.uni-leipzig.de/ky881mhie/cer23_emo/notebooks/../preprocessing/preprocessors.py:272: SettingWithCopyWarning: \n",
      "A value is trying to be set on a copy of a slice from a DataFrame.\n",
      "Try using .loc[row_indexer,col_indexer] = value instead\n",
      "\n",
      "See the caveats in the documentation: https://pandas.pydata.org/pandas-docs/stable/user_guide/indexing.html#returning-a-view-versus-a-copy\n",
      "/home/sc.uni-leipzig.de/ky881mhie/cer23_emo/notebooks/../preprocessing/preprocessors.py:275: SettingWithCopyWarning: \n",
      "A value is trying to be set on a copy of a slice from a DataFrame.\n",
      "Try using .loc[row_indexer,col_indexer] = value instead\n",
      "\n",
      "See the caveats in the documentation: https://pandas.pydata.org/pandas-docs/stable/user_guide/indexing.html#returning-a-view-versus-a-copy\n",
      "/home/sc.uni-leipzig.de/ky881mhie/cer23_emo/notebooks/../preprocessing/preprocessors.py:278: SettingWithCopyWarning: \n",
      "A value is trying to be set on a copy of a slice from a DataFrame.\n",
      "Try using .loc[row_indexer,col_indexer] = value instead\n",
      "\n",
      "See the caveats in the documentation: https://pandas.pydata.org/pandas-docs/stable/user_guide/indexing.html#returning-a-view-versus-a-copy\n"
     ]
    },
    {
     "data": {
      "application/vnd.jupyter.widget-view+json": {
       "model_id": "9731dae91e464cef867c19dc0c61f08b",
       "version_major": 2,
       "version_minor": 0
      },
      "text/plain": [
       "Downloading (…)okenizer_config.json:   0%|          | 0.00/44.0 [00:00<?, ?B/s]"
      ]
     },
     "metadata": {},
     "output_type": "display_data"
    },
    {
     "data": {
      "application/vnd.jupyter.widget-view+json": {
       "model_id": "199b7bd376a24c37baa6b32782e987d1",
       "version_major": 2,
       "version_minor": 0
      },
      "text/plain": [
       "Downloading (…)lve/main/config.json:   0%|          | 0.00/1.47k [00:00<?, ?B/s]"
      ]
     },
     "metadata": {},
     "output_type": "display_data"
    },
    {
     "data": {
      "application/vnd.jupyter.widget-view+json": {
       "model_id": "50e3ddb57378452793e6eb79b945dca9",
       "version_major": 2,
       "version_minor": 0
      },
      "text/plain": [
       "Downloading (…)olve/main/source.spm:   0%|          | 0.00/802k [00:00<?, ?B/s]"
      ]
     },
     "metadata": {},
     "output_type": "display_data"
    },
    {
     "data": {
      "application/vnd.jupyter.widget-view+json": {
       "model_id": "531bdfbb25e846c48ec9c49520ebc1ce",
       "version_major": 2,
       "version_minor": 0
      },
      "text/plain": [
       "Downloading (…)olve/main/target.spm:   0%|          | 0.00/826k [00:00<?, ?B/s]"
      ]
     },
     "metadata": {},
     "output_type": "display_data"
    },
    {
     "data": {
      "application/vnd.jupyter.widget-view+json": {
       "model_id": "1379512cea324fceab20204c4f4b21f5",
       "version_major": 2,
       "version_minor": 0
      },
      "text/plain": [
       "Downloading (…)olve/main/vocab.json:   0%|          | 0.00/1.59M [00:00<?, ?B/s]"
      ]
     },
     "metadata": {},
     "output_type": "display_data"
    },
    {
     "name": "stderr",
     "output_type": "stream",
     "text": [
      "/home/sc.uni-leipzig.de/ky881mhie/.local/lib/python3.11/site-packages/transformers/models/marian/tokenization_marian.py:194: UserWarning: Recommended: pip install sacremoses.\n"
     ]
    },
    {
     "data": {
      "application/vnd.jupyter.widget-view+json": {
       "model_id": "10d5cdf4fc9f4b7b8a6364b877b57be2",
       "version_major": 2,
       "version_minor": 0
      },
      "text/plain": [
       "Downloading pytorch_model.bin:   0%|          | 0.00/312M [00:00<?, ?B/s]"
      ]
     },
     "metadata": {},
     "output_type": "display_data"
    },
    {
     "data": {
      "application/vnd.jupyter.widget-view+json": {
       "model_id": "95bc84aab8a54a4fb7880bf050d5ffca",
       "version_major": 2,
       "version_minor": 0
      },
      "text/plain": [
       "Downloading (…)neration_config.json:   0%|          | 0.00/293 [00:00<?, ?B/s]"
      ]
     },
     "metadata": {},
     "output_type": "display_data"
    },
    {
     "data": {
      "application/vnd.jupyter.widget-view+json": {
       "model_id": "f11525f046204305ba96d5a75c2609fa",
       "version_major": 2,
       "version_minor": 0
      },
      "text/plain": [
       "Downloading (…)okenizer_config.json:   0%|          | 0.00/44.0 [00:00<?, ?B/s]"
      ]
     },
     "metadata": {},
     "output_type": "display_data"
    },
    {
     "data": {
      "application/vnd.jupyter.widget-view+json": {
       "model_id": "8cdd399178464f9e97c7df7e50030544",
       "version_major": 2,
       "version_minor": 0
      },
      "text/plain": [
       "Downloading (…)lve/main/config.json:   0%|          | 0.00/1.44k [00:00<?, ?B/s]"
      ]
     },
     "metadata": {},
     "output_type": "display_data"
    },
    {
     "data": {
      "application/vnd.jupyter.widget-view+json": {
       "model_id": "b33be06d7b9b4b73bc5e1b6721215c0a",
       "version_major": 2,
       "version_minor": 0
      },
      "text/plain": [
       "Downloading (…)olve/main/source.spm:   0%|          | 0.00/826k [00:00<?, ?B/s]"
      ]
     },
     "metadata": {},
     "output_type": "display_data"
    },
    {
     "data": {
      "application/vnd.jupyter.widget-view+json": {
       "model_id": "9189af86ed9f416cab5d733de95d0d4c",
       "version_major": 2,
       "version_minor": 0
      },
      "text/plain": [
       "Downloading (…)olve/main/target.spm:   0%|          | 0.00/802k [00:00<?, ?B/s]"
      ]
     },
     "metadata": {},
     "output_type": "display_data"
    },
    {
     "data": {
      "application/vnd.jupyter.widget-view+json": {
       "model_id": "b0df381d31b94091b547464f0e69daf1",
       "version_major": 2,
       "version_minor": 0
      },
      "text/plain": [
       "Downloading (…)olve/main/vocab.json:   0%|          | 0.00/1.59M [00:00<?, ?B/s]"
      ]
     },
     "metadata": {},
     "output_type": "display_data"
    },
    {
     "data": {
      "application/vnd.jupyter.widget-view+json": {
       "model_id": "bf4abac836ff442f85aa3ea7a507614c",
       "version_major": 2,
       "version_minor": 0
      },
      "text/plain": [
       "Downloading pytorch_model.bin:   0%|          | 0.00/312M [00:00<?, ?B/s]"
      ]
     },
     "metadata": {},
     "output_type": "display_data"
    },
    {
     "data": {
      "application/vnd.jupyter.widget-view+json": {
       "model_id": "b394e132aaf64a8b9fe3de72f43160ab",
       "version_major": 2,
       "version_minor": 0
      },
      "text/plain": [
       "Downloading (…)neration_config.json:   0%|          | 0.00/293 [00:00<?, ?B/s]"
      ]
     },
     "metadata": {},
     "output_type": "display_data"
    },
    {
     "name": "stderr",
     "output_type": "stream",
     "text": [
      "/home/sc.uni-leipzig.de/ky881mhie/.local/lib/python3.11/site-packages/transformers/generation/utils.py:1369: UserWarning: Using `max_length`'s default (512) to control the generation length. This behaviour is deprecated and will be removed from the config in v5 of Transformers -- we recommend using `max_new_tokens` to control the maximum length of the generation.\n",
      "/home/sc.uni-leipzig.de/ky881mhie/cer23_emo/notebooks/../preprocessing/preprocessors.py:272: SettingWithCopyWarning: \n",
      "A value is trying to be set on a copy of a slice from a DataFrame.\n",
      "Try using .loc[row_indexer,col_indexer] = value instead\n",
      "\n",
      "See the caveats in the documentation: https://pandas.pydata.org/pandas-docs/stable/user_guide/indexing.html#returning-a-view-versus-a-copy\n",
      "/home/sc.uni-leipzig.de/ky881mhie/cer23_emo/notebooks/../preprocessing/preprocessors.py:275: SettingWithCopyWarning: \n",
      "A value is trying to be set on a copy of a slice from a DataFrame.\n",
      "Try using .loc[row_indexer,col_indexer] = value instead\n",
      "\n",
      "See the caveats in the documentation: https://pandas.pydata.org/pandas-docs/stable/user_guide/indexing.html#returning-a-view-versus-a-copy\n",
      "/home/sc.uni-leipzig.de/ky881mhie/cer23_emo/notebooks/../preprocessing/preprocessors.py:278: SettingWithCopyWarning: \n",
      "A value is trying to be set on a copy of a slice from a DataFrame.\n",
      "Try using .loc[row_indexer,col_indexer] = value instead\n",
      "\n",
      "See the caveats in the documentation: https://pandas.pydata.org/pandas-docs/stable/user_guide/indexing.html#returning-a-view-versus-a-copy\n",
      "/home/sc.uni-leipzig.de/ky881mhie/.local/lib/python3.11/site-packages/transformers/models/marian/tokenization_marian.py:194: UserWarning: Recommended: pip install sacremoses.\n",
      "/home/sc.uni-leipzig.de/ky881mhie/.local/lib/python3.11/site-packages/transformers/generation/utils.py:1369: UserWarning: Using `max_length`'s default (512) to control the generation length. This behaviour is deprecated and will be removed from the config in v5 of Transformers -- we recommend using `max_new_tokens` to control the maximum length of the generation.\n",
      "/home/sc.uni-leipzig.de/ky881mhie/cer23_emo/notebooks/../preprocessing/preprocessors.py:272: SettingWithCopyWarning: \n",
      "A value is trying to be set on a copy of a slice from a DataFrame.\n",
      "Try using .loc[row_indexer,col_indexer] = value instead\n",
      "\n",
      "See the caveats in the documentation: https://pandas.pydata.org/pandas-docs/stable/user_guide/indexing.html#returning-a-view-versus-a-copy\n",
      "/home/sc.uni-leipzig.de/ky881mhie/cer23_emo/notebooks/../preprocessing/preprocessors.py:275: SettingWithCopyWarning: \n",
      "A value is trying to be set on a copy of a slice from a DataFrame.\n",
      "Try using .loc[row_indexer,col_indexer] = value instead\n",
      "\n",
      "See the caveats in the documentation: https://pandas.pydata.org/pandas-docs/stable/user_guide/indexing.html#returning-a-view-versus-a-copy\n",
      "/home/sc.uni-leipzig.de/ky881mhie/cer23_emo/notebooks/../preprocessing/preprocessors.py:278: SettingWithCopyWarning: \n",
      "A value is trying to be set on a copy of a slice from a DataFrame.\n",
      "Try using .loc[row_indexer,col_indexer] = value instead\n",
      "\n",
      "See the caveats in the documentation: https://pandas.pydata.org/pandas-docs/stable/user_guide/indexing.html#returning-a-view-versus-a-copy\n",
      "/home/sc.uni-leipzig.de/ky881mhie/.local/lib/python3.11/site-packages/transformers/models/marian/tokenization_marian.py:194: UserWarning: Recommended: pip install sacremoses.\n",
      "/home/sc.uni-leipzig.de/ky881mhie/.local/lib/python3.11/site-packages/transformers/generation/utils.py:1369: UserWarning: Using `max_length`'s default (512) to control the generation length. This behaviour is deprecated and will be removed from the config in v5 of Transformers -- we recommend using `max_new_tokens` to control the maximum length of the generation.\n",
      "/home/sc.uni-leipzig.de/ky881mhie/cer23_emo/notebooks/../preprocessing/preprocessors.py:272: SettingWithCopyWarning: \n",
      "A value is trying to be set on a copy of a slice from a DataFrame.\n",
      "Try using .loc[row_indexer,col_indexer] = value instead\n",
      "\n",
      "See the caveats in the documentation: https://pandas.pydata.org/pandas-docs/stable/user_guide/indexing.html#returning-a-view-versus-a-copy\n",
      "/home/sc.uni-leipzig.de/ky881mhie/cer23_emo/notebooks/../preprocessing/preprocessors.py:275: SettingWithCopyWarning: \n",
      "A value is trying to be set on a copy of a slice from a DataFrame.\n",
      "Try using .loc[row_indexer,col_indexer] = value instead\n",
      "\n",
      "See the caveats in the documentation: https://pandas.pydata.org/pandas-docs/stable/user_guide/indexing.html#returning-a-view-versus-a-copy\n",
      "/home/sc.uni-leipzig.de/ky881mhie/cer23_emo/notebooks/../preprocessing/preprocessors.py:278: SettingWithCopyWarning: \n",
      "A value is trying to be set on a copy of a slice from a DataFrame.\n",
      "Try using .loc[row_indexer,col_indexer] = value instead\n",
      "\n",
      "See the caveats in the documentation: https://pandas.pydata.org/pandas-docs/stable/user_guide/indexing.html#returning-a-view-versus-a-copy\n",
      "/home/sc.uni-leipzig.de/ky881mhie/.local/lib/python3.11/site-packages/transformers/models/marian/tokenization_marian.py:194: UserWarning: Recommended: pip install sacremoses.\n",
      "/home/sc.uni-leipzig.de/ky881mhie/.local/lib/python3.11/site-packages/transformers/generation/utils.py:1369: UserWarning: Using `max_length`'s default (512) to control the generation length. This behaviour is deprecated and will be removed from the config in v5 of Transformers -- we recommend using `max_new_tokens` to control the maximum length of the generation.\n",
      "/home/sc.uni-leipzig.de/ky881mhie/cer23_emo/notebooks/../preprocessing/preprocessors.py:272: SettingWithCopyWarning: \n",
      "A value is trying to be set on a copy of a slice from a DataFrame.\n",
      "Try using .loc[row_indexer,col_indexer] = value instead\n",
      "\n",
      "See the caveats in the documentation: https://pandas.pydata.org/pandas-docs/stable/user_guide/indexing.html#returning-a-view-versus-a-copy\n",
      "/home/sc.uni-leipzig.de/ky881mhie/cer23_emo/notebooks/../preprocessing/preprocessors.py:275: SettingWithCopyWarning: \n",
      "A value is trying to be set on a copy of a slice from a DataFrame.\n",
      "Try using .loc[row_indexer,col_indexer] = value instead\n",
      "\n",
      "See the caveats in the documentation: https://pandas.pydata.org/pandas-docs/stable/user_guide/indexing.html#returning-a-view-versus-a-copy\n",
      "/home/sc.uni-leipzig.de/ky881mhie/cer23_emo/notebooks/../preprocessing/preprocessors.py:278: SettingWithCopyWarning: \n",
      "A value is trying to be set on a copy of a slice from a DataFrame.\n",
      "Try using .loc[row_indexer,col_indexer] = value instead\n",
      "\n",
      "See the caveats in the documentation: https://pandas.pydata.org/pandas-docs/stable/user_guide/indexing.html#returning-a-view-versus-a-copy\n",
      "/home/sc.uni-leipzig.de/ky881mhie/.local/lib/python3.11/site-packages/transformers/models/marian/tokenization_marian.py:194: UserWarning: Recommended: pip install sacremoses.\n",
      "/home/sc.uni-leipzig.de/ky881mhie/.local/lib/python3.11/site-packages/transformers/generation/utils.py:1369: UserWarning: Using `max_length`'s default (512) to control the generation length. This behaviour is deprecated and will be removed from the config in v5 of Transformers -- we recommend using `max_new_tokens` to control the maximum length of the generation.\n",
      "/home/sc.uni-leipzig.de/ky881mhie/cer23_emo/notebooks/../preprocessing/preprocessors.py:272: SettingWithCopyWarning: \n",
      "A value is trying to be set on a copy of a slice from a DataFrame.\n",
      "Try using .loc[row_indexer,col_indexer] = value instead\n",
      "\n",
      "See the caveats in the documentation: https://pandas.pydata.org/pandas-docs/stable/user_guide/indexing.html#returning-a-view-versus-a-copy\n",
      "/home/sc.uni-leipzig.de/ky881mhie/cer23_emo/notebooks/../preprocessing/preprocessors.py:275: SettingWithCopyWarning: \n",
      "A value is trying to be set on a copy of a slice from a DataFrame.\n",
      "Try using .loc[row_indexer,col_indexer] = value instead\n",
      "\n",
      "See the caveats in the documentation: https://pandas.pydata.org/pandas-docs/stable/user_guide/indexing.html#returning-a-view-versus-a-copy\n",
      "/home/sc.uni-leipzig.de/ky881mhie/cer23_emo/notebooks/../preprocessing/preprocessors.py:278: SettingWithCopyWarning: \n",
      "A value is trying to be set on a copy of a slice from a DataFrame.\n",
      "Try using .loc[row_indexer,col_indexer] = value instead\n",
      "\n",
      "See the caveats in the documentation: https://pandas.pydata.org/pandas-docs/stable/user_guide/indexing.html#returning-a-view-versus-a-copy\n",
      "/home/sc.uni-leipzig.de/ky881mhie/.local/lib/python3.11/site-packages/transformers/models/marian/tokenization_marian.py:194: UserWarning: Recommended: pip install sacremoses.\n",
      "/home/sc.uni-leipzig.de/ky881mhie/.local/lib/python3.11/site-packages/transformers/generation/utils.py:1369: UserWarning: Using `max_length`'s default (512) to control the generation length. This behaviour is deprecated and will be removed from the config in v5 of Transformers -- we recommend using `max_new_tokens` to control the maximum length of the generation.\n",
      "/home/sc.uni-leipzig.de/ky881mhie/cer23_emo/notebooks/../preprocessing/preprocessors.py:272: SettingWithCopyWarning: \n",
      "A value is trying to be set on a copy of a slice from a DataFrame.\n",
      "Try using .loc[row_indexer,col_indexer] = value instead\n",
      "\n",
      "See the caveats in the documentation: https://pandas.pydata.org/pandas-docs/stable/user_guide/indexing.html#returning-a-view-versus-a-copy\n",
      "/home/sc.uni-leipzig.de/ky881mhie/cer23_emo/notebooks/../preprocessing/preprocessors.py:275: SettingWithCopyWarning: \n",
      "A value is trying to be set on a copy of a slice from a DataFrame.\n",
      "Try using .loc[row_indexer,col_indexer] = value instead\n",
      "\n",
      "See the caveats in the documentation: https://pandas.pydata.org/pandas-docs/stable/user_guide/indexing.html#returning-a-view-versus-a-copy\n",
      "/home/sc.uni-leipzig.de/ky881mhie/cer23_emo/notebooks/../preprocessing/preprocessors.py:278: SettingWithCopyWarning: \n",
      "A value is trying to be set on a copy of a slice from a DataFrame.\n",
      "Try using .loc[row_indexer,col_indexer] = value instead\n",
      "\n",
      "See the caveats in the documentation: https://pandas.pydata.org/pandas-docs/stable/user_guide/indexing.html#returning-a-view-versus-a-copy\n",
      "/home/sc.uni-leipzig.de/ky881mhie/.local/lib/python3.11/site-packages/transformers/models/marian/tokenization_marian.py:194: UserWarning: Recommended: pip install sacremoses.\n",
      "/home/sc.uni-leipzig.de/ky881mhie/.local/lib/python3.11/site-packages/transformers/generation/utils.py:1369: UserWarning: Using `max_length`'s default (512) to control the generation length. This behaviour is deprecated and will be removed from the config in v5 of Transformers -- we recommend using `max_new_tokens` to control the maximum length of the generation.\n",
      "/home/sc.uni-leipzig.de/ky881mhie/cer23_emo/notebooks/../preprocessing/preprocessors.py:272: SettingWithCopyWarning: \n",
      "A value is trying to be set on a copy of a slice from a DataFrame.\n",
      "Try using .loc[row_indexer,col_indexer] = value instead\n",
      "\n",
      "See the caveats in the documentation: https://pandas.pydata.org/pandas-docs/stable/user_guide/indexing.html#returning-a-view-versus-a-copy\n",
      "/home/sc.uni-leipzig.de/ky881mhie/cer23_emo/notebooks/../preprocessing/preprocessors.py:275: SettingWithCopyWarning: \n",
      "A value is trying to be set on a copy of a slice from a DataFrame.\n",
      "Try using .loc[row_indexer,col_indexer] = value instead\n",
      "\n",
      "See the caveats in the documentation: https://pandas.pydata.org/pandas-docs/stable/user_guide/indexing.html#returning-a-view-versus-a-copy\n",
      "/home/sc.uni-leipzig.de/ky881mhie/cer23_emo/notebooks/../preprocessing/preprocessors.py:278: SettingWithCopyWarning: \n",
      "A value is trying to be set on a copy of a slice from a DataFrame.\n",
      "Try using .loc[row_indexer,col_indexer] = value instead\n",
      "\n",
      "See the caveats in the documentation: https://pandas.pydata.org/pandas-docs/stable/user_guide/indexing.html#returning-a-view-versus-a-copy\n"
     ]
    },
    {
     "data": {
      "application/vnd.jupyter.widget-view+json": {
       "model_id": "f7d21e00fee747c299a90d820b96518a",
       "version_major": 2,
       "version_minor": 0
      },
      "text/plain": [
       "Downloading (…)okenizer_config.json:   0%|          | 0.00/44.0 [00:00<?, ?B/s]"
      ]
     },
     "metadata": {},
     "output_type": "display_data"
    },
    {
     "data": {
      "application/vnd.jupyter.widget-view+json": {
       "model_id": "609df7a5fb0f401a8eb8f03e4e43aafa",
       "version_major": 2,
       "version_minor": 0
      },
      "text/plain": [
       "Downloading (…)lve/main/config.json:   0%|          | 0.00/1.40k [00:00<?, ?B/s]"
      ]
     },
     "metadata": {},
     "output_type": "display_data"
    },
    {
     "data": {
      "application/vnd.jupyter.widget-view+json": {
       "model_id": "b5a5e7e18f824b85ad1cd306c42a9c53",
       "version_major": 2,
       "version_minor": 0
      },
      "text/plain": [
       "Downloading (…)olve/main/source.spm:   0%|          | 0.00/806k [00:00<?, ?B/s]"
      ]
     },
     "metadata": {},
     "output_type": "display_data"
    },
    {
     "data": {
      "application/vnd.jupyter.widget-view+json": {
       "model_id": "a6d8a2fd53ef41788f72b4cd79a937e3",
       "version_major": 2,
       "version_minor": 0
      },
      "text/plain": [
       "Downloading (…)olve/main/target.spm:   0%|          | 0.00/805k [00:00<?, ?B/s]"
      ]
     },
     "metadata": {},
     "output_type": "display_data"
    },
    {
     "data": {
      "application/vnd.jupyter.widget-view+json": {
       "model_id": "b9312db61cba434c8a39f98a121a6835",
       "version_major": 2,
       "version_minor": 0
      },
      "text/plain": [
       "Downloading (…)olve/main/vocab.json:   0%|          | 0.00/1.62M [00:00<?, ?B/s]"
      ]
     },
     "metadata": {},
     "output_type": "display_data"
    },
    {
     "name": "stderr",
     "output_type": "stream",
     "text": [
      "/home/sc.uni-leipzig.de/ky881mhie/.local/lib/python3.11/site-packages/transformers/models/marian/tokenization_marian.py:194: UserWarning: Recommended: pip install sacremoses.\n"
     ]
    },
    {
     "data": {
      "application/vnd.jupyter.widget-view+json": {
       "model_id": "d96fc9a662d04a0ba157978c881e6ec7",
       "version_major": 2,
       "version_minor": 0
      },
      "text/plain": [
       "Downloading pytorch_model.bin:   0%|          | 0.00/312M [00:00<?, ?B/s]"
      ]
     },
     "metadata": {},
     "output_type": "display_data"
    },
    {
     "data": {
      "application/vnd.jupyter.widget-view+json": {
       "model_id": "1468e8e774854f1e9d9acf55d3b8fb18",
       "version_major": 2,
       "version_minor": 0
      },
      "text/plain": [
       "Downloading (…)neration_config.json:   0%|          | 0.00/293 [00:00<?, ?B/s]"
      ]
     },
     "metadata": {},
     "output_type": "display_data"
    },
    {
     "data": {
      "application/vnd.jupyter.widget-view+json": {
       "model_id": "26e6336d01664fae9fb3877bb1f6edd4",
       "version_major": 2,
       "version_minor": 0
      },
      "text/plain": [
       "Downloading (…)okenizer_config.json:   0%|          | 0.00/44.0 [00:00<?, ?B/s]"
      ]
     },
     "metadata": {},
     "output_type": "display_data"
    },
    {
     "data": {
      "application/vnd.jupyter.widget-view+json": {
       "model_id": "a62d248712d54f08b78140d901872501",
       "version_major": 2,
       "version_minor": 0
      },
      "text/plain": [
       "Downloading (…)lve/main/config.json:   0%|          | 0.00/1.39k [00:00<?, ?B/s]"
      ]
     },
     "metadata": {},
     "output_type": "display_data"
    },
    {
     "data": {
      "application/vnd.jupyter.widget-view+json": {
       "model_id": "713ba0b5d68d4bdeadcd84ab4aa39a72",
       "version_major": 2,
       "version_minor": 0
      },
      "text/plain": [
       "Downloading (…)olve/main/source.spm:   0%|          | 0.00/805k [00:00<?, ?B/s]"
      ]
     },
     "metadata": {},
     "output_type": "display_data"
    },
    {
     "data": {
      "application/vnd.jupyter.widget-view+json": {
       "model_id": "c8fa2ee713c24c26aa89b667a48bc171",
       "version_major": 2,
       "version_minor": 0
      },
      "text/plain": [
       "Downloading (…)olve/main/target.spm:   0%|          | 0.00/807k [00:00<?, ?B/s]"
      ]
     },
     "metadata": {},
     "output_type": "display_data"
    },
    {
     "data": {
      "application/vnd.jupyter.widget-view+json": {
       "model_id": "4882b85090874cd48fd5182e6467218c",
       "version_major": 2,
       "version_minor": 0
      },
      "text/plain": [
       "Downloading (…)olve/main/vocab.json:   0%|          | 0.00/1.62M [00:00<?, ?B/s]"
      ]
     },
     "metadata": {},
     "output_type": "display_data"
    },
    {
     "data": {
      "application/vnd.jupyter.widget-view+json": {
       "model_id": "fe32aa4f4d15481d8147ba15c93f4837",
       "version_major": 2,
       "version_minor": 0
      },
      "text/plain": [
       "Downloading pytorch_model.bin:   0%|          | 0.00/312M [00:00<?, ?B/s]"
      ]
     },
     "metadata": {},
     "output_type": "display_data"
    },
    {
     "data": {
      "application/vnd.jupyter.widget-view+json": {
       "model_id": "052c8cc6009c41769554102a6f26fe42",
       "version_major": 2,
       "version_minor": 0
      },
      "text/plain": [
       "Downloading (…)neration_config.json:   0%|          | 0.00/293 [00:00<?, ?B/s]"
      ]
     },
     "metadata": {},
     "output_type": "display_data"
    },
    {
     "name": "stderr",
     "output_type": "stream",
     "text": [
      "/home/sc.uni-leipzig.de/ky881mhie/.local/lib/python3.11/site-packages/transformers/generation/utils.py:1369: UserWarning: Using `max_length`'s default (512) to control the generation length. This behaviour is deprecated and will be removed from the config in v5 of Transformers -- we recommend using `max_new_tokens` to control the maximum length of the generation.\n",
      "/home/sc.uni-leipzig.de/ky881mhie/cer23_emo/notebooks/../preprocessing/preprocessors.py:272: SettingWithCopyWarning: \n",
      "A value is trying to be set on a copy of a slice from a DataFrame.\n",
      "Try using .loc[row_indexer,col_indexer] = value instead\n",
      "\n",
      "See the caveats in the documentation: https://pandas.pydata.org/pandas-docs/stable/user_guide/indexing.html#returning-a-view-versus-a-copy\n",
      "/home/sc.uni-leipzig.de/ky881mhie/cer23_emo/notebooks/../preprocessing/preprocessors.py:275: SettingWithCopyWarning: \n",
      "A value is trying to be set on a copy of a slice from a DataFrame.\n",
      "Try using .loc[row_indexer,col_indexer] = value instead\n",
      "\n",
      "See the caveats in the documentation: https://pandas.pydata.org/pandas-docs/stable/user_guide/indexing.html#returning-a-view-versus-a-copy\n",
      "/home/sc.uni-leipzig.de/ky881mhie/cer23_emo/notebooks/../preprocessing/preprocessors.py:278: SettingWithCopyWarning: \n",
      "A value is trying to be set on a copy of a slice from a DataFrame.\n",
      "Try using .loc[row_indexer,col_indexer] = value instead\n",
      "\n",
      "See the caveats in the documentation: https://pandas.pydata.org/pandas-docs/stable/user_guide/indexing.html#returning-a-view-versus-a-copy\n"
     ]
    },
    {
     "data": {
      "application/vnd.jupyter.widget-view+json": {
       "model_id": "37f6f2c762de4183af539de45d0a34a7",
       "version_major": 2,
       "version_minor": 0
      },
      "text/plain": [
       "Downloading (…)okenizer_config.json:   0%|          | 0.00/44.0 [00:00<?, ?B/s]"
      ]
     },
     "metadata": {},
     "output_type": "display_data"
    },
    {
     "data": {
      "application/vnd.jupyter.widget-view+json": {
       "model_id": "201c3778405645aba5f6d0ea77962499",
       "version_major": 2,
       "version_minor": 0
      },
      "text/plain": [
       "Downloading (…)lve/main/config.json:   0%|          | 0.00/1.39k [00:00<?, ?B/s]"
      ]
     },
     "metadata": {},
     "output_type": "display_data"
    },
    {
     "data": {
      "application/vnd.jupyter.widget-view+json": {
       "model_id": "bdf1962b3bcf4008b8decaa3d110e10f",
       "version_major": 2,
       "version_minor": 0
      },
      "text/plain": [
       "Downloading (…)olve/main/source.spm:   0%|          | 0.00/809k [00:00<?, ?B/s]"
      ]
     },
     "metadata": {},
     "output_type": "display_data"
    },
    {
     "data": {
      "application/vnd.jupyter.widget-view+json": {
       "model_id": "1c431fff45c446f18e2c580ecca33320",
       "version_major": 2,
       "version_minor": 0
      },
      "text/plain": [
       "Downloading (…)olve/main/target.spm:   0%|          | 0.00/756k [00:00<?, ?B/s]"
      ]
     },
     "metadata": {},
     "output_type": "display_data"
    },
    {
     "data": {
      "application/vnd.jupyter.widget-view+json": {
       "model_id": "ef0e488e9f4c4ef280dc34dbbc80d05f",
       "version_major": 2,
       "version_minor": 0
      },
      "text/plain": [
       "Downloading (…)olve/main/vocab.json:   0%|          | 0.00/1.19M [00:00<?, ?B/s]"
      ]
     },
     "metadata": {},
     "output_type": "display_data"
    },
    {
     "name": "stderr",
     "output_type": "stream",
     "text": [
      "/home/sc.uni-leipzig.de/ky881mhie/.local/lib/python3.11/site-packages/transformers/models/marian/tokenization_marian.py:194: UserWarning: Recommended: pip install sacremoses.\n"
     ]
    },
    {
     "data": {
      "application/vnd.jupyter.widget-view+json": {
       "model_id": "5ad3d09c187644ce90e387b0977adf04",
       "version_major": 2,
       "version_minor": 0
      },
      "text/plain": [
       "Downloading pytorch_model.bin:   0%|          | 0.00/289M [00:00<?, ?B/s]"
      ]
     },
     "metadata": {},
     "output_type": "display_data"
    },
    {
     "data": {
      "application/vnd.jupyter.widget-view+json": {
       "model_id": "46cb251cbd7a44048c756eb44f3039ee",
       "version_major": 2,
       "version_minor": 0
      },
      "text/plain": [
       "Downloading (…)neration_config.json:   0%|          | 0.00/293 [00:00<?, ?B/s]"
      ]
     },
     "metadata": {},
     "output_type": "display_data"
    },
    {
     "data": {
      "application/vnd.jupyter.widget-view+json": {
       "model_id": "cfb2d99469904c018dc25272188aa370",
       "version_major": 2,
       "version_minor": 0
      },
      "text/plain": [
       "Downloading (…)okenizer_config.json:   0%|          | 0.00/44.0 [00:00<?, ?B/s]"
      ]
     },
     "metadata": {},
     "output_type": "display_data"
    },
    {
     "data": {
      "application/vnd.jupyter.widget-view+json": {
       "model_id": "8d7fcb43d0b643828ce79879b0fb5899",
       "version_major": 2,
       "version_minor": 0
      },
      "text/plain": [
       "Downloading (…)lve/main/config.json:   0%|          | 0.00/1.39k [00:00<?, ?B/s]"
      ]
     },
     "metadata": {},
     "output_type": "display_data"
    },
    {
     "data": {
      "application/vnd.jupyter.widget-view+json": {
       "model_id": "7ba3218986d743b6837d5f5a5724faa7",
       "version_major": 2,
       "version_minor": 0
      },
      "text/plain": [
       "Downloading (…)olve/main/source.spm:   0%|          | 0.00/756k [00:00<?, ?B/s]"
      ]
     },
     "metadata": {},
     "output_type": "display_data"
    },
    {
     "data": {
      "application/vnd.jupyter.widget-view+json": {
       "model_id": "7ed42a3ec18d4a898e2d41f94d7f6eb3",
       "version_major": 2,
       "version_minor": 0
      },
      "text/plain": [
       "Downloading (…)olve/main/target.spm:   0%|          | 0.00/809k [00:00<?, ?B/s]"
      ]
     },
     "metadata": {},
     "output_type": "display_data"
    },
    {
     "data": {
      "application/vnd.jupyter.widget-view+json": {
       "model_id": "ad1537b067724a2ab7255239b545cf89",
       "version_major": 2,
       "version_minor": 0
      },
      "text/plain": [
       "Downloading (…)olve/main/vocab.json:   0%|          | 0.00/1.19M [00:00<?, ?B/s]"
      ]
     },
     "metadata": {},
     "output_type": "display_data"
    },
    {
     "data": {
      "application/vnd.jupyter.widget-view+json": {
       "model_id": "57b870be51bb4fcea3db3debcd02fea4",
       "version_major": 2,
       "version_minor": 0
      },
      "text/plain": [
       "Downloading pytorch_model.bin:   0%|          | 0.00/289M [00:00<?, ?B/s]"
      ]
     },
     "metadata": {},
     "output_type": "display_data"
    },
    {
     "data": {
      "application/vnd.jupyter.widget-view+json": {
       "model_id": "c89450623b754f85b6c3082ba84b3754",
       "version_major": 2,
       "version_minor": 0
      },
      "text/plain": [
       "Downloading (…)neration_config.json:   0%|          | 0.00/293 [00:00<?, ?B/s]"
      ]
     },
     "metadata": {},
     "output_type": "display_data"
    },
    {
     "name": "stderr",
     "output_type": "stream",
     "text": [
      "/home/sc.uni-leipzig.de/ky881mhie/.local/lib/python3.11/site-packages/transformers/generation/utils.py:1369: UserWarning: Using `max_length`'s default (512) to control the generation length. This behaviour is deprecated and will be removed from the config in v5 of Transformers -- we recommend using `max_new_tokens` to control the maximum length of the generation.\n",
      "/home/sc.uni-leipzig.de/ky881mhie/cer23_emo/notebooks/../preprocessing/preprocessors.py:272: SettingWithCopyWarning: \n",
      "A value is trying to be set on a copy of a slice from a DataFrame.\n",
      "Try using .loc[row_indexer,col_indexer] = value instead\n",
      "\n",
      "See the caveats in the documentation: https://pandas.pydata.org/pandas-docs/stable/user_guide/indexing.html#returning-a-view-versus-a-copy\n",
      "/home/sc.uni-leipzig.de/ky881mhie/cer23_emo/notebooks/../preprocessing/preprocessors.py:275: SettingWithCopyWarning: \n",
      "A value is trying to be set on a copy of a slice from a DataFrame.\n",
      "Try using .loc[row_indexer,col_indexer] = value instead\n",
      "\n",
      "See the caveats in the documentation: https://pandas.pydata.org/pandas-docs/stable/user_guide/indexing.html#returning-a-view-versus-a-copy\n",
      "/home/sc.uni-leipzig.de/ky881mhie/cer23_emo/notebooks/../preprocessing/preprocessors.py:278: SettingWithCopyWarning: \n",
      "A value is trying to be set on a copy of a slice from a DataFrame.\n",
      "Try using .loc[row_indexer,col_indexer] = value instead\n",
      "\n",
      "See the caveats in the documentation: https://pandas.pydata.org/pandas-docs/stable/user_guide/indexing.html#returning-a-view-versus-a-copy\n",
      "/home/sc.uni-leipzig.de/ky881mhie/.local/lib/python3.11/site-packages/transformers/models/marian/tokenization_marian.py:194: UserWarning: Recommended: pip install sacremoses.\n",
      "/home/sc.uni-leipzig.de/ky881mhie/.local/lib/python3.11/site-packages/transformers/generation/utils.py:1369: UserWarning: Using `max_length`'s default (512) to control the generation length. This behaviour is deprecated and will be removed from the config in v5 of Transformers -- we recommend using `max_new_tokens` to control the maximum length of the generation.\n",
      "/home/sc.uni-leipzig.de/ky881mhie/cer23_emo/notebooks/../preprocessing/preprocessors.py:272: SettingWithCopyWarning: \n",
      "A value is trying to be set on a copy of a slice from a DataFrame.\n",
      "Try using .loc[row_indexer,col_indexer] = value instead\n",
      "\n",
      "See the caveats in the documentation: https://pandas.pydata.org/pandas-docs/stable/user_guide/indexing.html#returning-a-view-versus-a-copy\n",
      "/home/sc.uni-leipzig.de/ky881mhie/cer23_emo/notebooks/../preprocessing/preprocessors.py:275: SettingWithCopyWarning: \n",
      "A value is trying to be set on a copy of a slice from a DataFrame.\n",
      "Try using .loc[row_indexer,col_indexer] = value instead\n",
      "\n",
      "See the caveats in the documentation: https://pandas.pydata.org/pandas-docs/stable/user_guide/indexing.html#returning-a-view-versus-a-copy\n",
      "/home/sc.uni-leipzig.de/ky881mhie/cer23_emo/notebooks/../preprocessing/preprocessors.py:278: SettingWithCopyWarning: \n",
      "A value is trying to be set on a copy of a slice from a DataFrame.\n",
      "Try using .loc[row_indexer,col_indexer] = value instead\n",
      "\n",
      "See the caveats in the documentation: https://pandas.pydata.org/pandas-docs/stable/user_guide/indexing.html#returning-a-view-versus-a-copy\n",
      "/home/sc.uni-leipzig.de/ky881mhie/.local/lib/python3.11/site-packages/transformers/models/marian/tokenization_marian.py:194: UserWarning: Recommended: pip install sacremoses.\n",
      "/home/sc.uni-leipzig.de/ky881mhie/.local/lib/python3.11/site-packages/transformers/generation/utils.py:1369: UserWarning: Using `max_length`'s default (512) to control the generation length. This behaviour is deprecated and will be removed from the config in v5 of Transformers -- we recommend using `max_new_tokens` to control the maximum length of the generation.\n",
      "/home/sc.uni-leipzig.de/ky881mhie/cer23_emo/notebooks/../preprocessing/preprocessors.py:272: SettingWithCopyWarning: \n",
      "A value is trying to be set on a copy of a slice from a DataFrame.\n",
      "Try using .loc[row_indexer,col_indexer] = value instead\n",
      "\n",
      "See the caveats in the documentation: https://pandas.pydata.org/pandas-docs/stable/user_guide/indexing.html#returning-a-view-versus-a-copy\n",
      "/home/sc.uni-leipzig.de/ky881mhie/cer23_emo/notebooks/../preprocessing/preprocessors.py:275: SettingWithCopyWarning: \n",
      "A value is trying to be set on a copy of a slice from a DataFrame.\n",
      "Try using .loc[row_indexer,col_indexer] = value instead\n",
      "\n",
      "See the caveats in the documentation: https://pandas.pydata.org/pandas-docs/stable/user_guide/indexing.html#returning-a-view-versus-a-copy\n",
      "/home/sc.uni-leipzig.de/ky881mhie/cer23_emo/notebooks/../preprocessing/preprocessors.py:278: SettingWithCopyWarning: \n",
      "A value is trying to be set on a copy of a slice from a DataFrame.\n",
      "Try using .loc[row_indexer,col_indexer] = value instead\n",
      "\n",
      "See the caveats in the documentation: https://pandas.pydata.org/pandas-docs/stable/user_guide/indexing.html#returning-a-view-versus-a-copy\n",
      "/home/sc.uni-leipzig.de/ky881mhie/.local/lib/python3.11/site-packages/transformers/models/marian/tokenization_marian.py:194: UserWarning: Recommended: pip install sacremoses.\n",
      "/home/sc.uni-leipzig.de/ky881mhie/.local/lib/python3.11/site-packages/transformers/generation/utils.py:1369: UserWarning: Using `max_length`'s default (512) to control the generation length. This behaviour is deprecated and will be removed from the config in v5 of Transformers -- we recommend using `max_new_tokens` to control the maximum length of the generation.\n",
      "/home/sc.uni-leipzig.de/ky881mhie/cer23_emo/notebooks/../preprocessing/preprocessors.py:272: SettingWithCopyWarning: \n",
      "A value is trying to be set on a copy of a slice from a DataFrame.\n",
      "Try using .loc[row_indexer,col_indexer] = value instead\n",
      "\n",
      "See the caveats in the documentation: https://pandas.pydata.org/pandas-docs/stable/user_guide/indexing.html#returning-a-view-versus-a-copy\n",
      "/home/sc.uni-leipzig.de/ky881mhie/cer23_emo/notebooks/../preprocessing/preprocessors.py:275: SettingWithCopyWarning: \n",
      "A value is trying to be set on a copy of a slice from a DataFrame.\n",
      "Try using .loc[row_indexer,col_indexer] = value instead\n",
      "\n",
      "See the caveats in the documentation: https://pandas.pydata.org/pandas-docs/stable/user_guide/indexing.html#returning-a-view-versus-a-copy\n",
      "/home/sc.uni-leipzig.de/ky881mhie/cer23_emo/notebooks/../preprocessing/preprocessors.py:278: SettingWithCopyWarning: \n",
      "A value is trying to be set on a copy of a slice from a DataFrame.\n",
      "Try using .loc[row_indexer,col_indexer] = value instead\n",
      "\n",
      "See the caveats in the documentation: https://pandas.pydata.org/pandas-docs/stable/user_guide/indexing.html#returning-a-view-versus-a-copy\n",
      "/home/sc.uni-leipzig.de/ky881mhie/.local/lib/python3.11/site-packages/transformers/models/marian/tokenization_marian.py:194: UserWarning: Recommended: pip install sacremoses.\n",
      "/home/sc.uni-leipzig.de/ky881mhie/.local/lib/python3.11/site-packages/transformers/generation/utils.py:1369: UserWarning: Using `max_length`'s default (512) to control the generation length. This behaviour is deprecated and will be removed from the config in v5 of Transformers -- we recommend using `max_new_tokens` to control the maximum length of the generation.\n",
      "/home/sc.uni-leipzig.de/ky881mhie/cer23_emo/notebooks/../preprocessing/preprocessors.py:272: SettingWithCopyWarning: \n",
      "A value is trying to be set on a copy of a slice from a DataFrame.\n",
      "Try using .loc[row_indexer,col_indexer] = value instead\n",
      "\n",
      "See the caveats in the documentation: https://pandas.pydata.org/pandas-docs/stable/user_guide/indexing.html#returning-a-view-versus-a-copy\n",
      "/home/sc.uni-leipzig.de/ky881mhie/cer23_emo/notebooks/../preprocessing/preprocessors.py:275: SettingWithCopyWarning: \n",
      "A value is trying to be set on a copy of a slice from a DataFrame.\n",
      "Try using .loc[row_indexer,col_indexer] = value instead\n",
      "\n",
      "See the caveats in the documentation: https://pandas.pydata.org/pandas-docs/stable/user_guide/indexing.html#returning-a-view-versus-a-copy\n",
      "/home/sc.uni-leipzig.de/ky881mhie/cer23_emo/notebooks/../preprocessing/preprocessors.py:278: SettingWithCopyWarning: \n",
      "A value is trying to be set on a copy of a slice from a DataFrame.\n",
      "Try using .loc[row_indexer,col_indexer] = value instead\n",
      "\n",
      "See the caveats in the documentation: https://pandas.pydata.org/pandas-docs/stable/user_guide/indexing.html#returning-a-view-versus-a-copy\n",
      "/home/sc.uni-leipzig.de/ky881mhie/.local/lib/python3.11/site-packages/transformers/models/marian/tokenization_marian.py:194: UserWarning: Recommended: pip install sacremoses.\n",
      "/home/sc.uni-leipzig.de/ky881mhie/.local/lib/python3.11/site-packages/transformers/generation/utils.py:1369: UserWarning: Using `max_length`'s default (512) to control the generation length. This behaviour is deprecated and will be removed from the config in v5 of Transformers -- we recommend using `max_new_tokens` to control the maximum length of the generation.\n",
      "/home/sc.uni-leipzig.de/ky881mhie/cer23_emo/notebooks/../preprocessing/preprocessors.py:272: SettingWithCopyWarning: \n",
      "A value is trying to be set on a copy of a slice from a DataFrame.\n",
      "Try using .loc[row_indexer,col_indexer] = value instead\n",
      "\n",
      "See the caveats in the documentation: https://pandas.pydata.org/pandas-docs/stable/user_guide/indexing.html#returning-a-view-versus-a-copy\n",
      "/home/sc.uni-leipzig.de/ky881mhie/cer23_emo/notebooks/../preprocessing/preprocessors.py:275: SettingWithCopyWarning: \n",
      "A value is trying to be set on a copy of a slice from a DataFrame.\n",
      "Try using .loc[row_indexer,col_indexer] = value instead\n",
      "\n",
      "See the caveats in the documentation: https://pandas.pydata.org/pandas-docs/stable/user_guide/indexing.html#returning-a-view-versus-a-copy\n",
      "/home/sc.uni-leipzig.de/ky881mhie/cer23_emo/notebooks/../preprocessing/preprocessors.py:278: SettingWithCopyWarning: \n",
      "A value is trying to be set on a copy of a slice from a DataFrame.\n",
      "Try using .loc[row_indexer,col_indexer] = value instead\n",
      "\n",
      "See the caveats in the documentation: https://pandas.pydata.org/pandas-docs/stable/user_guide/indexing.html#returning-a-view-versus-a-copy\n"
     ]
    },
    {
     "data": {
      "application/vnd.jupyter.widget-view+json": {
       "model_id": "21a75a55808e4e8180b6aa360c46aba2",
       "version_major": 2,
       "version_minor": 0
      },
      "text/plain": [
       "Downloading (…)okenizer_config.json:   0%|          | 0.00/42.0 [00:00<?, ?B/s]"
      ]
     },
     "metadata": {},
     "output_type": "display_data"
    },
    {
     "data": {
      "application/vnd.jupyter.widget-view+json": {
       "model_id": "a0042a864c054e8785dda23d0c063ad0",
       "version_major": 2,
       "version_minor": 0
      },
      "text/plain": [
       "Downloading (…)lve/main/config.json:   0%|          | 0.00/1.38k [00:00<?, ?B/s]"
      ]
     },
     "metadata": {},
     "output_type": "display_data"
    },
    {
     "data": {
      "application/vnd.jupyter.widget-view+json": {
       "model_id": "773539384c914777be8eee4873b51c1e",
       "version_major": 2,
       "version_minor": 0
      },
      "text/plain": [
       "Downloading (…)olve/main/source.spm:   0%|          | 0.00/803k [00:00<?, ?B/s]"
      ]
     },
     "metadata": {},
     "output_type": "display_data"
    },
    {
     "data": {
      "application/vnd.jupyter.widget-view+json": {
       "model_id": "746bc45fec1147d4a7a932eeb359aeca",
       "version_major": 2,
       "version_minor": 0
      },
      "text/plain": [
       "Downloading (…)olve/main/target.spm:   0%|          | 0.00/1.08M [00:00<?, ?B/s]"
      ]
     },
     "metadata": {},
     "output_type": "display_data"
    },
    {
     "data": {
      "application/vnd.jupyter.widget-view+json": {
       "model_id": "f98dbe07ad37476baf0bf39d159853e8",
       "version_major": 2,
       "version_minor": 0
      },
      "text/plain": [
       "Downloading (…)olve/main/vocab.json:   0%|          | 0.00/2.60M [00:00<?, ?B/s]"
      ]
     },
     "metadata": {},
     "output_type": "display_data"
    },
    {
     "name": "stderr",
     "output_type": "stream",
     "text": [
      "/home/sc.uni-leipzig.de/ky881mhie/.local/lib/python3.11/site-packages/transformers/models/marian/tokenization_marian.py:194: UserWarning: Recommended: pip install sacremoses.\n"
     ]
    },
    {
     "data": {
      "application/vnd.jupyter.widget-view+json": {
       "model_id": "07340987d37d4d909596ef1bc0e4dfe8",
       "version_major": 2,
       "version_minor": 0
      },
      "text/plain": [
       "Downloading pytorch_model.bin:   0%|          | 0.00/307M [00:00<?, ?B/s]"
      ]
     },
     "metadata": {},
     "output_type": "display_data"
    },
    {
     "data": {
      "application/vnd.jupyter.widget-view+json": {
       "model_id": "b3b07599e7de42849eef4508a337ff97",
       "version_major": 2,
       "version_minor": 0
      },
      "text/plain": [
       "Downloading (…)neration_config.json:   0%|          | 0.00/293 [00:00<?, ?B/s]"
      ]
     },
     "metadata": {},
     "output_type": "display_data"
    },
    {
     "data": {
      "application/vnd.jupyter.widget-view+json": {
       "model_id": "a33d2dc99aab430c9132db8bc0a496a7",
       "version_major": 2,
       "version_minor": 0
      },
      "text/plain": [
       "Downloading (…)okenizer_config.json:   0%|          | 0.00/42.0 [00:00<?, ?B/s]"
      ]
     },
     "metadata": {},
     "output_type": "display_data"
    },
    {
     "data": {
      "application/vnd.jupyter.widget-view+json": {
       "model_id": "c3eaad1219cf4f53906248d65d62c39b",
       "version_major": 2,
       "version_minor": 0
      },
      "text/plain": [
       "Downloading (…)lve/main/config.json:   0%|          | 0.00/1.38k [00:00<?, ?B/s]"
      ]
     },
     "metadata": {},
     "output_type": "display_data"
    },
    {
     "data": {
      "application/vnd.jupyter.widget-view+json": {
       "model_id": "09da71c7c7f5472c8ec48114e9745a56",
       "version_major": 2,
       "version_minor": 0
      },
      "text/plain": [
       "Downloading (…)olve/main/source.spm:   0%|          | 0.00/1.08M [00:00<?, ?B/s]"
      ]
     },
     "metadata": {},
     "output_type": "display_data"
    },
    {
     "data": {
      "application/vnd.jupyter.widget-view+json": {
       "model_id": "038bc7080e86480087924626493fa412",
       "version_major": 2,
       "version_minor": 0
      },
      "text/plain": [
       "Downloading (…)olve/main/target.spm:   0%|          | 0.00/803k [00:00<?, ?B/s]"
      ]
     },
     "metadata": {},
     "output_type": "display_data"
    },
    {
     "data": {
      "application/vnd.jupyter.widget-view+json": {
       "model_id": "014fea810a1e4148a3336eaa1b20f589",
       "version_major": 2,
       "version_minor": 0
      },
      "text/plain": [
       "Downloading (…)olve/main/vocab.json:   0%|          | 0.00/2.60M [00:00<?, ?B/s]"
      ]
     },
     "metadata": {},
     "output_type": "display_data"
    },
    {
     "data": {
      "application/vnd.jupyter.widget-view+json": {
       "model_id": "5d8351a18743468eb5661cca6120adc1",
       "version_major": 2,
       "version_minor": 0
      },
      "text/plain": [
       "Downloading pytorch_model.bin:   0%|          | 0.00/307M [00:00<?, ?B/s]"
      ]
     },
     "metadata": {},
     "output_type": "display_data"
    },
    {
     "data": {
      "application/vnd.jupyter.widget-view+json": {
       "model_id": "224f210fd52643a48698f4c624ec6f11",
       "version_major": 2,
       "version_minor": 0
      },
      "text/plain": [
       "Downloading (…)neration_config.json:   0%|          | 0.00/293 [00:00<?, ?B/s]"
      ]
     },
     "metadata": {},
     "output_type": "display_data"
    },
    {
     "name": "stderr",
     "output_type": "stream",
     "text": [
      "/home/sc.uni-leipzig.de/ky881mhie/.local/lib/python3.11/site-packages/transformers/generation/utils.py:1369: UserWarning: Using `max_length`'s default (512) to control the generation length. This behaviour is deprecated and will be removed from the config in v5 of Transformers -- we recommend using `max_new_tokens` to control the maximum length of the generation.\n",
      "/home/sc.uni-leipzig.de/ky881mhie/cer23_emo/notebooks/../preprocessing/preprocessors.py:272: SettingWithCopyWarning: \n",
      "A value is trying to be set on a copy of a slice from a DataFrame.\n",
      "Try using .loc[row_indexer,col_indexer] = value instead\n",
      "\n",
      "See the caveats in the documentation: https://pandas.pydata.org/pandas-docs/stable/user_guide/indexing.html#returning-a-view-versus-a-copy\n",
      "/home/sc.uni-leipzig.de/ky881mhie/cer23_emo/notebooks/../preprocessing/preprocessors.py:275: SettingWithCopyWarning: \n",
      "A value is trying to be set on a copy of a slice from a DataFrame.\n",
      "Try using .loc[row_indexer,col_indexer] = value instead\n",
      "\n",
      "See the caveats in the documentation: https://pandas.pydata.org/pandas-docs/stable/user_guide/indexing.html#returning-a-view-versus-a-copy\n",
      "/home/sc.uni-leipzig.de/ky881mhie/cer23_emo/notebooks/../preprocessing/preprocessors.py:278: SettingWithCopyWarning: \n",
      "A value is trying to be set on a copy of a slice from a DataFrame.\n",
      "Try using .loc[row_indexer,col_indexer] = value instead\n",
      "\n",
      "See the caveats in the documentation: https://pandas.pydata.org/pandas-docs/stable/user_guide/indexing.html#returning-a-view-versus-a-copy\n"
     ]
    },
    {
     "data": {
      "application/vnd.jupyter.widget-view+json": {
       "model_id": "def8dbd9a62c4a1cb43d96e149388abe",
       "version_major": 2,
       "version_minor": 0
      },
      "text/plain": [
       "Downloading (…)okenizer_config.json:   0%|          | 0.00/42.0 [00:00<?, ?B/s]"
      ]
     },
     "metadata": {},
     "output_type": "display_data"
    },
    {
     "data": {
      "application/vnd.jupyter.widget-view+json": {
       "model_id": "a51b38f79c8d45eea164eb08655f9022",
       "version_major": 2,
       "version_minor": 0
      },
      "text/plain": [
       "Downloading (…)lve/main/config.json:   0%|          | 0.00/1.38k [00:00<?, ?B/s]"
      ]
     },
     "metadata": {},
     "output_type": "display_data"
    },
    {
     "data": {
      "application/vnd.jupyter.widget-view+json": {
       "model_id": "025dcca5c2854214bed4cfa6309e5e7c",
       "version_major": 2,
       "version_minor": 0
      },
      "text/plain": [
       "Downloading (…)olve/main/source.spm:   0%|          | 0.00/789k [00:00<?, ?B/s]"
      ]
     },
     "metadata": {},
     "output_type": "display_data"
    },
    {
     "data": {
      "application/vnd.jupyter.widget-view+json": {
       "model_id": "90aa79b3998d499ea44a55ae5f341fab",
       "version_major": 2,
       "version_minor": 0
      },
      "text/plain": [
       "Downloading (…)olve/main/target.spm:   0%|          | 0.00/814k [00:00<?, ?B/s]"
      ]
     },
     "metadata": {},
     "output_type": "display_data"
    },
    {
     "data": {
      "application/vnd.jupyter.widget-view+json": {
       "model_id": "50d05eabbeca4bc5a53c2e385478417b",
       "version_major": 2,
       "version_minor": 0
      },
      "text/plain": [
       "Downloading (…)olve/main/vocab.json:   0%|          | 0.00/2.35M [00:00<?, ?B/s]"
      ]
     },
     "metadata": {},
     "output_type": "display_data"
    },
    {
     "name": "stderr",
     "output_type": "stream",
     "text": [
      "/home/sc.uni-leipzig.de/ky881mhie/.local/lib/python3.11/site-packages/transformers/models/marian/tokenization_marian.py:194: UserWarning: Recommended: pip install sacremoses.\n"
     ]
    },
    {
     "data": {
      "application/vnd.jupyter.widget-view+json": {
       "model_id": "564e836de3d74512a74c614a7ed74dfb",
       "version_major": 2,
       "version_minor": 0
      },
      "text/plain": [
       "Downloading pytorch_model.bin:   0%|          | 0.00/343M [00:00<?, ?B/s]"
      ]
     },
     "metadata": {},
     "output_type": "display_data"
    },
    {
     "data": {
      "application/vnd.jupyter.widget-view+json": {
       "model_id": "bb815852a57b437a82769acb2d133c86",
       "version_major": 2,
       "version_minor": 0
      },
      "text/plain": [
       "Downloading (…)neration_config.json:   0%|          | 0.00/293 [00:00<?, ?B/s]"
      ]
     },
     "metadata": {},
     "output_type": "display_data"
    },
    {
     "data": {
      "application/vnd.jupyter.widget-view+json": {
       "model_id": "8e21fa1817cd4684aef58ff266001680",
       "version_major": 2,
       "version_minor": 0
      },
      "text/plain": [
       "Downloading (…)okenizer_config.json:   0%|          | 0.00/42.0 [00:00<?, ?B/s]"
      ]
     },
     "metadata": {},
     "output_type": "display_data"
    },
    {
     "data": {
      "application/vnd.jupyter.widget-view+json": {
       "model_id": "b1657ad441e34666b2aed163df791bfc",
       "version_major": 2,
       "version_minor": 0
      },
      "text/plain": [
       "Downloading (…)lve/main/config.json:   0%|          | 0.00/1.38k [00:00<?, ?B/s]"
      ]
     },
     "metadata": {},
     "output_type": "display_data"
    },
    {
     "data": {
      "application/vnd.jupyter.widget-view+json": {
       "model_id": "9e08eaae2bf04dff9ae83c89683f8650",
       "version_major": 2,
       "version_minor": 0
      },
      "text/plain": [
       "Downloading (…)olve/main/source.spm:   0%|          | 0.00/814k [00:00<?, ?B/s]"
      ]
     },
     "metadata": {},
     "output_type": "display_data"
    },
    {
     "data": {
      "application/vnd.jupyter.widget-view+json": {
       "model_id": "78ccc43d6ff84b7a9044dbe1d5c22461",
       "version_major": 2,
       "version_minor": 0
      },
      "text/plain": [
       "Downloading (…)olve/main/target.spm:   0%|          | 0.00/790k [00:00<?, ?B/s]"
      ]
     },
     "metadata": {},
     "output_type": "display_data"
    },
    {
     "data": {
      "application/vnd.jupyter.widget-view+json": {
       "model_id": "ac26b22e77044ec6bbdc389ff52937bc",
       "version_major": 2,
       "version_minor": 0
      },
      "text/plain": [
       "Downloading (…)olve/main/vocab.json:   0%|          | 0.00/2.37M [00:00<?, ?B/s]"
      ]
     },
     "metadata": {},
     "output_type": "display_data"
    },
    {
     "data": {
      "application/vnd.jupyter.widget-view+json": {
       "model_id": "7e4f3c5c35894269b098e45a1921dfda",
       "version_major": 2,
       "version_minor": 0
      },
      "text/plain": [
       "Downloading pytorch_model.bin:   0%|          | 0.00/344M [00:00<?, ?B/s]"
      ]
     },
     "metadata": {},
     "output_type": "display_data"
    },
    {
     "data": {
      "application/vnd.jupyter.widget-view+json": {
       "model_id": "39ff75c4ced444ca9008e62d7cfcf908",
       "version_major": 2,
       "version_minor": 0
      },
      "text/plain": [
       "Downloading (…)neration_config.json:   0%|          | 0.00/293 [00:00<?, ?B/s]"
      ]
     },
     "metadata": {},
     "output_type": "display_data"
    },
    {
     "name": "stderr",
     "output_type": "stream",
     "text": [
      "/home/sc.uni-leipzig.de/ky881mhie/.local/lib/python3.11/site-packages/transformers/generation/utils.py:1369: UserWarning: Using `max_length`'s default (512) to control the generation length. This behaviour is deprecated and will be removed from the config in v5 of Transformers -- we recommend using `max_new_tokens` to control the maximum length of the generation.\n",
      "/home/sc.uni-leipzig.de/ky881mhie/cer23_emo/notebooks/../preprocessing/preprocessors.py:272: SettingWithCopyWarning: \n",
      "A value is trying to be set on a copy of a slice from a DataFrame.\n",
      "Try using .loc[row_indexer,col_indexer] = value instead\n",
      "\n",
      "See the caveats in the documentation: https://pandas.pydata.org/pandas-docs/stable/user_guide/indexing.html#returning-a-view-versus-a-copy\n",
      "/home/sc.uni-leipzig.de/ky881mhie/cer23_emo/notebooks/../preprocessing/preprocessors.py:275: SettingWithCopyWarning: \n",
      "A value is trying to be set on a copy of a slice from a DataFrame.\n",
      "Try using .loc[row_indexer,col_indexer] = value instead\n",
      "\n",
      "See the caveats in the documentation: https://pandas.pydata.org/pandas-docs/stable/user_guide/indexing.html#returning-a-view-versus-a-copy\n",
      "/home/sc.uni-leipzig.de/ky881mhie/cer23_emo/notebooks/../preprocessing/preprocessors.py:278: SettingWithCopyWarning: \n",
      "A value is trying to be set on a copy of a slice from a DataFrame.\n",
      "Try using .loc[row_indexer,col_indexer] = value instead\n",
      "\n",
      "See the caveats in the documentation: https://pandas.pydata.org/pandas-docs/stable/user_guide/indexing.html#returning-a-view-versus-a-copy\n"
     ]
    },
    {
     "data": {
      "application/vnd.jupyter.widget-view+json": {
       "model_id": "613bc4ad09dc4a398d15ac6b028c3529",
       "version_major": 2,
       "version_minor": 0
      },
      "text/plain": [
       "Downloading (…)okenizer_config.json:   0%|          | 0.00/42.0 [00:00<?, ?B/s]"
      ]
     },
     "metadata": {},
     "output_type": "display_data"
    },
    {
     "data": {
      "application/vnd.jupyter.widget-view+json": {
       "model_id": "586394f80bc84f0bb7fa6aa059ab047a",
       "version_major": 2,
       "version_minor": 0
      },
      "text/plain": [
       "Downloading (…)lve/main/config.json:   0%|          | 0.00/1.38k [00:00<?, ?B/s]"
      ]
     },
     "metadata": {},
     "output_type": "display_data"
    },
    {
     "data": {
      "application/vnd.jupyter.widget-view+json": {
       "model_id": "e65e6e6215ca4f26bf3c354bfddcb9d0",
       "version_major": 2,
       "version_minor": 0
      },
      "text/plain": [
       "Downloading (…)olve/main/source.spm:   0%|          | 0.00/790k [00:00<?, ?B/s]"
      ]
     },
     "metadata": {},
     "output_type": "display_data"
    },
    {
     "data": {
      "application/vnd.jupyter.widget-view+json": {
       "model_id": "bfc94c9f1d814ba7b58550464e449351",
       "version_major": 2,
       "version_minor": 0
      },
      "text/plain": [
       "Downloading (…)olve/main/target.spm:   0%|          | 0.00/814k [00:00<?, ?B/s]"
      ]
     },
     "metadata": {},
     "output_type": "display_data"
    },
    {
     "data": {
      "application/vnd.jupyter.widget-view+json": {
       "model_id": "bcb22c05dadc4ec9977591380574a9db",
       "version_major": 2,
       "version_minor": 0
      },
      "text/plain": [
       "Downloading (…)olve/main/vocab.json:   0%|          | 0.00/1.66M [00:00<?, ?B/s]"
      ]
     },
     "metadata": {},
     "output_type": "display_data"
    },
    {
     "name": "stderr",
     "output_type": "stream",
     "text": [
      "/home/sc.uni-leipzig.de/ky881mhie/.local/lib/python3.11/site-packages/transformers/models/marian/tokenization_marian.py:194: UserWarning: Recommended: pip install sacremoses.\n"
     ]
    },
    {
     "data": {
      "application/vnd.jupyter.widget-view+json": {
       "model_id": "c0bfd3a6141947bb8dfdd9d9df0dce34",
       "version_major": 2,
       "version_minor": 0
      },
      "text/plain": [
       "Downloading pytorch_model.bin:   0%|          | 0.00/316M [00:00<?, ?B/s]"
      ]
     },
     "metadata": {},
     "output_type": "display_data"
    },
    {
     "data": {
      "application/vnd.jupyter.widget-view+json": {
       "model_id": "aea44711ee324e6baebe554eeeb3d7ee",
       "version_major": 2,
       "version_minor": 0
      },
      "text/plain": [
       "Downloading (…)neration_config.json:   0%|          | 0.00/293 [00:00<?, ?B/s]"
      ]
     },
     "metadata": {},
     "output_type": "display_data"
    },
    {
     "data": {
      "application/vnd.jupyter.widget-view+json": {
       "model_id": "416bdbb48cb74fa38f3b803cd1e98013",
       "version_major": 2,
       "version_minor": 0
      },
      "text/plain": [
       "Downloading (…)okenizer_config.json:   0%|          | 0.00/42.0 [00:00<?, ?B/s]"
      ]
     },
     "metadata": {},
     "output_type": "display_data"
    },
    {
     "data": {
      "application/vnd.jupyter.widget-view+json": {
       "model_id": "58b0bbf6fdee4c8c9f92ac552146353f",
       "version_major": 2,
       "version_minor": 0
      },
      "text/plain": [
       "Downloading (…)lve/main/config.json:   0%|          | 0.00/1.38k [00:00<?, ?B/s]"
      ]
     },
     "metadata": {},
     "output_type": "display_data"
    },
    {
     "data": {
      "application/vnd.jupyter.widget-view+json": {
       "model_id": "6c38bdfdb58a4a5e94c02817d15a2b93",
       "version_major": 2,
       "version_minor": 0
      },
      "text/plain": [
       "Downloading (…)olve/main/source.spm:   0%|          | 0.00/814k [00:00<?, ?B/s]"
      ]
     },
     "metadata": {},
     "output_type": "display_data"
    },
    {
     "data": {
      "application/vnd.jupyter.widget-view+json": {
       "model_id": "f34dc3a2492d41b7a00ddc73b222e7f7",
       "version_major": 2,
       "version_minor": 0
      },
      "text/plain": [
       "Downloading (…)olve/main/target.spm:   0%|          | 0.00/790k [00:00<?, ?B/s]"
      ]
     },
     "metadata": {},
     "output_type": "display_data"
    },
    {
     "data": {
      "application/vnd.jupyter.widget-view+json": {
       "model_id": "893a5900864d43fb87c6b101a956785d",
       "version_major": 2,
       "version_minor": 0
      },
      "text/plain": [
       "Downloading (…)olve/main/vocab.json:   0%|          | 0.00/1.66M [00:00<?, ?B/s]"
      ]
     },
     "metadata": {},
     "output_type": "display_data"
    },
    {
     "data": {
      "application/vnd.jupyter.widget-view+json": {
       "model_id": "6c42429b69c041a38d322a37aa7799d8",
       "version_major": 2,
       "version_minor": 0
      },
      "text/plain": [
       "Downloading pytorch_model.bin:   0%|          | 0.00/316M [00:00<?, ?B/s]"
      ]
     },
     "metadata": {},
     "output_type": "display_data"
    },
    {
     "data": {
      "application/vnd.jupyter.widget-view+json": {
       "model_id": "db936e54641c422080b2c2e486035270",
       "version_major": 2,
       "version_minor": 0
      },
      "text/plain": [
       "Downloading (…)neration_config.json:   0%|          | 0.00/293 [00:00<?, ?B/s]"
      ]
     },
     "metadata": {},
     "output_type": "display_data"
    },
    {
     "name": "stderr",
     "output_type": "stream",
     "text": [
      "/home/sc.uni-leipzig.de/ky881mhie/.local/lib/python3.11/site-packages/transformers/generation/utils.py:1369: UserWarning: Using `max_length`'s default (512) to control the generation length. This behaviour is deprecated and will be removed from the config in v5 of Transformers -- we recommend using `max_new_tokens` to control the maximum length of the generation.\n",
      "/home/sc.uni-leipzig.de/ky881mhie/cer23_emo/notebooks/../preprocessing/preprocessors.py:272: SettingWithCopyWarning: \n",
      "A value is trying to be set on a copy of a slice from a DataFrame.\n",
      "Try using .loc[row_indexer,col_indexer] = value instead\n",
      "\n",
      "See the caveats in the documentation: https://pandas.pydata.org/pandas-docs/stable/user_guide/indexing.html#returning-a-view-versus-a-copy\n",
      "/home/sc.uni-leipzig.de/ky881mhie/cer23_emo/notebooks/../preprocessing/preprocessors.py:275: SettingWithCopyWarning: \n",
      "A value is trying to be set on a copy of a slice from a DataFrame.\n",
      "Try using .loc[row_indexer,col_indexer] = value instead\n",
      "\n",
      "See the caveats in the documentation: https://pandas.pydata.org/pandas-docs/stable/user_guide/indexing.html#returning-a-view-versus-a-copy\n",
      "/home/sc.uni-leipzig.de/ky881mhie/cer23_emo/notebooks/../preprocessing/preprocessors.py:278: SettingWithCopyWarning: \n",
      "A value is trying to be set on a copy of a slice from a DataFrame.\n",
      "Try using .loc[row_indexer,col_indexer] = value instead\n",
      "\n",
      "See the caveats in the documentation: https://pandas.pydata.org/pandas-docs/stable/user_guide/indexing.html#returning-a-view-versus-a-copy\n"
     ]
    },
    {
     "data": {
      "application/vnd.jupyter.widget-view+json": {
       "model_id": "3dc03466f40b49f18d398f9b60011a7c",
       "version_major": 2,
       "version_minor": 0
      },
      "text/plain": [
       "Downloading (…)okenizer_config.json:   0%|          | 0.00/42.0 [00:00<?, ?B/s]"
      ]
     },
     "metadata": {},
     "output_type": "display_data"
    },
    {
     "data": {
      "application/vnd.jupyter.widget-view+json": {
       "model_id": "5dbb57f3f12241c9a1b8112a23e874d3",
       "version_major": 2,
       "version_minor": 0
      },
      "text/plain": [
       "Downloading (…)lve/main/config.json:   0%|          | 0.00/1.36k [00:00<?, ?B/s]"
      ]
     },
     "metadata": {},
     "output_type": "display_data"
    },
    {
     "data": {
      "application/vnd.jupyter.widget-view+json": {
       "model_id": "b12f3b31b4ab4a478c155a3774478a16",
       "version_major": 2,
       "version_minor": 0
      },
      "text/plain": [
       "Downloading (…)olve/main/source.spm:   0%|          | 0.00/803k [00:00<?, ?B/s]"
      ]
     },
     "metadata": {},
     "output_type": "display_data"
    },
    {
     "data": {
      "application/vnd.jupyter.widget-view+json": {
       "model_id": "bc789cdd7ce44664ab6bf47bb1da353d",
       "version_major": 2,
       "version_minor": 0
      },
      "text/plain": [
       "Downloading (…)olve/main/target.spm:   0%|          | 0.00/842k [00:00<?, ?B/s]"
      ]
     },
     "metadata": {},
     "output_type": "display_data"
    },
    {
     "data": {
      "application/vnd.jupyter.widget-view+json": {
       "model_id": "ae857c6c6b0c435b8d9113ea2cd5a601",
       "version_major": 2,
       "version_minor": 0
      },
      "text/plain": [
       "Downloading (…)olve/main/vocab.json:   0%|          | 0.00/1.59M [00:00<?, ?B/s]"
      ]
     },
     "metadata": {},
     "output_type": "display_data"
    },
    {
     "name": "stderr",
     "output_type": "stream",
     "text": [
      "/home/sc.uni-leipzig.de/ky881mhie/.local/lib/python3.11/site-packages/transformers/models/marian/tokenization_marian.py:194: UserWarning: Recommended: pip install sacremoses.\n"
     ]
    },
    {
     "data": {
      "application/vnd.jupyter.widget-view+json": {
       "model_id": "7f0407f9879c4896b04797e88c468bc0",
       "version_major": 2,
       "version_minor": 0
      },
      "text/plain": [
       "Downloading pytorch_model.bin:   0%|          | 0.00/312M [00:00<?, ?B/s]"
      ]
     },
     "metadata": {},
     "output_type": "display_data"
    },
    {
     "data": {
      "application/vnd.jupyter.widget-view+json": {
       "model_id": "a43fb1c916b0486195ed46b7d57e478f",
       "version_major": 2,
       "version_minor": 0
      },
      "text/plain": [
       "Downloading (…)neration_config.json:   0%|          | 0.00/293 [00:00<?, ?B/s]"
      ]
     },
     "metadata": {},
     "output_type": "display_data"
    },
    {
     "data": {
      "application/vnd.jupyter.widget-view+json": {
       "model_id": "1e352f09f3e44d2b81b8685656c4fc3e",
       "version_major": 2,
       "version_minor": 0
      },
      "text/plain": [
       "Downloading (…)okenizer_config.json:   0%|          | 0.00/44.0 [00:00<?, ?B/s]"
      ]
     },
     "metadata": {},
     "output_type": "display_data"
    },
    {
     "data": {
      "application/vnd.jupyter.widget-view+json": {
       "model_id": "b6c04c6ad53c4061866be3b0830cf6c9",
       "version_major": 2,
       "version_minor": 0
      },
      "text/plain": [
       "Downloading (…)lve/main/config.json:   0%|          | 0.00/1.39k [00:00<?, ?B/s]"
      ]
     },
     "metadata": {},
     "output_type": "display_data"
    },
    {
     "data": {
      "application/vnd.jupyter.widget-view+json": {
       "model_id": "f51176ef770b4db08df9d3b18ede1465",
       "version_major": 2,
       "version_minor": 0
      },
      "text/plain": [
       "Downloading (…)olve/main/source.spm:   0%|          | 0.00/832k [00:00<?, ?B/s]"
      ]
     },
     "metadata": {},
     "output_type": "display_data"
    },
    {
     "data": {
      "application/vnd.jupyter.widget-view+json": {
       "model_id": "55b9aa9bb4494de5971d700591a6098f",
       "version_major": 2,
       "version_minor": 0
      },
      "text/plain": [
       "Downloading (…)olve/main/target.spm:   0%|          | 0.00/790k [00:00<?, ?B/s]"
      ]
     },
     "metadata": {},
     "output_type": "display_data"
    },
    {
     "data": {
      "application/vnd.jupyter.widget-view+json": {
       "model_id": "ea127c78f9634721b964d3bba888be2f",
       "version_major": 2,
       "version_minor": 0
      },
      "text/plain": [
       "Downloading (…)olve/main/vocab.json:   0%|          | 0.00/1.38M [00:00<?, ?B/s]"
      ]
     },
     "metadata": {},
     "output_type": "display_data"
    },
    {
     "data": {
      "application/vnd.jupyter.widget-view+json": {
       "model_id": "23a036bb4cab479285a3b1ce09b02f74",
       "version_major": 2,
       "version_minor": 0
      },
      "text/plain": [
       "Downloading pytorch_model.bin:   0%|          | 0.00/301M [00:00<?, ?B/s]"
      ]
     },
     "metadata": {},
     "output_type": "display_data"
    },
    {
     "data": {
      "application/vnd.jupyter.widget-view+json": {
       "model_id": "a43d66c55b2a492f8d7da0a210eb3bbd",
       "version_major": 2,
       "version_minor": 0
      },
      "text/plain": [
       "Downloading (…)neration_config.json:   0%|          | 0.00/293 [00:00<?, ?B/s]"
      ]
     },
     "metadata": {},
     "output_type": "display_data"
    },
    {
     "name": "stderr",
     "output_type": "stream",
     "text": [
      "/home/sc.uni-leipzig.de/ky881mhie/.local/lib/python3.11/site-packages/transformers/generation/utils.py:1369: UserWarning: Using `max_length`'s default (512) to control the generation length. This behaviour is deprecated and will be removed from the config in v5 of Transformers -- we recommend using `max_new_tokens` to control the maximum length of the generation.\n",
      "/home/sc.uni-leipzig.de/ky881mhie/cer23_emo/notebooks/../preprocessing/preprocessors.py:272: SettingWithCopyWarning: \n",
      "A value is trying to be set on a copy of a slice from a DataFrame.\n",
      "Try using .loc[row_indexer,col_indexer] = value instead\n",
      "\n",
      "See the caveats in the documentation: https://pandas.pydata.org/pandas-docs/stable/user_guide/indexing.html#returning-a-view-versus-a-copy\n",
      "/home/sc.uni-leipzig.de/ky881mhie/cer23_emo/notebooks/../preprocessing/preprocessors.py:275: SettingWithCopyWarning: \n",
      "A value is trying to be set on a copy of a slice from a DataFrame.\n",
      "Try using .loc[row_indexer,col_indexer] = value instead\n",
      "\n",
      "See the caveats in the documentation: https://pandas.pydata.org/pandas-docs/stable/user_guide/indexing.html#returning-a-view-versus-a-copy\n",
      "/home/sc.uni-leipzig.de/ky881mhie/cer23_emo/notebooks/../preprocessing/preprocessors.py:278: SettingWithCopyWarning: \n",
      "A value is trying to be set on a copy of a slice from a DataFrame.\n",
      "Try using .loc[row_indexer,col_indexer] = value instead\n",
      "\n",
      "See the caveats in the documentation: https://pandas.pydata.org/pandas-docs/stable/user_guide/indexing.html#returning-a-view-versus-a-copy\n"
     ]
    }
   ],
   "source": [
    "backtranslated_df = backtranslated_df(sample_df)"
   ]
  },
  {
   "cell_type": "code",
   "execution_count": 13,
   "metadata": {},
   "outputs": [
    {
     "data": {
      "text/html": [
       "<div>\n",
       "<style scoped>\n",
       "    .dataframe tbody tr th:only-of-type {\n",
       "        vertical-align: middle;\n",
       "    }\n",
       "\n",
       "    .dataframe tbody tr th {\n",
       "        vertical-align: top;\n",
       "    }\n",
       "\n",
       "    .dataframe thead th {\n",
       "        text-align: right;\n",
       "    }\n",
       "</style>\n",
       "<table border=\"1\" class=\"dataframe\">\n",
       "  <thead>\n",
       "    <tr style=\"text-align: right;\">\n",
       "      <th></th>\n",
       "      <th>text</th>\n",
       "      <th>id</th>\n",
       "      <th>author</th>\n",
       "      <th>subreddit</th>\n",
       "      <th>rater_id</th>\n",
       "      <th>level0</th>\n",
       "      <th>level1</th>\n",
       "      <th>level2</th>\n",
       "      <th>level3</th>\n",
       "      <th>plutchik</th>\n",
       "    </tr>\n",
       "  </thead>\n",
       "  <tbody>\n",
       "    <tr>\n",
       "      <th>0</th>\n",
       "      <td>Or woman who would look beautiful without her ...</td>\n",
       "      <td>ed6um9g</td>\n",
       "      <td>jackalooz</td>\n",
       "      <td>WhitePeopleTwitter</td>\n",
       "      <td>35</td>\n",
       "      <td>admiration</td>\n",
       "      <td>pri_adm</td>\n",
       "      <td>pri_adm_gra_rel</td>\n",
       "      <td>pri_adm_gra_rel_app_rea</td>\n",
       "      <td>admiration</td>\n",
       "    </tr>\n",
       "    <tr>\n",
       "      <th>1</th>\n",
       "      <td>Looks like the nightingale armour from Sky rim...</td>\n",
       "      <td>ef5dv7t</td>\n",
       "      <td>LemonWedgeTheGuy</td>\n",
       "      <td>ExpectationVsReality</td>\n",
       "      <td>33</td>\n",
       "      <td>admiration</td>\n",
       "      <td>pri_adm</td>\n",
       "      <td>pri_adm_gra_rel</td>\n",
       "      <td>pri_adm_gra_rel_app_rea</td>\n",
       "      <td>admiration</td>\n",
       "    </tr>\n",
       "    <tr>\n",
       "      <th>2</th>\n",
       "      <td>[NAME] at least has a pretty face and great sk...</td>\n",
       "      <td>eezzs4q</td>\n",
       "      <td>badbatch</td>\n",
       "      <td>loveafterlockup</td>\n",
       "      <td>23</td>\n",
       "      <td>admiration</td>\n",
       "      <td>pri_adm</td>\n",
       "      <td>pri_adm_gra_rel</td>\n",
       "      <td>pri_adm_gra_rel_app_rea</td>\n",
       "      <td>admiration</td>\n",
       "    </tr>\n",
       "    <tr>\n",
       "      <th>3</th>\n",
       "      <td>Real nice, swearing up a storm right in front ...</td>\n",
       "      <td>edw9jvd</td>\n",
       "      <td>Mochipants</td>\n",
       "      <td>My600lbLife</td>\n",
       "      <td>5</td>\n",
       "      <td>admiration</td>\n",
       "      <td>pri_adm</td>\n",
       "      <td>pri_adm_gra_rel</td>\n",
       "      <td>pri_adm_gra_rel_app_rea</td>\n",
       "      <td>admiration</td>\n",
       "    </tr>\n",
       "    <tr>\n",
       "      <th>4</th>\n",
       "      <td>omg [NAME] is so pretty</td>\n",
       "      <td>edcnd0l</td>\n",
       "      <td>tomfoolery_69</td>\n",
       "      <td>vanderpumprules</td>\n",
       "      <td>33</td>\n",
       "      <td>admiration</td>\n",
       "      <td>pri_adm</td>\n",
       "      <td>pri_adm_gra_rel</td>\n",
       "      <td>pri_adm_gra_rel_app_rea</td>\n",
       "      <td>admiration</td>\n",
       "    </tr>\n",
       "    <tr>\n",
       "      <th>...</th>\n",
       "      <td>...</td>\n",
       "      <td>...</td>\n",
       "      <td>...</td>\n",
       "      <td>...</td>\n",
       "      <td>...</td>\n",
       "      <td>...</td>\n",
       "      <td>...</td>\n",
       "      <td>...</td>\n",
       "      <td>...</td>\n",
       "      <td>...</td>\n",
       "    </tr>\n",
       "    <tr>\n",
       "      <th>2237</th>\n",
       "      <td>&lt;unk&gt; nta spiritotons, the miglior contratto d...</td>\n",
       "      <td>ef54wy8_it</td>\n",
       "      <td>DraziBlack</td>\n",
       "      <td>leafs</td>\n",
       "      <td>11</td>\n",
       "      <td>grief</td>\n",
       "      <td>grief</td>\n",
       "      <td>dis_sad_gri</td>\n",
       "      <td>rem_emb_dis_sad_gri</td>\n",
       "      <td>grief</td>\n",
       "    </tr>\n",
       "    <tr>\n",
       "      <th>2238</th>\n",
       "      <td>I'm sorry about your grandmother.</td>\n",
       "      <td>ednta6j_nl</td>\n",
       "      <td>partytimetyler</td>\n",
       "      <td>AskMenOver30</td>\n",
       "      <td>12</td>\n",
       "      <td>grief</td>\n",
       "      <td>grief</td>\n",
       "      <td>dis_sad_gri</td>\n",
       "      <td>rem_emb_dis_sad_gri</td>\n",
       "      <td>grief</td>\n",
       "    </tr>\n",
       "    <tr>\n",
       "      <th>2239</th>\n",
       "      <td>He was great, the best contract ever, so sad w...</td>\n",
       "      <td>ef54wy8_nl</td>\n",
       "      <td>DraziBlack</td>\n",
       "      <td>leafs</td>\n",
       "      <td>11</td>\n",
       "      <td>grief</td>\n",
       "      <td>grief</td>\n",
       "      <td>dis_sad_gri</td>\n",
       "      <td>rem_emb_dis_sad_gri</td>\n",
       "      <td>grief</td>\n",
       "    </tr>\n",
       "    <tr>\n",
       "      <th>2240</th>\n",
       "      <td>»■ tavalla Damn iloinen, että voitE.</td>\n",
       "      <td>ednta6j_fi</td>\n",
       "      <td>partytimetyler</td>\n",
       "      <td>AskMenOver30</td>\n",
       "      <td>12</td>\n",
       "      <td>grief</td>\n",
       "      <td>grief</td>\n",
       "      <td>dis_sad_gri</td>\n",
       "      <td>rem_emb_dis_sad_gri</td>\n",
       "      <td>grief</td>\n",
       "    </tr>\n",
       "    <tr>\n",
       "      <th>2241</th>\n",
       "      <td>»■ tavalla Hän suorittaa, L sopimus, jos tiles...</td>\n",
       "      <td>ef54wy8_fi</td>\n",
       "      <td>DraziBlack</td>\n",
       "      <td>leafs</td>\n",
       "      <td>11</td>\n",
       "      <td>grief</td>\n",
       "      <td>grief</td>\n",
       "      <td>dis_sad_gri</td>\n",
       "      <td>rem_emb_dis_sad_gri</td>\n",
       "      <td>grief</td>\n",
       "    </tr>\n",
       "  </tbody>\n",
       "</table>\n",
       "<p>2242 rows × 10 columns</p>\n",
       "</div>"
      ],
      "text/plain": [
       "                                                   text          id  \\\n",
       "0     Or woman who would look beautiful without her ...     ed6um9g   \n",
       "1     Looks like the nightingale armour from Sky rim...     ef5dv7t   \n",
       "2     [NAME] at least has a pretty face and great sk...     eezzs4q   \n",
       "3     Real nice, swearing up a storm right in front ...     edw9jvd   \n",
       "4                               omg [NAME] is so pretty     edcnd0l   \n",
       "...                                                 ...         ...   \n",
       "2237  <unk> nta spiritotons, the miglior contratto d...  ef54wy8_it   \n",
       "2238                  I'm sorry about your grandmother.  ednta6j_nl   \n",
       "2239  He was great, the best contract ever, so sad w...  ef54wy8_nl   \n",
       "2240               »■ tavalla Damn iloinen, että voitE.  ednta6j_fi   \n",
       "2241  »■ tavalla Hän suorittaa, L sopimus, jos tiles...  ef54wy8_fi   \n",
       "\n",
       "                author             subreddit  rater_id      level0   level1  \\\n",
       "0            jackalooz    WhitePeopleTwitter        35  admiration  pri_adm   \n",
       "1     LemonWedgeTheGuy  ExpectationVsReality        33  admiration  pri_adm   \n",
       "2             badbatch       loveafterlockup        23  admiration  pri_adm   \n",
       "3           Mochipants           My600lbLife         5  admiration  pri_adm   \n",
       "4        tomfoolery_69       vanderpumprules        33  admiration  pri_adm   \n",
       "...                ...                   ...       ...         ...      ...   \n",
       "2237        DraziBlack                 leafs        11       grief    grief   \n",
       "2238    partytimetyler          AskMenOver30        12       grief    grief   \n",
       "2239        DraziBlack                 leafs        11       grief    grief   \n",
       "2240    partytimetyler          AskMenOver30        12       grief    grief   \n",
       "2241        DraziBlack                 leafs        11       grief    grief   \n",
       "\n",
       "               level2                   level3    plutchik  \n",
       "0     pri_adm_gra_rel  pri_adm_gra_rel_app_rea  admiration  \n",
       "1     pri_adm_gra_rel  pri_adm_gra_rel_app_rea  admiration  \n",
       "2     pri_adm_gra_rel  pri_adm_gra_rel_app_rea  admiration  \n",
       "3     pri_adm_gra_rel  pri_adm_gra_rel_app_rea  admiration  \n",
       "4     pri_adm_gra_rel  pri_adm_gra_rel_app_rea  admiration  \n",
       "...               ...                      ...         ...  \n",
       "2237      dis_sad_gri      rem_emb_dis_sad_gri       grief  \n",
       "2238      dis_sad_gri      rem_emb_dis_sad_gri       grief  \n",
       "2239      dis_sad_gri      rem_emb_dis_sad_gri       grief  \n",
       "2240      dis_sad_gri      rem_emb_dis_sad_gri       grief  \n",
       "2241      dis_sad_gri      rem_emb_dis_sad_gri       grief  \n",
       "\n",
       "[2242 rows x 10 columns]"
      ]
     },
     "execution_count": 13,
     "metadata": {},
     "output_type": "execute_result"
    }
   ],
   "source": [
    "backtranslated_df"
   ]
  },
  {
   "cell_type": "code",
   "execution_count": 28,
   "metadata": {},
   "outputs": [
    {
     "data": {
      "application/vnd.jupyter.widget-view+json": {
       "model_id": "f477fc9598e44fc8a66e96dd154476b8",
       "version_major": 2,
       "version_minor": 0
      },
      "text/plain": [
       "Downloading (…)okenizer_config.json:   0%|          | 0.00/42.0 [00:00<?, ?B/s]"
      ]
     },
     "metadata": {},
     "output_type": "display_data"
    },
    {
     "data": {
      "application/vnd.jupyter.widget-view+json": {
       "model_id": "1b01cf1f3c954b96afddafb5106d2387",
       "version_major": 2,
       "version_minor": 0
      },
      "text/plain": [
       "Downloading (…)lve/main/config.json:   0%|          | 0.00/1.38k [00:00<?, ?B/s]"
      ]
     },
     "metadata": {},
     "output_type": "display_data"
    },
    {
     "data": {
      "application/vnd.jupyter.widget-view+json": {
       "model_id": "09d2199cede04ebb80a076f3cd7a4562",
       "version_major": 2,
       "version_minor": 0
      },
      "text/plain": [
       "Downloading (…)olve/main/source.spm:   0%|          | 0.00/788k [00:00<?, ?B/s]"
      ]
     },
     "metadata": {},
     "output_type": "display_data"
    },
    {
     "data": {
      "application/vnd.jupyter.widget-view+json": {
       "model_id": "34b94b6fa9314aa988fe7b336c8219f1",
       "version_major": 2,
       "version_minor": 0
      },
      "text/plain": [
       "Downloading (…)olve/main/target.spm:   0%|          | 0.00/820k [00:00<?, ?B/s]"
      ]
     },
     "metadata": {},
     "output_type": "display_data"
    },
    {
     "data": {
      "application/vnd.jupyter.widget-view+json": {
       "model_id": "ec9e3b19c5744b18bf276d7240b301e7",
       "version_major": 2,
       "version_minor": 0
      },
      "text/plain": [
       "Downloading (…)olve/main/vocab.json:   0%|          | 0.00/1.38M [00:00<?, ?B/s]"
      ]
     },
     "metadata": {},
     "output_type": "display_data"
    },
    {
     "name": "stderr",
     "output_type": "stream",
     "text": [
      "/home/sc.uni-leipzig.de/ky881mhie/.local/lib/python3.11/site-packages/transformers/models/marian/tokenization_marian.py:194: UserWarning: Recommended: pip install sacremoses.\n"
     ]
    },
    {
     "data": {
      "application/vnd.jupyter.widget-view+json": {
       "model_id": "e849bf12b3df4c30bef1822c522aa890",
       "version_major": 2,
       "version_minor": 0
      },
      "text/plain": [
       "Downloading pytorch_model.bin:   0%|          | 0.00/300M [00:00<?, ?B/s]"
      ]
     },
     "metadata": {},
     "output_type": "display_data"
    },
    {
     "data": {
      "application/vnd.jupyter.widget-view+json": {
       "model_id": "8e13a2510009436c8917daf3837dc403",
       "version_major": 2,
       "version_minor": 0
      },
      "text/plain": [
       "Downloading (…)neration_config.json:   0%|          | 0.00/293 [00:00<?, ?B/s]"
      ]
     },
     "metadata": {},
     "output_type": "display_data"
    },
    {
     "data": {
      "application/vnd.jupyter.widget-view+json": {
       "model_id": "4292c06a90a347db8fcf39de0cb2b446",
       "version_major": 2,
       "version_minor": 0
      },
      "text/plain": [
       "Downloading (…)okenizer_config.json:   0%|          | 0.00/42.0 [00:00<?, ?B/s]"
      ]
     },
     "metadata": {},
     "output_type": "display_data"
    },
    {
     "data": {
      "application/vnd.jupyter.widget-view+json": {
       "model_id": "3c544d3049c14a4dafde86adc7beac14",
       "version_major": 2,
       "version_minor": 0
      },
      "text/plain": [
       "Downloading (…)lve/main/config.json:   0%|          | 0.00/1.38k [00:00<?, ?B/s]"
      ]
     },
     "metadata": {},
     "output_type": "display_data"
    },
    {
     "data": {
      "application/vnd.jupyter.widget-view+json": {
       "model_id": "80007669d0ca4984981253d1e8ad6dbf",
       "version_major": 2,
       "version_minor": 0
      },
      "text/plain": [
       "Downloading (…)olve/main/source.spm:   0%|          | 0.00/820k [00:00<?, ?B/s]"
      ]
     },
     "metadata": {},
     "output_type": "display_data"
    },
    {
     "data": {
      "application/vnd.jupyter.widget-view+json": {
       "model_id": "c9efa115924e464793f6adc703017cf0",
       "version_major": 2,
       "version_minor": 0
      },
      "text/plain": [
       "Downloading (…)olve/main/target.spm:   0%|          | 0.00/788k [00:00<?, ?B/s]"
      ]
     },
     "metadata": {},
     "output_type": "display_data"
    },
    {
     "data": {
      "application/vnd.jupyter.widget-view+json": {
       "model_id": "aff738ea9eb0499dac9d8ba8d856cbf3",
       "version_major": 2,
       "version_minor": 0
      },
      "text/plain": [
       "Downloading (…)olve/main/vocab.json:   0%|          | 0.00/1.38M [00:00<?, ?B/s]"
      ]
     },
     "metadata": {},
     "output_type": "display_data"
    },
    {
     "data": {
      "application/vnd.jupyter.widget-view+json": {
       "model_id": "43b01d3f21be4a35a43026c129154758",
       "version_major": 2,
       "version_minor": 0
      },
      "text/plain": [
       "Downloading pytorch_model.bin:   0%|          | 0.00/300M [00:00<?, ?B/s]"
      ]
     },
     "metadata": {},
     "output_type": "display_data"
    },
    {
     "data": {
      "application/vnd.jupyter.widget-view+json": {
       "model_id": "928136a0f86b4e98b10683c2b36d12d6",
       "version_major": 2,
       "version_minor": 0
      },
      "text/plain": [
       "Downloading (…)neration_config.json:   0%|          | 0.00/293 [00:00<?, ?B/s]"
      ]
     },
     "metadata": {},
     "output_type": "display_data"
    },
    {
     "name": "stderr",
     "output_type": "stream",
     "text": [
      "/home/sc.uni-leipzig.de/ky881mhie/.local/lib/python3.11/site-packages/transformers/generation/utils.py:1369: UserWarning: Using `max_length`'s default (512) to control the generation length. This behaviour is deprecated and will be removed from the config in v5 of Transformers -- we recommend using `max_new_tokens` to control the maximum length of the generation.\n",
      "/home/sc.uni-leipzig.de/ky881mhie/cer23_emo/notebooks/../preprocessing/preprocessors.py:272: SettingWithCopyWarning: \n",
      "A value is trying to be set on a copy of a slice from a DataFrame.\n",
      "Try using .loc[row_indexer,col_indexer] = value instead\n",
      "\n",
      "See the caveats in the documentation: https://pandas.pydata.org/pandas-docs/stable/user_guide/indexing.html#returning-a-view-versus-a-copy\n",
      "/home/sc.uni-leipzig.de/ky881mhie/cer23_emo/notebooks/../preprocessing/preprocessors.py:275: SettingWithCopyWarning: \n",
      "A value is trying to be set on a copy of a slice from a DataFrame.\n",
      "Try using .loc[row_indexer,col_indexer] = value instead\n",
      "\n",
      "See the caveats in the documentation: https://pandas.pydata.org/pandas-docs/stable/user_guide/indexing.html#returning-a-view-versus-a-copy\n",
      "/home/sc.uni-leipzig.de/ky881mhie/cer23_emo/notebooks/../preprocessing/preprocessors.py:278: SettingWithCopyWarning: \n",
      "A value is trying to be set on a copy of a slice from a DataFrame.\n",
      "Try using .loc[row_indexer,col_indexer] = value instead\n",
      "\n",
      "See the caveats in the documentation: https://pandas.pydata.org/pandas-docs/stable/user_guide/indexing.html#returning-a-view-versus-a-copy\n"
     ]
    },
    {
     "data": {
      "text/html": [
       "<div>\n",
       "<style scoped>\n",
       "    .dataframe tbody tr th:only-of-type {\n",
       "        vertical-align: middle;\n",
       "    }\n",
       "\n",
       "    .dataframe tbody tr th {\n",
       "        vertical-align: top;\n",
       "    }\n",
       "\n",
       "    .dataframe thead th {\n",
       "        text-align: right;\n",
       "    }\n",
       "</style>\n",
       "<table border=\"1\" class=\"dataframe\">\n",
       "  <thead>\n",
       "    <tr style=\"text-align: right;\">\n",
       "      <th></th>\n",
       "      <th>text</th>\n",
       "      <th>id</th>\n",
       "      <th>author</th>\n",
       "      <th>subreddit</th>\n",
       "      <th>rater_id</th>\n",
       "      <th>level0</th>\n",
       "      <th>level1</th>\n",
       "      <th>level2</th>\n",
       "      <th>level3</th>\n",
       "      <th>plutchik</th>\n",
       "    </tr>\n",
       "  </thead>\n",
       "  <tbody>\n",
       "    <tr>\n",
       "      <th>85165</th>\n",
       "      <td>I'm glad you're feeling better.</td>\n",
       "      <td>ednta6j_da</td>\n",
       "      <td>partytimetyler</td>\n",
       "      <td>AskMenOver30</td>\n",
       "      <td>12</td>\n",
       "      <td>grief</td>\n",
       "      <td>grief</td>\n",
       "      <td>dis_sad_gri</td>\n",
       "      <td>rem_emb_dis_sad_gri</td>\n",
       "      <td>grief</td>\n",
       "    </tr>\n",
       "    <tr>\n",
       "      <th>15929</th>\n",
       "      <td>He was just amazing, the best contract ever, s...</td>\n",
       "      <td>ef54wy8_da</td>\n",
       "      <td>DraziBlack</td>\n",
       "      <td>leafs</td>\n",
       "      <td>11</td>\n",
       "      <td>grief</td>\n",
       "      <td>grief</td>\n",
       "      <td>dis_sad_gri</td>\n",
       "      <td>rem_emb_dis_sad_gri</td>\n",
       "      <td>grief</td>\n",
       "    </tr>\n",
       "  </tbody>\n",
       "</table>\n",
       "</div>"
      ],
      "text/plain": [
       "                                                    text          id  \\\n",
       "85165                    I'm glad you're feeling better.  ednta6j_da   \n",
       "15929  He was just amazing, the best contract ever, s...  ef54wy8_da   \n",
       "\n",
       "               author     subreddit  rater_id level0 level1       level2  \\\n",
       "85165  partytimetyler  AskMenOver30        12  grief  grief  dis_sad_gri   \n",
       "15929      DraziBlack         leafs        11  grief  grief  dis_sad_gri   \n",
       "\n",
       "                    level3 plutchik  \n",
       "85165  rem_emb_dis_sad_gri    grief  \n",
       "15929  rem_emb_dis_sad_gri    grief  "
      ]
     },
     "execution_count": 28,
     "metadata": {},
     "output_type": "execute_result"
    }
   ],
   "source": [
    "src_model_name = [\"Helsinki-NLP/opus-mt-en-fr\", \"Helsinki-NLP/opus-mt-en-de\", \"Helsinki-NLP/opus-mt-en-es\", \"Helsinki-NLP/opus-mt-en-da\", \"Helsinki-NLP/opus-mt-en-sv\", \"Helsinki-NLP/opus-mt-en-ru\", \"Helsinki-NLP/opus-mt-en-id\", \"Helsinki-NLP/opus-mt-en-nl\", \"Helsinki-NLP/opus-mt-en-cs\"]\n",
    "tgt_model_name = [\"Helsinki-NLP/opus-mt-fr-en\", \"Helsinki-NLP/opus-mt-de-en\", \"Helsinki-NLP/opus-mt-es-en\", \"Helsinki-NLP/opus-mt-da-en\", \"Helsinki-NLP/opus-mt-sv-en\", \"Helsinki-NLP/opus-mt-ru-en\", \"Helsinki-NLP/opus-mt-id-en\", \"Helsinki-NLP/opus-mt-nl-en\", \"Helsinki-NLP/opus-mt-cs-en\"]\n",
    "language_short = [\"_fr\", \"_de\", \"_es\", \"_da\", \"_sv\", \"_ru\", \"_id\", \"_nl\", \"_cs\"]\n",
    "nr = 3\n",
    "example = bracktranslate_emo(sample_df[sample_df['level0'] == 'grief'], language_short[nr], src_model_name[nr], tgt_model_name[nr])\n",
    "example"
   ]
  },
  {
   "cell_type": "code",
   "execution_count": 14,
   "metadata": {},
   "outputs": [
    {
     "name": "stdout",
     "output_type": "stream",
     "text": [
      "level0\n",
      "neutral           873\n",
      "admiration        155\n",
      "gratitude         130\n",
      "approval          103\n",
      "amusement          93\n",
      "love               81\n",
      "disapproval        78\n",
      "curiosity          71\n",
      "annoyance          70\n",
      "anger              56\n",
      "confusion          47\n",
      "optimism           47\n",
      "joy                45\n",
      "sadness            41\n",
      "surprise           39\n",
      "caring             35\n",
      "disappointment     34\n",
      "realization        30\n",
      "disgust            26\n",
      "excitement         25\n",
      "embarrassment      22\n",
      "fear               22\n",
      "desire             21\n",
      "grief              20\n",
      "nervousness        20\n",
      "relief             20\n",
      "remorse            20\n",
      "pride              18\n",
      "Name: count, dtype: int64\n"
     ]
    }
   ],
   "source": [
    "# check if data set is balanced\n",
    "classCounts_0 = backtranslated_df.level0.value_counts() \n",
    "print(classCounts_0)"
   ]
  },
  {
   "cell_type": "markdown",
   "metadata": {},
   "source": [
    "### BERT for level 0 -> 27 emotions\n",
    "following: https://huggingface.co/docs/transformers/tasks/sequence_classification"
   ]
  },
  {
   "cell_type": "code",
   "execution_count": null,
   "metadata": {},
   "outputs": [],
   "source": [
    "clustered_df.level0.unique()"
   ]
  },
  {
   "cell_type": "code",
   "execution_count": null,
   "metadata": {},
   "outputs": [],
   "source": [
    "from transformers import AutoTokenizer\n",
    "tokenizer = AutoTokenizer.from_pretrained(\"distilbert-base-uncased\") # no differentiation between upper and lower case"
   ]
  },
  {
   "cell_type": "code",
   "execution_count": null,
   "metadata": {},
   "outputs": [],
   "source": [
    "id2label = {0: 'sadness', 1: 'neutral', 2: 'love', 3: 'gratitude', 4: 'disapproval',\n",
    "       5: 'amusement', 6: 'disappointment', 7: 'realization', 8: 'admiration', 9:\n",
    "       'annoyance', 10: 'confusion', 11: 'optimism', 12: 'excitement', 13: 'caring',\n",
    "       14: 'remorse', 15: 'joy', 16: 'approval', 17: 'embarrassment', 18: 'surprise',\n",
    "       19: 'curiosity', 20: 'anger', 21: 'grief', 22: 'disgust', 23: 'pride', 24: 'desire',\n",
    "       25: 'relief', 26: 'fear', 27: 'nervousness'}\n",
    "label2id = {'sadness': 0, 'neutral': 1, 'love': 2, 'gratitude': 3, 'disapproval': 4,\n",
    "       'amusement': 5, 'disappointment': 6, 'realization': 7, 'admiration': 8,\n",
    "       'annoyance': 9, 'confusion': 10, 'optimism': 11, 'excitement': 12, 'caring': 13,\n",
    "       'remorse': 14, 'joy': 15, 'approval': 16, 'embarrassment': 17, 'surprise': 18,\n",
    "       'curiosity': 19, 'anger': 20, 'grief': 21, 'disgust': 22, 'pride': 23, 'desire': 24,\n",
    "       'relief': 25, 'fear': 26, 'nervousness': 27}"
   ]
  },
  {
   "cell_type": "code",
   "execution_count": null,
   "metadata": {},
   "outputs": [],
   "source": [
    "# create a sample for lokal tests\n",
    "dataset = clustered_df.sample(n=1000, replace=False, random_state=123)\n",
    "dataset[\"label\"] = dataset[\"level0\"].map(label2id.get) # to add column label map individual entries of emotions to ID\n",
    "dataset"
   ]
  },
  {
   "cell_type": "code",
   "execution_count": null,
   "metadata": {},
   "outputs": [],
   "source": [
    "# split the training data\n",
    "from datasets import Dataset\n",
    "\n",
    "training_data = dataset.groupby(\"level0\").sample(frac=0.8, random_state=25) # stratified sampling\n",
    "testing_data = dataset.drop(training_data.index)\n",
    "\n",
    "training_data = Dataset.from_pandas(training_data) # create transformers compatible dataset from dataframe\n",
    "testing_data = Dataset.from_pandas(testing_data)\n",
    "\n",
    "def tokenize_function(examples): # replace representation of data, convert column text to tensor-based representation\n",
    "    return tokenizer(examples[\"text\"], padding=\"max_length\", truncation=True)\n",
    "\n",
    "tokenized_training_data = training_data.map(tokenize_function, batched=True) # convert text to tensor form\n",
    "tokenized_testing_data = testing_data.map(tokenize_function, batched=True)"
   ]
  },
  {
   "cell_type": "code",
   "execution_count": null,
   "metadata": {},
   "outputs": [],
   "source": [
    "tokenized_training_data"
   ]
  },
  {
   "cell_type": "code",
   "execution_count": null,
   "metadata": {},
   "outputs": [],
   "source": [
    "pd.options.display.max_colwidth = None # default value is 50, max would be \"None\"\n",
    "pd.set_option('display.max_rows', 50) # default value is 10, max would be \"None\"\n",
    "\n",
    "annoyance_example = random.sample(list(dataset.id[dataset.level0 == \"annoyance\"]), k=1) # example for annoyance\n",
    "dataset.query('id==@annoyance_example')  \n"
   ]
  },
  {
   "cell_type": "code",
   "execution_count": null,
   "metadata": {},
   "outputs": [],
   "source": [
    "desire_example = random.sample(list(dataset.id[dataset.level0 == \"desire\"]), k=1) # example for desire\n",
    "dataset.query('id==@desire_example') "
   ]
  },
  {
   "cell_type": "code",
   "execution_count": 49,
   "metadata": {},
   "outputs": [
    {
     "name": "stdout",
     "output_type": "stream",
     "text": [
      "neutral           17458\n",
      "admiration         3102\n",
      "gratitude          2595\n",
      "approval           2058\n",
      "amusement          1857\n",
      "love               1624\n",
      "disapproval        1563\n",
      "curiosity          1411\n",
      "annoyance          1408\n",
      "anger              1121\n",
      "optimism            943\n",
      "confusion           941\n",
      "joy                 895\n",
      "sadness             829\n",
      "surprise            777\n",
      "caring              704\n",
      "disappointment      673\n",
      "realization         602\n",
      "disgust             514\n",
      "excitement          503\n",
      "fear                433\n",
      "desire              420\n",
      "remorse             406\n",
      "embarrassment       229\n",
      "relief              103\n",
      "nervousness          99\n",
      "pride                69\n",
      "grief                42\n",
      "Name: level0, dtype: int64\n"
     ]
    }
   ],
   "source": [
    "# check if data set is balanced\n",
    "classCounts = distinct_df.level0.value_counts() \n",
    "print(classCounts)\n",
    "# -> not balanced"
   ]
  },
  {
   "cell_type": "code",
   "execution_count": null,
   "metadata": {},
   "outputs": [],
   "source": [
    "numberOfDocuments = len(dataset)\n",
    "numberOfDocuments"
   ]
  },
  {
   "cell_type": "code",
   "execution_count": null,
   "metadata": {},
   "outputs": [],
   "source": [
    "\"\"\"\n",
    "#Classifier\n",
    "from huggingface_hub import notebook_login\n",
    "notebook_login()\n",
    "\"\"\""
   ]
  },
  {
   "cell_type": "code",
   "execution_count": null,
   "metadata": {},
   "outputs": [],
   "source": [
    "from transformers import DataCollatorWithPadding\n",
    "data_collator = DataCollatorWithPadding(tokenizer=tokenizer) # Padding -> map all tensors to the same size\n",
    "data_collator"
   ]
  },
  {
   "cell_type": "code",
   "execution_count": null,
   "metadata": {},
   "outputs": [],
   "source": [
    "accuracy = evaluate.load(\"accuracy\") # define evaluation method -> quality"
   ]
  },
  {
   "cell_type": "code",
   "execution_count": null,
   "metadata": {},
   "outputs": [],
   "source": [
    "def compute_metrics(eval_pred): # function calculation metric\n",
    "\n",
    "    predictions, labels = eval_pred\n",
    "    predictions = np.argmax(predictions, axis=1)\n",
    "    return accuracy.compute(predictions=predictions, references=labels)"
   ]
  },
  {
   "cell_type": "code",
   "execution_count": null,
   "metadata": {},
   "outputs": [],
   "source": [
    "from transformers import AutoModelForSequenceClassification, TrainingArguments, Trainer\n",
    "model = AutoModelForSequenceClassification.from_pretrained(\n",
    "    \"distilbert-base-uncased\", num_labels=28, id2label=id2label, label2id=label2id\n",
    ")"
   ]
  },
  {
   "cell_type": "code",
   "execution_count": null,
   "metadata": {},
   "outputs": [],
   "source": [
    "# training\n",
    "\n",
    "training_args = TrainingArguments(\n",
    "    output_dir=\"../models/model_level0\",\n",
    "    learning_rate=2e-5,  # standard\n",
    "    per_device_train_batch_size=16, # size in which chunks are entered into the network, on how many data parallel weights are trained\n",
    "    per_device_eval_batch_size=16,\n",
    "    num_train_epochs=10,\n",
    "    weight_decay=0.01,\n",
    "    evaluation_strategy=\"epoch\", # save model per epoch\n",
    "    save_strategy=\"epoch\",\n",
    "    load_best_model_at_end=True,\n",
    "    push_to_hub=False #,\n",
    "    #label_names=[\"level0\"],\n",
    ")\n",
    "\n",
    "# IMPORTANT: Set: Model, dataset, ... , define learning process, metrics, ...\n",
    "\n",
    "trainer = Trainer(\n",
    "    model=model,\n",
    "    args=training_args,\n",
    "    train_dataset=tokenized_training_data,\n",
    "    eval_dataset=tokenized_testing_data,\n",
    "    tokenizer=tokenizer,\n",
    "    data_collator=data_collator,\n",
    "    compute_metrics=compute_metrics  \n",
    ")\n",
    "\n",
    "#checkpointing\n",
    "#use cuda\n",
    "trainer.train()"
   ]
  },
  {
   "cell_type": "code",
   "execution_count": null,
   "metadata": {},
   "outputs": [],
   "source": [
    "trainer.save_model(\"../models/model_level0_sample\")"
   ]
  },
  {
   "cell_type": "code",
   "execution_count": null,
   "metadata": {},
   "outputs": [],
   "source": [
    "classifier = pipeline(\"text-classification\", model=\"../models/model_level0_sample\",device=0) # method pipeline -> sting for textclassificaton, folder, device (graphics card)\n",
    "results = [classifier(text,truncation=True) for text in tqdm(dataset.text.to_list())] # listcomprehension over all texts, tokenization in model, truncation -> padding too long texts"
   ]
  },
  {
   "cell_type": "code",
   "execution_count": null,
   "metadata": {},
   "outputs": [],
   "source": [
    "results = [tmp[0] for tmp in results]"
   ]
  },
  {
   "cell_type": "code",
   "execution_count": null,
   "metadata": {},
   "outputs": [],
   "source": [
    "results # list of dictionaries with labels, score -> decision and how high activation function for decision was\n",
    "pd.DataFrame(results).to_pickle(\"../results/results_level0_sample.pkl\")  # convert as dataframe, pick, safe"
   ]
  },
  {
   "cell_type": "markdown",
   "metadata": {},
   "source": [
    "### Evaluation"
   ]
  },
  {
   "cell_type": "code",
   "execution_count": null,
   "metadata": {},
   "outputs": [],
   "source": [
    "df_results = pd.DataFrame.from_dict(results)\n",
    "df_id =  pd.DataFrame(dataset[\"id\"])\n",
    "df_id = df_id.reset_index()\n",
    "df_results[\"id\"] = df_id[\"id\"]\n",
    "df_results"
   ]
  },
  {
   "cell_type": "code",
   "execution_count": null,
   "metadata": {},
   "outputs": [],
   "source": [
    "data_classifies = pd.merge(dataset, df_results, on='id', how='left')\n",
    "\n",
    "# merge classified data with original training data\n",
    "# combine data with training data, concatenate results results and training data\n",
    "# compare -> calculate f1"
   ]
  },
  {
   "cell_type": "code",
   "execution_count": null,
   "metadata": {},
   "outputs": [],
   "source": [
    "data_classifies.to_pickle(\"../results/data_classified_level0_sample.pkl\")  \n",
    "# data_classifies = pd.read_pickle(\"../results/data_classified_level0_1epoch.pkl\")"
   ]
  },
  {
   "cell_type": "code",
   "execution_count": null,
   "metadata": {},
   "outputs": [],
   "source": [
    "data_classifies # contain goldstandard and ergbnis cluster -> calculate F1, Precision, Recall\n",
    "# label -> assigned by classifier (?????)\n",
    "# level0 -> original label"
   ]
  },
  {
   "cell_type": "code",
   "execution_count": null,
   "metadata": {},
   "outputs": [],
   "source": [
    "test_data = data_classifies.query(f'id in {tokenized_testing_data[\"id\"]}')\n",
    "# tokenized_testing_data: daten der Testdaten"
   ]
  },
  {
   "cell_type": "code",
   "execution_count": null,
   "metadata": {},
   "outputs": [],
   "source": [
    "target_names = ['sadness', 'neutral', 'love', 'gratitude', 'disapproval',\n",
    "       'amusement', 'disappointment', 'realization', 'admiration',\n",
    "       'annoyance', 'confusion', 'optimism', 'excitement', 'caring',\n",
    "       'remorse', 'joy', 'approval', 'embarrassment', 'surprise',\n",
    "       'curiosity', 'anger', 'grief', 'disgust', 'pride', 'desire',\n",
    "       'relief', 'fear', 'nervousness']\n",
    "print(classification_report(test_data.level0, test_data.label_y, target_names=target_names))\n",
    "# level0 -> gold standard , label -> prediction"
   ]
  },
  {
   "cell_type": "code",
   "execution_count": null,
   "metadata": {},
   "outputs": [],
   "source": [
    "pd.DataFrame.from_dict(results)"
   ]
  },
  {
   "cell_type": "code",
   "execution_count": null,
   "metadata": {},
   "outputs": [],
   "source": [
    "#Final Classification/Viz\n",
    "#final = pd.concat([dataset, pd.DataFrame.from_dict(results)],axis=1) # attach classified label to data\n",
    "final = data_classifies.copy()\n",
    "final['label_y'].value_counts()/final['label_y'].value_counts().sum() # ratio"
   ]
  },
  {
   "cell_type": "markdown",
   "metadata": {},
   "source": [
    "### Translation for backtranslation"
   ]
  },
  {
   "cell_type": "code",
   "execution_count": null,
   "metadata": {},
   "outputs": [],
   "source": [
    "from transformers import AutoModelForSeq2SeqLM, AutoTokenizer\n",
    "\n",
    "# two pre-trained translation models: source language and target language\n",
    "src_model_name = [\"Helsinki-NLP/opus-mt-en-fr\", \"Helsinki-NLP/opus-mt-en-de\", \"Helsinki-NLP/opus-mt-en-es\", \"Helsinki-NLP/opus-mt-en-zh\", \"Helsinki-NLP/opus-mt-en-vi\", \"Helsinki-NLP/opus-mt-en-ru\", \"Helsinki-NLP/opus-mt-en-it\", \"Helsinki-NLP/opus-mt-en-nl\", \"Helsinki-NLP/opus-mt-en-fi\"]\n",
    "tgt_model_name = [\"Helsinki-NLP/opus-mt-fr-en\", \"Helsinki-NLP/opus-mt-de-en\", \"Helsinki-NLP/opus-mt-es-en\", \"Helsinki-NLP/opus-mt-zh-en\", \"Helsinki-NLP/opus-mt-vi-en\", \"Helsinki-NLP/opus-mt-ru-en\", \"Helsinki-NLP/opus-mt-it-en\", \"Helsinki-NLP/opus-mt-nl-en\", \"Helsinki-NLP/opus-mt-fi-en\"]\n",
    "language_short = [\"_fr\", \"_de\", \"_es\", \"_zh\", \"_vi\", \"_ru\", \"_it\", \"_nl\", \"_fi\"]\n",
    "\n",
    "language_nr = 8\n",
    "\n",
    "src_tokenizer = AutoTokenizer.from_pretrained(src_model_name[language_nr])\n",
    "src_model = AutoModelForSeq2SeqLM.from_pretrained(src_model_name[language_nr])\n",
    "\n",
    "tgt_tokenizer = AutoTokenizer.from_pretrained(tgt_model_name[language_nr])\n",
    "tgt_model = AutoModelForSeq2SeqLM.from_pretrained(tgt_model_name[language_nr])\n"
   ]
  },
  {
   "cell_type": "code",
   "execution_count": null,
   "metadata": {},
   "outputs": [],
   "source": [
    "def bracktranslate_emo(df, language, src_model_name, tgt_model_name):\n",
    "\n",
    "    src_tokenizer = AutoTokenizer.from_pretrained(src_model_name)\n",
    "    src_model = AutoModelForSeq2SeqLM.from_pretrained(src_model_name)\n",
    "\n",
    "    tgt_tokenizer = AutoTokenizer.from_pretrained(tgt_model_name)\n",
    "    tgt_model = AutoModelForSeq2SeqLM.from_pretrained(tgt_model_name)\n",
    "\n",
    "    def backtranslate(text, src_tokenizer, src_model, tgt_tokenizer, tgt_model):\n",
    "        # Translate source text to the target language\n",
    "        src_input = src_tokenizer(text, return_tensors=\"pt\", padding=True, truncation=True)\n",
    "        tgt_translation = src_model.generate(**src_input)\n",
    "        tgt_translation_text = tgt_tokenizer.decode(tgt_translation[0], skip_special_tokens=True)\n",
    "        \n",
    "        # Translate target translation back to the source language\n",
    "        tgt_input = tgt_tokenizer(tgt_translation_text, return_tensors=\"pt\", padding=True, truncation=True)\n",
    "        src_backtranslation = tgt_model.generate(**tgt_input)\n",
    "        src_backtranslation_text = src_tokenizer.decode(src_backtranslation[0], skip_special_tokens=True)\n",
    "        \n",
    "        return src_backtranslation_text #, tgt_translation_text\n",
    "\n",
    "    # Apply backtranslation to the 'text' column\n",
    "    df['text'] = df['text'].apply(lambda x: backtranslate(x, src_tokenizer, src_model, tgt_tokenizer, tgt_model))\n",
    "\n",
    "    #remove ▁ from subword tokenization\n",
    "    df['text'] = df['text'].str.replace(\"▁\", \" \")\n",
    "\n",
    "    # Add \"_fr\" to the id column for backtranslated rows\n",
    "    df['id'] = df['id'] + language\n",
    "    \n",
    "    return df\n"
   ]
  },
  {
   "cell_type": "code",
   "execution_count": null,
   "metadata": {},
   "outputs": [],
   "source": [
    "def backtranslate(text, src_tokenizer, src_model, tgt_tokenizer, tgt_model):\n",
    "    # Translate source text to the target language\n",
    "    src_input = src_tokenizer(text, return_tensors=\"pt\", padding=True, truncation=True)\n",
    "    tgt_translation = src_model.generate(**src_input)\n",
    "    tgt_translation_text = tgt_tokenizer.decode(tgt_translation[0], skip_special_tokens=True)\n",
    "    \n",
    "    # Translate target translation back to the source language\n",
    "    tgt_input = tgt_tokenizer(tgt_translation_text, return_tensors=\"pt\", padding=True, truncation=True)\n",
    "    src_backtranslation = tgt_model.generate(**tgt_input)\n",
    "    src_backtranslation_text = src_tokenizer.decode(src_backtranslation[0], skip_special_tokens=True)\n",
    "    \n",
    "    return src_backtranslation_text #, tgt_translation_text\n"
   ]
  },
  {
   "cell_type": "code",
   "execution_count": null,
   "metadata": {},
   "outputs": [],
   "source": [
    "# Sample DataFrame (replace this with your actual DataFrame)\n",
    "data = {\n",
    "    'text': [\"That game hurt.\", \"You do right, if you don't care then fuck 'em!\", \"Man I love reddit.\"],\n",
    "    'id': [\"eew5j0j\", \"ed2mah1\", \"eeibobj\"],\n",
    "    'author': [\"Brdd9\", \"Labalool\", \"MrsRobertshaw\"],\n",
    "    'subreddit': [\"nrl\", \"confessions\", \"facepalm\"],\n",
    "    'rater_id': [1, 37, 18],\n",
    "    'level0': [\"sadness\", \"neutral\", \"love\"],\n",
    "    'level1': [\"dis_sad\", \"neutral\", \"love\"],\n",
    "    'level2': [\"dis_sad_gri\", \"neutral\", \"exc_joy_lov\"],\n",
    "    'level3': [\"rem_emb_dis_sad_gri\", \"neutral\", \"amu_exc_joy_lov\"],\n",
    "    'plutchik': [\"grief\", \"neutral\", \"love\"]\n",
    "}\n",
    "\n",
    "df = pd.DataFrame(data)"
   ]
  },
  {
   "cell_type": "code",
   "execution_count": null,
   "metadata": {},
   "outputs": [],
   "source": [
    "# Apply backtranslation to the 'text' column\n",
    "df['backtranslated_text'] = df['text'].apply(lambda x: backtranslate(x, src_tokenizer, src_model, tgt_tokenizer, tgt_model))\n",
    "\n",
    "#remove ▁ from subword tokenization\n",
    "df['backtranslated_text'] = df['backtranslated_text'].str.replace(\"▁\", \" \")\n",
    "\n",
    "# Display the resulting DataFrame\n",
    "df\n"
   ]
  },
  {
   "cell_type": "code",
   "execution_count": null,
   "metadata": {},
   "outputs": [],
   "source": [
    "# Filter texts with \"sadness\" as level0\n",
    "sadness_texts = df[df['level0'] == 'sadness']\n",
    "# Add \"_fr\" to the id column for backtranslated rows\n",
    "sadness_texts['id'] = sadness_texts['id'] + \"_fr\"\n",
    "sadness_texts"
   ]
  },
  {
   "cell_type": "code",
   "execution_count": null,
   "metadata": {},
   "outputs": [],
   "source": [
    "# language_short = [\"_fr\", \"_de\", \"_es\", \"_zh\", \"_vi\", \"_ru\", \"_it\", \"_nl\", \"_fi\"]\n",
    "\n",
    "\"\"\"\n",
    "embarrassment       229\n",
    "relief              103\n",
    "nervousness          99\n",
    "pride                69\n",
    "grief                42\n",
    "\"\"\""
   ]
  },
  {
   "cell_type": "code",
   "execution_count": null,
   "metadata": {},
   "outputs": [],
   "source": [
    "embarrassment_fr = bracktranslate_emo(distinct_df['level0'] == 'embarrassment', language_short[0], src_model_name[0], tgt_model_name[0])"
   ]
  },
  {
   "cell_type": "code",
   "execution_count": null,
   "metadata": {},
   "outputs": [],
   "source": [
    "relief_fr = bracktranslate_emo(distinct_df['level0'] == 'relief', language_short[0], src_model_name[0], tgt_model_name[0])\n",
    "relief_de = bracktranslate_emo(distinct_df['level0'] == 'relief', language_short[1], src_model_name[1], tgt_model_name[1])\n",
    "relief_es = bracktranslate_emo(distinct_df['level0'] == 'relief', language_short[2], src_model_name[2], tgt_model_name[2])"
   ]
  },
  {
   "cell_type": "code",
   "execution_count": null,
   "metadata": {},
   "outputs": [],
   "source": [
    "nervousness_fr = bracktranslate_emo(distinct_df['level0'] == 'nervousness', language_short[0], src_model_name[0], tgt_model_name[0])\n",
    "nervousness_de = bracktranslate_emo(distinct_df['level0'] == 'nervousness', language_short[1], src_model_name[1], tgt_model_name[1])\n",
    "nervousness_es = bracktranslate_emo(distinct_df['level0'] == 'nervousness', language_short[2], src_model_name[2], tgt_model_name[2])"
   ]
  },
  {
   "cell_type": "code",
   "execution_count": null,
   "metadata": {},
   "outputs": [],
   "source": [
    "pride_fr = bracktranslate_emo(distinct_df['level0'] == 'pride', language_short[0], src_model_name[0], tgt_model_name[0])\n",
    "pride_de = bracktranslate_emo(distinct_df['level0'] == 'pride', language_short[1], src_model_name[1], tgt_model_name[1])\n",
    "pride_es = bracktranslate_emo(distinct_df['level0'] == 'pride', language_short[2], src_model_name[2], tgt_model_name[2])\n",
    "pride_zh = bracktranslate_emo(distinct_df['level0'] == 'pride', language_short[3], src_model_name[3], tgt_model_name[3])\n",
    "pride_vi = bracktranslate_emo(distinct_df['level0'] == 'pride', language_short[4], src_model_name[4], tgt_model_name[4])"
   ]
  },
  {
   "cell_type": "code",
   "execution_count": null,
   "metadata": {},
   "outputs": [],
   "source": [
    "grief_fr = bracktranslate_emo(distinct_df['level0'] == 'grief', language_short[0], src_model_name[0], tgt_model_name[0])\n",
    "grief_de = bracktranslate_emo(distinct_df['level0'] == 'grief', language_short[1], src_model_name[1], tgt_model_name[1])\n",
    "grief_es = bracktranslate_emo(distinct_df['level0'] == 'grief', language_short[2], src_model_name[2], tgt_model_name[2])\n",
    "grief_zh = bracktranslate_emo(distinct_df['level0'] == 'grief', language_short[3], src_model_name[3], tgt_model_name[3])\n",
    "grief_vi = bracktranslate_emo(distinct_df['level0'] == 'grief', language_short[4], src_model_name[4], tgt_model_name[4])\n",
    "grief_ru = bracktranslate_emo(distinct_df['level0'] == 'grief', language_short[5], src_model_name[5], tgt_model_name[5])\n",
    "grief_it = bracktranslate_emo(distinct_df['level0'] == 'grief', language_short[6], src_model_name[6], tgt_model_name[6])\n",
    "grief_nl = bracktranslate_emo(distinct_df['level0'] == 'grief', language_short[7], src_model_name[7], tgt_model_name[7])\n",
    "grief_fi = bracktranslate_emo(distinct_df['level0'] == 'grief', language_short[8], src_model_name[8], tgt_model_name[8])"
   ]
  },
  {
   "cell_type": "markdown",
   "metadata": {},
   "source": [
    "### Looking at the Results"
   ]
  },
  {
   "cell_type": "code",
   "execution_count": 4,
   "metadata": {},
   "outputs": [
    {
     "data": {
      "text/html": [
       "<div>\n",
       "<style scoped>\n",
       "    .dataframe tbody tr th:only-of-type {\n",
       "        vertical-align: middle;\n",
       "    }\n",
       "\n",
       "    .dataframe tbody tr th {\n",
       "        vertical-align: top;\n",
       "    }\n",
       "\n",
       "    .dataframe thead th {\n",
       "        text-align: right;\n",
       "    }\n",
       "</style>\n",
       "<table border=\"1\" class=\"dataframe\">\n",
       "  <thead>\n",
       "    <tr style=\"text-align: right;\">\n",
       "      <th></th>\n",
       "      <th>Unnamed: 0</th>\n",
       "      <th>precision</th>\n",
       "      <th>recall</th>\n",
       "      <th>f1-score</th>\n",
       "      <th>support</th>\n",
       "    </tr>\n",
       "  </thead>\n",
       "  <tbody>\n",
       "    <tr>\n",
       "      <th>0</th>\n",
       "      <td>admiration</td>\n",
       "      <td>0.672464</td>\n",
       "      <td>0.748387</td>\n",
       "      <td>0.708397</td>\n",
       "      <td>620.000000</td>\n",
       "    </tr>\n",
       "    <tr>\n",
       "      <th>1</th>\n",
       "      <td>amusement</td>\n",
       "      <td>0.695260</td>\n",
       "      <td>0.830189</td>\n",
       "      <td>0.756757</td>\n",
       "      <td>371.000000</td>\n",
       "    </tr>\n",
       "    <tr>\n",
       "      <th>2</th>\n",
       "      <td>anger</td>\n",
       "      <td>0.444954</td>\n",
       "      <td>0.433036</td>\n",
       "      <td>0.438914</td>\n",
       "      <td>224.000000</td>\n",
       "    </tr>\n",
       "    <tr>\n",
       "      <th>3</th>\n",
       "      <td>annoyance</td>\n",
       "      <td>0.329412</td>\n",
       "      <td>0.198582</td>\n",
       "      <td>0.247788</td>\n",
       "      <td>282.000000</td>\n",
       "    </tr>\n",
       "    <tr>\n",
       "      <th>4</th>\n",
       "      <td>approval</td>\n",
       "      <td>0.465217</td>\n",
       "      <td>0.259709</td>\n",
       "      <td>0.333333</td>\n",
       "      <td>412.000000</td>\n",
       "    </tr>\n",
       "    <tr>\n",
       "      <th>5</th>\n",
       "      <td>caring</td>\n",
       "      <td>0.410072</td>\n",
       "      <td>0.404255</td>\n",
       "      <td>0.407143</td>\n",
       "      <td>141.000000</td>\n",
       "    </tr>\n",
       "    <tr>\n",
       "      <th>6</th>\n",
       "      <td>confusion</td>\n",
       "      <td>0.524138</td>\n",
       "      <td>0.404255</td>\n",
       "      <td>0.456456</td>\n",
       "      <td>188.000000</td>\n",
       "    </tr>\n",
       "    <tr>\n",
       "      <th>7</th>\n",
       "      <td>curiosity</td>\n",
       "      <td>0.516026</td>\n",
       "      <td>0.570922</td>\n",
       "      <td>0.542088</td>\n",
       "      <td>282.000000</td>\n",
       "    </tr>\n",
       "    <tr>\n",
       "      <th>8</th>\n",
       "      <td>desire</td>\n",
       "      <td>0.615385</td>\n",
       "      <td>0.571429</td>\n",
       "      <td>0.592593</td>\n",
       "      <td>84.000000</td>\n",
       "    </tr>\n",
       "    <tr>\n",
       "      <th>9</th>\n",
       "      <td>disappointment</td>\n",
       "      <td>0.290323</td>\n",
       "      <td>0.200000</td>\n",
       "      <td>0.236842</td>\n",
       "      <td>135.000000</td>\n",
       "    </tr>\n",
       "    <tr>\n",
       "      <th>10</th>\n",
       "      <td>disapproval</td>\n",
       "      <td>0.367164</td>\n",
       "      <td>0.392971</td>\n",
       "      <td>0.379630</td>\n",
       "      <td>313.000000</td>\n",
       "    </tr>\n",
       "    <tr>\n",
       "      <th>11</th>\n",
       "      <td>disgust</td>\n",
       "      <td>0.469027</td>\n",
       "      <td>0.514563</td>\n",
       "      <td>0.490741</td>\n",
       "      <td>103.000000</td>\n",
       "    </tr>\n",
       "    <tr>\n",
       "      <th>12</th>\n",
       "      <td>embarrassment</td>\n",
       "      <td>0.574468</td>\n",
       "      <td>0.586957</td>\n",
       "      <td>0.580645</td>\n",
       "      <td>46.000000</td>\n",
       "    </tr>\n",
       "    <tr>\n",
       "      <th>13</th>\n",
       "      <td>excitement</td>\n",
       "      <td>0.472222</td>\n",
       "      <td>0.336634</td>\n",
       "      <td>0.393064</td>\n",
       "      <td>101.000000</td>\n",
       "    </tr>\n",
       "    <tr>\n",
       "      <th>14</th>\n",
       "      <td>fear</td>\n",
       "      <td>0.707865</td>\n",
       "      <td>0.724138</td>\n",
       "      <td>0.715909</td>\n",
       "      <td>87.000000</td>\n",
       "    </tr>\n",
       "    <tr>\n",
       "      <th>15</th>\n",
       "      <td>gratitude</td>\n",
       "      <td>0.897881</td>\n",
       "      <td>0.897881</td>\n",
       "      <td>0.897881</td>\n",
       "      <td>519.000000</td>\n",
       "    </tr>\n",
       "    <tr>\n",
       "      <th>16</th>\n",
       "      <td>grief</td>\n",
       "      <td>0.000000</td>\n",
       "      <td>0.000000</td>\n",
       "      <td>0.000000</td>\n",
       "      <td>8.000000</td>\n",
       "    </tr>\n",
       "    <tr>\n",
       "      <th>17</th>\n",
       "      <td>joy</td>\n",
       "      <td>0.540541</td>\n",
       "      <td>0.558659</td>\n",
       "      <td>0.549451</td>\n",
       "      <td>179.000000</td>\n",
       "    </tr>\n",
       "    <tr>\n",
       "      <th>18</th>\n",
       "      <td>love</td>\n",
       "      <td>0.727735</td>\n",
       "      <td>0.880000</td>\n",
       "      <td>0.796657</td>\n",
       "      <td>325.000000</td>\n",
       "    </tr>\n",
       "    <tr>\n",
       "      <th>19</th>\n",
       "      <td>nervousness</td>\n",
       "      <td>0.384615</td>\n",
       "      <td>0.250000</td>\n",
       "      <td>0.303030</td>\n",
       "      <td>20.000000</td>\n",
       "    </tr>\n",
       "    <tr>\n",
       "      <th>20</th>\n",
       "      <td>neutral</td>\n",
       "      <td>0.686563</td>\n",
       "      <td>0.734536</td>\n",
       "      <td>0.709740</td>\n",
       "      <td>3492.000000</td>\n",
       "    </tr>\n",
       "    <tr>\n",
       "      <th>21</th>\n",
       "      <td>optimism</td>\n",
       "      <td>0.593750</td>\n",
       "      <td>0.603175</td>\n",
       "      <td>0.598425</td>\n",
       "      <td>189.000000</td>\n",
       "    </tr>\n",
       "    <tr>\n",
       "      <th>22</th>\n",
       "      <td>pride</td>\n",
       "      <td>0.000000</td>\n",
       "      <td>0.000000</td>\n",
       "      <td>0.000000</td>\n",
       "      <td>14.000000</td>\n",
       "    </tr>\n",
       "    <tr>\n",
       "      <th>23</th>\n",
       "      <td>realization</td>\n",
       "      <td>0.500000</td>\n",
       "      <td>0.150000</td>\n",
       "      <td>0.230769</td>\n",
       "      <td>120.000000</td>\n",
       "    </tr>\n",
       "    <tr>\n",
       "      <th>24</th>\n",
       "      <td>relief</td>\n",
       "      <td>0.000000</td>\n",
       "      <td>0.000000</td>\n",
       "      <td>0.000000</td>\n",
       "      <td>21.000000</td>\n",
       "    </tr>\n",
       "    <tr>\n",
       "      <th>25</th>\n",
       "      <td>remorse</td>\n",
       "      <td>0.670103</td>\n",
       "      <td>0.802469</td>\n",
       "      <td>0.730337</td>\n",
       "      <td>81.000000</td>\n",
       "    </tr>\n",
       "    <tr>\n",
       "      <th>26</th>\n",
       "      <td>sadness</td>\n",
       "      <td>0.628788</td>\n",
       "      <td>0.500000</td>\n",
       "      <td>0.557047</td>\n",
       "      <td>166.000000</td>\n",
       "    </tr>\n",
       "    <tr>\n",
       "      <th>27</th>\n",
       "      <td>surprise</td>\n",
       "      <td>0.532338</td>\n",
       "      <td>0.690323</td>\n",
       "      <td>0.601124</td>\n",
       "      <td>155.000000</td>\n",
       "    </tr>\n",
       "    <tr>\n",
       "      <th>28</th>\n",
       "      <td>accuracy</td>\n",
       "      <td>0.634939</td>\n",
       "      <td>0.634939</td>\n",
       "      <td>0.634939</td>\n",
       "      <td>0.634939</td>\n",
       "    </tr>\n",
       "    <tr>\n",
       "      <th>29</th>\n",
       "      <td>macro avg</td>\n",
       "      <td>0.489868</td>\n",
       "      <td>0.472967</td>\n",
       "      <td>0.473384</td>\n",
       "      <td>8678.000000</td>\n",
       "    </tr>\n",
       "    <tr>\n",
       "      <th>30</th>\n",
       "      <td>weighted avg</td>\n",
       "      <td>0.618649</td>\n",
       "      <td>0.634939</td>\n",
       "      <td>0.621656</td>\n",
       "      <td>8678.000000</td>\n",
       "    </tr>\n",
       "  </tbody>\n",
       "</table>\n",
       "</div>"
      ],
      "text/plain": [
       "        Unnamed: 0  precision    recall  f1-score      support\n",
       "0       admiration   0.672464  0.748387  0.708397   620.000000\n",
       "1        amusement   0.695260  0.830189  0.756757   371.000000\n",
       "2            anger   0.444954  0.433036  0.438914   224.000000\n",
       "3        annoyance   0.329412  0.198582  0.247788   282.000000\n",
       "4         approval   0.465217  0.259709  0.333333   412.000000\n",
       "5           caring   0.410072  0.404255  0.407143   141.000000\n",
       "6        confusion   0.524138  0.404255  0.456456   188.000000\n",
       "7        curiosity   0.516026  0.570922  0.542088   282.000000\n",
       "8           desire   0.615385  0.571429  0.592593    84.000000\n",
       "9   disappointment   0.290323  0.200000  0.236842   135.000000\n",
       "10     disapproval   0.367164  0.392971  0.379630   313.000000\n",
       "11         disgust   0.469027  0.514563  0.490741   103.000000\n",
       "12   embarrassment   0.574468  0.586957  0.580645    46.000000\n",
       "13      excitement   0.472222  0.336634  0.393064   101.000000\n",
       "14            fear   0.707865  0.724138  0.715909    87.000000\n",
       "15       gratitude   0.897881  0.897881  0.897881   519.000000\n",
       "16           grief   0.000000  0.000000  0.000000     8.000000\n",
       "17             joy   0.540541  0.558659  0.549451   179.000000\n",
       "18            love   0.727735  0.880000  0.796657   325.000000\n",
       "19     nervousness   0.384615  0.250000  0.303030    20.000000\n",
       "20         neutral   0.686563  0.734536  0.709740  3492.000000\n",
       "21        optimism   0.593750  0.603175  0.598425   189.000000\n",
       "22           pride   0.000000  0.000000  0.000000    14.000000\n",
       "23     realization   0.500000  0.150000  0.230769   120.000000\n",
       "24          relief   0.000000  0.000000  0.000000    21.000000\n",
       "25         remorse   0.670103  0.802469  0.730337    81.000000\n",
       "26         sadness   0.628788  0.500000  0.557047   166.000000\n",
       "27        surprise   0.532338  0.690323  0.601124   155.000000\n",
       "28        accuracy   0.634939  0.634939  0.634939     0.634939\n",
       "29       macro avg   0.489868  0.472967  0.473384  8678.000000\n",
       "30    weighted avg   0.618649  0.634939  0.621656  8678.000000"
      ]
     },
     "execution_count": 4,
     "metadata": {},
     "output_type": "execute_result"
    }
   ],
   "source": [
    "level0_report = pd.read_csv(\"../results/bert_base_cased/model_level0_report.csv\")\n",
    "level0_report"
   ]
  }
 ],
 "metadata": {
  "kernelspec": {
   "display_name": "Python 3.11",
   "language": "python",
   "name": "python3"
  },
  "language_info": {
   "codemirror_mode": {
    "name": "ipython",
    "version": 3
   },
   "file_extension": ".py",
   "mimetype": "text/x-python",
   "name": "python",
   "nbconvert_exporter": "python",
   "pygments_lexer": "ipython3",
   "version": "3.11.4"
  }
 },
 "nbformat": 4,
 "nbformat_minor": 4
}
